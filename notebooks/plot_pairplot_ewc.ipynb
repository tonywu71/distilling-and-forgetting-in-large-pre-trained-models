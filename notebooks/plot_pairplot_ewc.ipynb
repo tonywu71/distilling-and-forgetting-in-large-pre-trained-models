{
 "cells": [
  {
   "cell_type": "markdown",
   "id": "38c58aa0-3f71-47bb-bf63-9140c9a70d63",
   "metadata": {
    "tags": []
   },
   "source": [
    "## Imports"
   ]
  },
  {
   "cell_type": "code",
   "execution_count": 1,
   "id": "968af2c4-3a45-478a-ae82-316544ebd9d1",
   "metadata": {},
   "outputs": [],
   "source": [
    "%load_ext autoreload\n",
    "%autoreload 2"
   ]
  },
  {
   "cell_type": "code",
   "execution_count": 2,
   "id": "078b2ada-ad82-4978-aa16-77b86a1d04fc",
   "metadata": {},
   "outputs": [
    {
     "name": "stdout",
     "output_type": "stream",
     "text": [
      "/Users/Tony/Other Docs/distilling-and-forgetting-in-large-pre-trained-models\n"
     ]
    }
   ],
   "source": [
    "%cd ..\n",
    "import os, sys\n",
    "sys.path.insert(0, os.path.dirname(os.path.dirname(os.path.abspath(os.getcwd()))))"
   ]
  },
  {
   "cell_type": "code",
   "execution_count": 3,
   "id": "f081ebed-aaa4-4f56-9c67-338a80f9b7dc",
   "metadata": {},
   "outputs": [],
   "source": [
    "from pathlib import Path\n",
    "\n",
    "import numpy as np\n",
    "import pandas as pd\n",
    "\n",
    "import matplotlib.pyplot as plt\n",
    "import seaborn as sns\n",
    "\n",
    "sns.set_theme(context=\"paper\", style=\"ticks\")\n",
    "\n",
    "OUTPUT_DIR = Path(\"notebooks/outputs/ewc/\")\n",
    "OUTPUT_DIR.mkdir(parents=True, exist_ok=True)"
   ]
  },
  {
   "cell_type": "markdown",
   "id": "c345756e-a187-4247-bed8-5ed5150ba795",
   "metadata": {},
   "source": [
    "## Load data"
   ]
  },
  {
   "cell_type": "code",
   "execution_count": 4,
   "id": "9fc300ed-4435-4cdc-9297-32655e12157e",
   "metadata": {},
   "outputs": [
    {
     "data": {
      "text/html": [
       "<div>\n",
       "<style scoped>\n",
       "    .dataframe tbody tr th:only-of-type {\n",
       "        vertical-align: middle;\n",
       "    }\n",
       "\n",
       "    .dataframe tbody tr th {\n",
       "        vertical-align: top;\n",
       "    }\n",
       "\n",
       "    .dataframe thead th {\n",
       "        text-align: right;\n",
       "    }\n",
       "</style>\n",
       "<table border=\"1\" class=\"dataframe\">\n",
       "  <thead>\n",
       "    <tr style=\"text-align: right;\">\n",
       "      <th></th>\n",
       "      <th>lambda</th>\n",
       "      <th>WER AMI (%)</th>\n",
       "      <th>WER MLS French (%)</th>\n",
       "    </tr>\n",
       "  </thead>\n",
       "  <tbody>\n",
       "    <tr>\n",
       "      <th>0</th>\n",
       "      <td>0.0001</td>\n",
       "      <td>22.51</td>\n",
       "      <td>48.87</td>\n",
       "    </tr>\n",
       "    <tr>\n",
       "      <th>1</th>\n",
       "      <td>0.0010</td>\n",
       "      <td>25.87</td>\n",
       "      <td>41.13</td>\n",
       "    </tr>\n",
       "    <tr>\n",
       "      <th>2</th>\n",
       "      <td>0.0100</td>\n",
       "      <td>26.47</td>\n",
       "      <td>40.41</td>\n",
       "    </tr>\n",
       "    <tr>\n",
       "      <th>3</th>\n",
       "      <td>0.1000</td>\n",
       "      <td>27.67</td>\n",
       "      <td>39.62</td>\n",
       "    </tr>\n",
       "    <tr>\n",
       "      <th>4</th>\n",
       "      <td>1.0000</td>\n",
       "      <td>27.15</td>\n",
       "      <td>38.55</td>\n",
       "    </tr>\n",
       "  </tbody>\n",
       "</table>\n",
       "</div>"
      ],
      "text/plain": [
       "   lambda  WER AMI (%)  WER MLS French (%)\n",
       "0  0.0001        22.51               48.87\n",
       "1  0.0010        25.87               41.13\n",
       "2  0.0100        26.47               40.41\n",
       "3  0.1000        27.67               39.62\n",
       "4  1.0000        27.15               38.55"
      ]
     },
     "execution_count": 4,
     "metadata": {},
     "output_type": "execute_result"
    }
   ],
   "source": [
    "ewc_hpt_filepath = \"notebooks/data/ewc_preserve_all/ewc_preserve_all_wer_wrt_lambda.csv\"\n",
    "df_ewc = pd.read_csv(ewc_hpt_filepath)\n",
    "df_ewc[\"lambda\"] = df_ewc[\"lambda\"].astype('category')\n",
    "df_ewc"
   ]
  },
  {
   "cell_type": "code",
   "execution_count": 5,
   "id": "cea9f28c-40c0-4d88-ad23-3912338d450f",
   "metadata": {},
   "outputs": [
    {
     "data": {
      "text/html": [
       "<div>\n",
       "<style scoped>\n",
       "    .dataframe tbody tr th:only-of-type {\n",
       "        vertical-align: middle;\n",
       "    }\n",
       "\n",
       "    .dataframe tbody tr th {\n",
       "        vertical-align: top;\n",
       "    }\n",
       "\n",
       "    .dataframe thead th {\n",
       "        text-align: right;\n",
       "    }\n",
       "</style>\n",
       "<table border=\"1\" class=\"dataframe\">\n",
       "  <thead>\n",
       "    <tr style=\"text-align: right;\">\n",
       "      <th></th>\n",
       "      <th>steps</th>\n",
       "      <th>WER AMI (%)</th>\n",
       "      <th>WER MLS French (%)</th>\n",
       "    </tr>\n",
       "  </thead>\n",
       "  <tbody>\n",
       "    <tr>\n",
       "      <th>0</th>\n",
       "      <td>0</td>\n",
       "      <td>27.73</td>\n",
       "      <td>37.27</td>\n",
       "    </tr>\n",
       "    <tr>\n",
       "      <th>1</th>\n",
       "      <td>600</td>\n",
       "      <td>24.00</td>\n",
       "      <td>41.78</td>\n",
       "    </tr>\n",
       "    <tr>\n",
       "      <th>2</th>\n",
       "      <td>1200</td>\n",
       "      <td>22.49</td>\n",
       "      <td>46.15</td>\n",
       "    </tr>\n",
       "    <tr>\n",
       "      <th>3</th>\n",
       "      <td>1800</td>\n",
       "      <td>23.13</td>\n",
       "      <td>50.57</td>\n",
       "    </tr>\n",
       "    <tr>\n",
       "      <th>4</th>\n",
       "      <td>2400</td>\n",
       "      <td>21.29</td>\n",
       "      <td>52.42</td>\n",
       "    </tr>\n",
       "    <tr>\n",
       "      <th>5</th>\n",
       "      <td>3000</td>\n",
       "      <td>20.59</td>\n",
       "      <td>59.93</td>\n",
       "    </tr>\n",
       "  </tbody>\n",
       "</table>\n",
       "</div>"
      ],
      "text/plain": [
       "   steps  WER AMI (%)  WER MLS French (%)\n",
       "0      0        27.73               37.27\n",
       "1    600        24.00               41.78\n",
       "2   1200        22.49               46.15\n",
       "3   1800        23.13               50.57\n",
       "4   2400        21.29               52.42\n",
       "5   3000        20.59               59.93"
      ]
     },
     "execution_count": 5,
     "metadata": {},
     "output_type": "execute_result"
    }
   ],
   "source": [
    "finetune_forgetting_filepath = \"notebooks/data/ewc_preserve_all/finetune_forgetting.csv\"\n",
    "df_vanilla = pd.read_csv(finetune_forgetting_filepath)\n",
    "df_vanilla"
   ]
  },
  {
   "cell_type": "code",
   "execution_count": 6,
   "id": "998f39ae-185f-4e08-9bee-3fb601faab7a",
   "metadata": {},
   "outputs": [],
   "source": [
    "x_col = \"WER AMI (%)\"\n",
    "y_col = \"WER MLS French (%)\""
   ]
  },
  {
   "cell_type": "code",
   "execution_count": 7,
   "id": "221da6ad-8b29-4238-90bd-6d1e13c84088",
   "metadata": {},
   "outputs": [
    {
     "data": {
      "text/plain": [
       "<Axes: xlabel='WER AMI (%)', ylabel='WER MLS French (%)'>"
      ]
     },
     "execution_count": 7,
     "metadata": {},
     "output_type": "execute_result"
    },
    {
     "data": {
      "image/png": "[encoded data removed]",
      "text/plain": [
       "<Figure size 640x480 with 1 Axes>"
      ]
     },
     "metadata": {},
     "output_type": "display_data"
    }
   ],
   "source": [
    "sns.scatterplot(data=df_ewc, x=x_col, y=y_col, hue=\"lambda\")"
   ]
  },
  {
   "cell_type": "code",
   "execution_count": 8,
   "id": "b59ceff8-cca6-4b92-ba3c-f549ec8eb353",
   "metadata": {},
   "outputs": [
    {
     "data": {
      "text/plain": [
       "<Axes: xlabel='WER AMI (%)', ylabel='WER MLS French (%)'>"
      ]
     },
     "execution_count": 8,
     "metadata": {},
     "output_type": "execute_result"
    },
    {
     "data": {
      "image/png": "[encoded data removed]",
      "text/plain": [
       "<Figure size 640x480 with 1 Axes>"
      ]
     },
     "metadata": {},
     "output_type": "display_data"
    }
   ],
   "source": [
    "sns.scatterplot(data=df_vanilla, x=x_col, y=y_col, hue=\"steps\")"
   ]
  },
  {
   "cell_type": "code",
   "execution_count": 13,
   "id": "213c42ea-90e8-434d-becf-b610d23fc663",
   "metadata": {},
   "outputs": [
    {
     "name": "stdout",
     "output_type": "stream",
     "text": [
      "Figure saved at `notebooks/outputs/ewc/ewc_estimate_with_ami-pairplot.png`.\n"
     ]
    },
    {
     "data": {
      "image/png": "[encoded data removed]",
      "text/plain": [
       "<Figure size 800x400 with 1 Axes>"
      ]
     },
     "metadata": {},
     "output_type": "display_data"
    }
   ],
   "source": [
    "plt.figure(figsize=(8, 4))\n",
    "sns.scatterplot(data=df_vanilla, x=x_col, y=y_col, marker=\"x\", s=100, color=\"k\", label=r\"Checkpoints during default fine-tuning ($\\lambda = 0$)\")\n",
    "sns.scatterplot(data=df_ewc, x=x_col, y=y_col, hue=\"lambda\")\n",
    "plt.legend(title=r\"EWC regularization weight $\\lambda$\")\n",
    "\n",
    "savepath = OUTPUT_DIR / \"ewc_estimate_with_ami-pairplot.png\"\n",
    "savepath.parent.mkdir(parents=True, exist_ok=True)\n",
    "plt.savefig(savepath)\n",
    "print(f\"Figure saved at `{savepath}`.\")"
   ]
  },
  {
   "cell_type": "code",
   "execution_count": 10,
   "id": "6651bf2e-20df-4966-b7c3-81e66753fae0",
   "metadata": {},
   "outputs": [
    {
     "data": {
      "text/html": [
       "<div>\n",
       "<style scoped>\n",
       "    .dataframe tbody tr th:only-of-type {\n",
       "        vertical-align: middle;\n",
       "    }\n",
       "\n",
       "    .dataframe tbody tr th {\n",
       "        vertical-align: top;\n",
       "    }\n",
       "\n",
       "    .dataframe thead th {\n",
       "        text-align: right;\n",
       "    }\n",
       "</style>\n",
       "<table border=\"1\" class=\"dataframe\">\n",
       "  <thead>\n",
       "    <tr style=\"text-align: right;\">\n",
       "      <th></th>\n",
       "      <th>lambda</th>\n",
       "      <th>WER AMI (%)</th>\n",
       "      <th>WER MLS French (%)</th>\n",
       "      <th>steps</th>\n",
       "    </tr>\n",
       "  </thead>\n",
       "  <tbody>\n",
       "    <tr>\n",
       "      <th>0</th>\n",
       "      <td>0.0001</td>\n",
       "      <td>22.51</td>\n",
       "      <td>48.87</td>\n",
       "      <td>NaN</td>\n",
       "    </tr>\n",
       "    <tr>\n",
       "      <th>1</th>\n",
       "      <td>0.0010</td>\n",
       "      <td>25.87</td>\n",
       "      <td>41.13</td>\n",
       "      <td>NaN</td>\n",
       "    </tr>\n",
       "    <tr>\n",
       "      <th>2</th>\n",
       "      <td>0.0100</td>\n",
       "      <td>26.47</td>\n",
       "      <td>40.41</td>\n",
       "      <td>NaN</td>\n",
       "    </tr>\n",
       "    <tr>\n",
       "      <th>3</th>\n",
       "      <td>0.1000</td>\n",
       "      <td>27.67</td>\n",
       "      <td>39.62</td>\n",
       "      <td>NaN</td>\n",
       "    </tr>\n",
       "    <tr>\n",
       "      <th>4</th>\n",
       "      <td>1.0000</td>\n",
       "      <td>27.15</td>\n",
       "      <td>38.55</td>\n",
       "      <td>NaN</td>\n",
       "    </tr>\n",
       "    <tr>\n",
       "      <th>0</th>\n",
       "      <td>NaN</td>\n",
       "      <td>27.73</td>\n",
       "      <td>37.27</td>\n",
       "      <td>0.0</td>\n",
       "    </tr>\n",
       "    <tr>\n",
       "      <th>1</th>\n",
       "      <td>NaN</td>\n",
       "      <td>24.00</td>\n",
       "      <td>41.78</td>\n",
       "      <td>600.0</td>\n",
       "    </tr>\n",
       "    <tr>\n",
       "      <th>2</th>\n",
       "      <td>NaN</td>\n",
       "      <td>22.49</td>\n",
       "      <td>46.15</td>\n",
       "      <td>1200.0</td>\n",
       "    </tr>\n",
       "    <tr>\n",
       "      <th>3</th>\n",
       "      <td>NaN</td>\n",
       "      <td>23.13</td>\n",
       "      <td>50.57</td>\n",
       "      <td>1800.0</td>\n",
       "    </tr>\n",
       "    <tr>\n",
       "      <th>4</th>\n",
       "      <td>NaN</td>\n",
       "      <td>21.29</td>\n",
       "      <td>52.42</td>\n",
       "      <td>2400.0</td>\n",
       "    </tr>\n",
       "    <tr>\n",
       "      <th>5</th>\n",
       "      <td>NaN</td>\n",
       "      <td>20.59</td>\n",
       "      <td>59.93</td>\n",
       "      <td>3000.0</td>\n",
       "    </tr>\n",
       "  </tbody>\n",
       "</table>\n",
       "</div>"
      ],
      "text/plain": [
       "   lambda  WER AMI (%)  WER MLS French (%)   steps\n",
       "0  0.0001        22.51               48.87     NaN\n",
       "1  0.0010        25.87               41.13     NaN\n",
       "2  0.0100        26.47               40.41     NaN\n",
       "3  0.1000        27.67               39.62     NaN\n",
       "4  1.0000        27.15               38.55     NaN\n",
       "0     NaN        27.73               37.27     0.0\n",
       "1     NaN        24.00               41.78   600.0\n",
       "2     NaN        22.49               46.15  1200.0\n",
       "3     NaN        23.13               50.57  1800.0\n",
       "4     NaN        21.29               52.42  2400.0\n",
       "5     NaN        20.59               59.93  3000.0"
      ]
     },
     "execution_count": 10,
     "metadata": {},
     "output_type": "execute_result"
    }
   ],
   "source": [
    "df_all = pd.concat([df_ewc, df_vanilla])\n",
    "df_all"
   ]
  },
  {
   "cell_type": "code",
   "execution_count": 11,
   "id": "4d81b786-1708-4fd4-b386-7eb51438d39f",
   "metadata": {},
   "outputs": [
    {
     "ename": "NameError",
     "evalue": "name 'df' is not defined",
     "output_type": "error",
     "traceback": [
      "\u001b[0;31m---------------------------------------------------------------------------\u001b[0m",
      "\u001b[0;31mNameError\u001b[0m                                 Traceback (most recent call last)",
      "Cell \u001b[0;32mIn[11], line 6\u001b[0m\n\u001b[1;32m      3\u001b[0m \u001b[38;5;28;01mimport\u001b[39;00m \u001b[38;5;21;01mnumpy\u001b[39;00m \u001b[38;5;28;01mas\u001b[39;00m \u001b[38;5;21;01mnp\u001b[39;00m\n\u001b[1;32m      5\u001b[0m \u001b[38;5;66;03m# Fit a linear regression model\u001b[39;00m\n\u001b[0;32m----> 6\u001b[0m model \u001b[38;5;241m=\u001b[39m LinearRegression()\u001b[38;5;241m.\u001b[39mfit(\u001b[43mdf\u001b[49m[[x_col]], df[y_col])\n\u001b[1;32m      8\u001b[0m \u001b[38;5;66;03m# Calculate the R-squared coefficient\u001b[39;00m\n\u001b[1;32m      9\u001b[0m y_pred \u001b[38;5;241m=\u001b[39m model\u001b[38;5;241m.\u001b[39mpredict(df[[x_col]])\n",
      "\u001b[0;31mNameError\u001b[0m: name 'df' is not defined"
     ]
    }
   ],
   "source": [
    "from sklearn.linear_model import LinearRegression\n",
    "from sklearn.metrics import r2_score\n",
    "import numpy as np\n",
    "\n",
    "# Fit a linear regression model\n",
    "model = LinearRegression().fit(df[[x_col]], df[y_col])\n",
    "\n",
    "# Calculate the R-squared coefficient\n",
    "y_pred = model.predict(df[[x_col]])\n",
    "r2 = r2_score(df[y_col], y_pred)\n",
    "\n",
    "print(\"R-squared coefficient:\", r2)"
   ]
  },
  {
   "cell_type": "code",
   "execution_count": null,
   "id": "50d8b92e-6c7b-4a8c-b8dd-72dfc234f659",
   "metadata": {},
   "outputs": [],
   "source": []
  }
 ],
 "metadata": {
  "kernelspec": {
   "display_name": "Python 3 (ipykernel)",
   "language": "python",
   "name": "python3"
  },
  "language_info": {
   "codemirror_mode": {
    "name": "ipython",
    "version": 3
   },
   "file_extension": ".py",
   "mimetype": "text/x-python",
   "name": "python",
   "nbconvert_exporter": "python",
   "pygments_lexer": "ipython3",
   "version": "3.10.11"
  }
 },
 "nbformat": 4,
 "nbformat_minor": 5
}
