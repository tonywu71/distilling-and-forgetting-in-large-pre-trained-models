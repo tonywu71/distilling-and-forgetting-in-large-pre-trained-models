{
 "cells": [
  {
   "cell_type": "markdown",
   "id": "144af768-053d-40ac-9a6e-277f0517ff82",
   "metadata": {},
   "source": [
    "## Imports"
   ]
  },
  {
   "cell_type": "code",
   "execution_count": 3,
   "id": "1195103c-e44c-43b4-b769-f2b9ee11d5b9",
   "metadata": {},
   "outputs": [],
   "source": [
    "%load_ext autoreload\n",
    "%autoreload 2"
   ]
  },
  {
   "cell_type": "code",
   "execution_count": 4,
   "id": "5ad8768a-72f3-487f-b612-9abdc73e272b",
   "metadata": {},
   "outputs": [
    {
     "name": "stdout",
     "output_type": "stream",
     "text": [
      "/Users/Tony/Other Docs/distilling-and-forgetting-in-large-pre-trained-models\n"
     ]
    }
   ],
   "source": [
    "%cd ..\n",
    "import os, sys\n",
    "sys.path.insert(0, os.path.dirname(os.path.dirname(os.path.abspath(os.getcwd()))))"
   ]
  },
  {
   "cell_type": "code",
   "execution_count": 11,
   "id": "48363823-19ba-4514-9e74-cd6308fc0f14",
   "metadata": {},
   "outputs": [],
   "source": [
    "from transformers import WhisperProcessor\n",
    "from normalization.whisper_normalization import get_whisper_normalizer"
   ]
  },
  {
   "cell_type": "code",
   "execution_count": 6,
   "id": "13181da3-4fe9-4b7c-aa31-514b75a836d5",
   "metadata": {},
   "outputs": [],
   "source": [
    "normalizer = get_whisper_normalizer(\"english\")"
   ]
  },
  {
   "cell_type": "code",
   "execution_count": 7,
   "id": "0fafcdf8-6c82-4ed0-8fe8-a1d4077e3ed8",
   "metadata": {},
   "outputs": [
    {
     "data": {
      "text/plain": [
       "'hey i am here'"
      ]
     },
     "execution_count": 7,
     "metadata": {},
     "output_type": "execute_result"
    }
   ],
   "source": [
    "normalizer(\"Hey I'm here.\")"
   ]
  },
  {
   "cell_type": "code",
   "execution_count": 9,
   "id": "a93405d0-4a1f-4100-aae0-03778d2d1496",
   "metadata": {},
   "outputs": [
    {
     "data": {
      "text/plain": [
       "'hey i am here'"
      ]
     },
     "execution_count": 9,
     "metadata": {},
     "output_type": "execute_result"
    }
   ],
   "source": [
    "normalizer(\"HEY I'M HERE\")"
   ]
  },
  {
   "cell_type": "code",
   "execution_count": 12,
   "id": "a599149a-9e42-4c9c-842a-08f9fcc4924c",
   "metadata": {},
   "outputs": [],
   "source": [
    "processor = WhisperProcessor.from_pretrained(\"openai/whisper-tiny.en\")"
   ]
  },
  {
   "cell_type": "code",
   "execution_count": 18,
   "id": "89bda313-8168-488b-8b46-9798e37c21f5",
   "metadata": {},
   "outputs": [
    {
     "data": {
      "text/plain": [
       "{'input_ids': [[50257, 50362, 10814, 314, 1101, 994, 13, 50256]], 'attention_mask': [[1, 1, 1, 1, 1, 1, 1, 1]]}"
      ]
     },
     "execution_count": 18,
     "metadata": {},
     "output_type": "execute_result"
    }
   ],
   "source": [
    "tokenized_labels = processor.tokenizer([\"Hey I'm here.\"])\n",
    "tokenized_labels"
   ]
  },
  {
   "cell_type": "code",
   "execution_count": 22,
   "id": "8c238bea-ff8c-4ae0-be1f-6f735b1270b7",
   "metadata": {},
   "outputs": [
    {
     "data": {
      "text/plain": [
       "['hey i am here']"
      ]
     },
     "execution_count": 22,
     "metadata": {},
     "output_type": "execute_result"
    }
   ],
   "source": [
    "processor.tokenizer.batch_decode(tokenized_labels.input_ids, normalize=True)"
   ]
  },
  {
   "cell_type": "code",
   "execution_count": 23,
   "id": "77c75a47-5e10-4031-b002-503287fe74b0",
   "metadata": {},
   "outputs": [
    {
     "data": {
      "text/plain": [
       "[\"<|startoftranscript|><|notimestamps|>Hey I'm here.<|endoftext|>\"]"
      ]
     },
     "execution_count": 23,
     "metadata": {},
     "output_type": "execute_result"
    }
   ],
   "source": [
    "processor.tokenizer.batch_decode(tokenized_labels.input_ids, normalize=False)"
   ]
  },
  {
   "cell_type": "code",
   "execution_count": null,
   "id": "ae988bfe-b6d0-4da8-971b-31e90e1317ac",
   "metadata": {},
   "outputs": [],
   "source": []
  }
 ],
 "metadata": {
  "kernelspec": {
   "display_name": "Python 3 (ipykernel)",
   "language": "python",
   "name": "python3"
  },
  "language_info": {
   "codemirror_mode": {
    "name": "ipython",
    "version": 3
   },
   "file_extension": ".py",
   "mimetype": "text/x-python",
   "name": "python",
   "nbconvert_exporter": "python",
   "pygments_lexer": "ipython3",
   "version": "3.10.11"
  }
 },
 "nbformat": 4,
 "nbformat_minor": 5
}
