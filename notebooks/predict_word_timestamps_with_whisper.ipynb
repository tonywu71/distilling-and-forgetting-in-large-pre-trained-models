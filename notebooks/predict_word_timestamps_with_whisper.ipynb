{
 "cells": [
  {
   "cell_type": "markdown",
   "id": "c89512a8-9919-45da-878f-43295f0d02fe",
   "metadata": {},
   "source": [
    "## Imports"
   ]
  },
  {
   "cell_type": "code",
   "execution_count": 1,
   "id": "7b6419d6-b0d1-49e7-b13e-52772bc5288c",
   "metadata": {},
   "outputs": [],
   "source": [
    "%load_ext autoreload\n",
    "%autoreload 2"
   ]
  },
  {
   "cell_type": "code",
   "execution_count": 2,
   "id": "8c148686-4e61-48b3-8904-874c8c6d9194",
   "metadata": {},
   "outputs": [
    {
     "name": "stdout",
     "output_type": "stream",
     "text": [
      "/Users/Tony/Other Docs/distilling-and-forgetting-in-large-pre-trained-models\n"
     ]
    }
   ],
   "source": [
    "%cd ..\n",
    "import os, sys\n",
    "sys.path.insert(0, os.path.dirname(os.path.dirname(os.path.abspath(os.getcwd()))))"
   ]
  },
  {
   "cell_type": "code",
   "execution_count": 3,
   "id": "ef1b8903-d97a-4ff0-a93c-ec406f264aab",
   "metadata": {},
   "outputs": [
    {
     "name": "stderr",
     "output_type": "stream",
     "text": [
      "/opt/homebrew/Caskroom/miniforge/base/envs/mlmi-dissertation-new/lib/python3.10/site-packages/whisper/timing.py:58: NumbaDeprecationWarning: The 'nopython' keyword argument was not supplied to the 'numba.jit' decorator. The implicit default value for this argument is currently False, but it will be changed to True in Numba 0.59.0. See https://numba.readthedocs.io/en/stable/reference/deprecation.html#deprecation-of-object-mode-fall-back-behaviour-when-using-jit for details.\n",
      "  def backtrace(trace: np.ndarray):\n"
     ]
    }
   ],
   "source": [
    "import numpy as np\n",
    "import torch\n",
    "import whisper\n",
    "import datasets\n",
    "\n",
    "import matplotlib.pyplot as plt\n",
    "import seaborn as sns\n",
    "\n",
    "from evaluation.eval_dataset_name_to_dataset_group import EVAL_DATASET_NAME_TO_DATASET_GROUP\n",
    "\n",
    "device = torch.device('mps')\n",
    "sns.set_theme(context=\"paper\", style=\"ticks\")"
   ]
  },
  {
   "cell_type": "code",
   "execution_count": 4,
   "id": "50080875-7617-4e5f-841d-2dedae397b6a",
   "metadata": {},
   "outputs": [],
   "source": [
    "# Load the Whisper model\n",
    "model = whisper.load_model(\"tiny\")"
   ]
  },
  {
   "cell_type": "code",
   "execution_count": 5,
   "id": "bbe79139-40d3-4587-9398-140726cfe4e2",
   "metadata": {},
   "outputs": [
    {
     "name": "stdout",
     "output_type": "stream",
     "text": [
      "WARNING: `CACHE_DIR_LIBRISPEECH` environment variable not set. Using default cache directory.\n"
     ]
    },
    {
     "name": "stderr",
     "output_type": "stream",
     "text": [
      "Found cached dataset librispeech_asr_dummy (/Users/Tony/.cache/huggingface/datasets/hf-internal-testing___librispeech_asr_dummy/clean/2.1.0/d3bc4c2bc2078fcde3ad0f0f635862e4c0fef78ba94c4a34c4c250a097af240b)\n",
      "Loading cached processed dataset at /Users/Tony/.cache/huggingface/datasets/hf-internal-testing___librispeech_asr_dummy/clean/2.1.0/d3bc4c2bc2078fcde3ad0f0f635862e4c0fef78ba94c4a34c4c250a097af240b/cache-b8597f65be34771e.arrow\n"
     ]
    }
   ],
   "source": [
    "dataset_name = \"librispeech_dummy\"\n",
    "\n",
    "ds_group = EVAL_DATASET_NAME_TO_DATASET_GROUP[dataset_name]()\n",
    "\n",
    "if dataset_name == \"librispeech_dummy\":\n",
    "    ds = ds_group.str2dataset[\"librispeech_dummy\"]\n",
    "    ds = ds.map(lambda x: {\"text\": x.lower()}, input_columns=[\"text\"])\n",
    "elif dataset_name in [\"ami\", \"ami_10h\"]:\n",
    "    ds = ds_group.str2dataset[\"ami\"]\n",
    "    ds = ds.map(lambda x: {\"text\": x.lower()}, input_columns=[\"text\"])\n",
    "else:\n",
    "    raise ValueError()"
   ]
  },
  {
   "cell_type": "code",
   "execution_count": 6,
   "id": "7e6e0cc7-eb0b-4b84-a1f0-5cd7fbaa0fbc",
   "metadata": {},
   "outputs": [
    {
     "data": {
      "text/plain": [
       "{'file': '/Users/Tony/.cache/huggingface/datasets/downloads/extracted/ebb1d3f740add5af71e53b628d8c9c55e64fc2ff14a6ff31de01228adc704d35/dev_clean/1272/128104/1272-128104-0000.flac',\n",
       " 'audio': {'path': '/Users/Tony/.cache/huggingface/datasets/downloads/extracted/ebb1d3f740add5af71e53b628d8c9c55e64fc2ff14a6ff31de01228adc704d35/dev_clean/1272/128104/1272-128104-0000.flac',\n",
       "  'array': array([0.00238037, 0.0020752 , 0.00198364, ..., 0.00042725, 0.00057983,\n",
       "         0.0010376 ]),\n",
       "  'sampling_rate': 16000},\n",
       " 'text': 'mister quilter is the apostle of the middle classes and we are glad to welcome his gospel',\n",
       " 'speaker_id': 1272,\n",
       " 'chapter_id': 128104,\n",
       " 'id': '1272-128104-0000'}"
      ]
     },
     "execution_count": 6,
     "metadata": {},
     "output_type": "execute_result"
    }
   ],
   "source": [
    "sample = next(iter(ds))\n",
    "\n",
    "sample"
   ]
  },
  {
   "cell_type": "code",
   "execution_count": 7,
   "id": "37146ba6-8ea2-46ec-9bb6-90166f618ec2",
   "metadata": {},
   "outputs": [
    {
     "data": {
      "text/plain": [
       "array([0.00238037, 0.0020752 , 0.00198364, ..., 0.00042725, 0.00057983,\n",
       "       0.0010376 ])"
      ]
     },
     "execution_count": 7,
     "metadata": {},
     "output_type": "execute_result"
    }
   ],
   "source": [
    "sample[\"audio\"][\"array\"]"
   ]
  },
  {
   "cell_type": "code",
   "execution_count": 8,
   "id": "7ff83e42-64b0-479b-8f18-fdad299ad5af",
   "metadata": {},
   "outputs": [
    {
     "data": {
      "text/plain": [
       "array([0.00238037, 0.0020752 , 0.00198364, ..., 0.00042725, 0.00057983,\n",
       "       0.0010376 ], dtype=float32)"
      ]
     },
     "execution_count": 8,
     "metadata": {},
     "output_type": "execute_result"
    }
   ],
   "source": [
    "sample[\"audio\"][\"array\"].astype(np.float32)"
   ]
  },
  {
   "cell_type": "code",
   "execution_count": 9,
   "id": "13977a03-67a0-4988-8172-58f52554157a",
   "metadata": {},
   "outputs": [
    {
     "name": "stderr",
     "output_type": "stream",
     "text": [
      "/opt/homebrew/Caskroom/miniforge/base/envs/mlmi-dissertation-new/lib/python3.10/site-packages/whisper/transcribe.py:114: UserWarning: FP16 is not supported on CPU; using FP32 instead\n",
      "  warnings.warn(\"FP16 is not supported on CPU; using FP32 instead\")\n"
     ]
    },
    {
     "data": {
      "text/plain": [
       "{'text': ' Mr. Quilter is the apostle of the middle classes and we are glad to welcome his gospel.',\n",
       " 'segments': [{'id': 0,\n",
       "   'seek': 0,\n",
       "   'start': 0.3,\n",
       "   'end': 5.34,\n",
       "   'text': ' Mr. Quilter is the apostle of the middle classes and we are glad to welcome his gospel.',\n",
       "   'tokens': [50364,\n",
       "    2221,\n",
       "    13,\n",
       "    2326,\n",
       "    388,\n",
       "    391,\n",
       "    307,\n",
       "    264,\n",
       "    50244,\n",
       "    295,\n",
       "    264,\n",
       "    2808,\n",
       "    5359,\n",
       "    293,\n",
       "    321,\n",
       "    366,\n",
       "    5404,\n",
       "    281,\n",
       "    2928,\n",
       "    702,\n",
       "    14943,\n",
       "    13,\n",
       "    50636],\n",
       "   'temperature': 0.0,\n",
       "   'avg_logprob': -0.2634392976760864,\n",
       "   'compression_ratio': 1.0875,\n",
       "   'no_speech_prob': 0.0017321794293820858,\n",
       "   'words': [{'word': ' Mr.',\n",
       "     'start': 0.3,\n",
       "     'end': 0.82,\n",
       "     'probability': 0.8702592253684998},\n",
       "    {'word': ' Quilter',\n",
       "     'start': 0.98,\n",
       "     'end': 1.24,\n",
       "     'probability': 0.7210469444592794},\n",
       "    {'word': ' is',\n",
       "     'start': 1.24,\n",
       "     'end': 1.5,\n",
       "     'probability': 0.9592385292053223},\n",
       "    {'word': ' the',\n",
       "     'start': 1.5,\n",
       "     'end': 1.72,\n",
       "     'probability': 0.9836350679397583},\n",
       "    {'word': ' apostle',\n",
       "     'start': 1.72,\n",
       "     'end': 1.98,\n",
       "     'probability': 0.9467339515686035},\n",
       "    {'word': ' of',\n",
       "     'start': 1.98,\n",
       "     'end': 2.36,\n",
       "     'probability': 0.9971555471420288},\n",
       "    {'word': ' the',\n",
       "     'start': 2.36,\n",
       "     'end': 2.5,\n",
       "     'probability': 0.9846603274345398},\n",
       "    {'word': ' middle',\n",
       "     'start': 2.5,\n",
       "     'end': 2.66,\n",
       "     'probability': 0.8122441172599792},\n",
       "    {'word': ' classes',\n",
       "     'start': 2.66,\n",
       "     'end': 3.16,\n",
       "     'probability': 0.914775550365448},\n",
       "    {'word': ' and',\n",
       "     'start': 3.16,\n",
       "     'end': 3.58,\n",
       "     'probability': 0.5240345597267151},\n",
       "    {'word': ' we',\n",
       "     'start': 3.58,\n",
       "     'end': 3.68,\n",
       "     'probability': 0.9824765920639038},\n",
       "    {'word': ' are',\n",
       "     'start': 3.68,\n",
       "     'end': 3.8,\n",
       "     'probability': 0.95539391040802},\n",
       "    {'word': ' glad',\n",
       "     'start': 3.8,\n",
       "     'end': 4.1,\n",
       "     'probability': 0.9978850483894348},\n",
       "    {'word': ' to',\n",
       "     'start': 4.1,\n",
       "     'end': 4.3,\n",
       "     'probability': 0.9957291483879089},\n",
       "    {'word': ' welcome',\n",
       "     'start': 4.3,\n",
       "     'end': 4.58,\n",
       "     'probability': 0.9969502091407776},\n",
       "    {'word': ' his',\n",
       "     'start': 4.58,\n",
       "     'end': 4.94,\n",
       "     'probability': 0.9483617544174194},\n",
       "    {'word': ' gospel.',\n",
       "     'start': 4.94,\n",
       "     'end': 5.34,\n",
       "     'probability': 0.86821049451828}]}],\n",
       " 'language': 'en'}"
      ]
     },
     "execution_count": 9,
     "metadata": {},
     "output_type": "execute_result"
    }
   ],
   "source": [
    "# Transcribe the audio file\n",
    "result = model.transcribe(sample[\"audio\"][\"array\"].astype(np.float32),\n",
    "                          language=\"en\",\n",
    "                          temperature=0.0,\n",
    "                          word_timestamps=True)\n",
    "\n",
    "result"
   ]
  },
  {
   "cell_type": "code",
   "execution_count": 10,
   "id": "c5fcd8e7-7416-4769-8d07-2a6167fcf14a",
   "metadata": {},
   "outputs": [
    {
     "name": "stdout",
     "output_type": "stream",
     "text": [
      " Mr. Quilter is the apostle of the middle classes and we are glad to welcome his gospel.\n",
      " Mr. - start: 0.3, end: 0.82\n",
      " Quilter - start: 0.98, end: 1.24\n",
      " is - start: 1.24, end: 1.5\n",
      " the - start: 1.5, end: 1.72\n",
      " apostle - start: 1.72, end: 1.98\n",
      " of - start: 1.98, end: 2.36\n",
      " the - start: 2.36, end: 2.5\n",
      " middle - start: 2.5, end: 2.66\n",
      " classes - start: 2.66, end: 3.16\n",
      " and - start: 3.16, end: 3.58\n",
      " we - start: 3.58, end: 3.68\n",
      " are - start: 3.68, end: 3.8\n",
      " glad - start: 3.8, end: 4.1\n",
      " to - start: 4.1, end: 4.3\n",
      " welcome - start: 4.3, end: 4.58\n",
      " his - start: 4.58, end: 4.94\n",
      " gospel. - start: 4.94, end: 5.34\n"
     ]
    }
   ],
   "source": [
    "# Print the transcribed text and word timestamps\n",
    "print(result[\"text\"])\n",
    "for segment in result[\"segments\"]:\n",
    "    for word in segment[\"words\"]:\n",
    "        print(f\"{word['word']} - start: {word['start']}, end: {word['end']}\")"
   ]
  },
  {
   "cell_type": "code",
   "execution_count": 11,
   "id": "1cad5694-db3b-4bed-87b7-addf98c67b89",
   "metadata": {},
   "outputs": [
    {
     "data": {
      "image/png": "[encoded data removed]",
      "text/plain": [
       "<Figure size 640x480 with 1 Axes>"
      ]
     },
     "metadata": {},
     "output_type": "display_data"
    }
   ],
   "source": [
    "# Plot the token timestamps\n",
    "timestamps = []\n",
    "tokens = []\n",
    "for segment in result[\"segments\"]:\n",
    "    for word in segment[\"words\"]:\n",
    "        timestamps.append(word[\"start\"])\n",
    "        timestamps.append(word[\"end\"])\n",
    "        tokens.append(word[\"word\"])\n",
    "        tokens.append(word[\"word\"])\n",
    "plt.plot(timestamps[::-1], tokens[::-1])\n",
    "plt.xlabel(\"Time (s)\")\n",
    "plt.ylabel(\"Token\")\n",
    "plt.title(\"Token Timestamps\")\n",
    "plt.show()"
   ]
  },
  {
   "cell_type": "code",
   "execution_count": null,
   "id": "f728c406-57ea-45bc-b2ec-d2e388d059c7",
   "metadata": {},
   "outputs": [],
   "source": []
  }
 ],
 "metadata": {
  "kernelspec": {
   "display_name": "Python 3 (ipykernel)",
   "language": "python",
   "name": "python3"
  },
  "language_info": {
   "codemirror_mode": {
    "name": "ipython",
    "version": 3
   },
   "file_extension": ".py",
   "mimetype": "text/x-python",
   "name": "python",
   "nbconvert_exporter": "python",
   "pygments_lexer": "ipython3",
   "version": "3.10.11"
  }
 },
 "nbformat": 4,
 "nbformat_minor": 5
}
