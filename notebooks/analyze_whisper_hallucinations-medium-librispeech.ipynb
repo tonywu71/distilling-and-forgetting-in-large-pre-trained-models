{
 "cells": [
  {
   "cell_type": "markdown",
   "id": "37324580-06a0-4be8-8194-70b8f85523c3",
   "metadata": {
    "tags": []
   },
   "source": [
    "## Imports"
   ]
  },
  {
   "cell_type": "code",
   "execution_count": null,
   "id": "fdb50902-acec-4fe8-9681-d944478c0e35",
   "metadata": {},
   "outputs": [],
   "source": [
    "%load_ext autoreload\n",
    "%autoreload 2"
   ]
  },
  {
   "cell_type": "code",
   "execution_count": null,
   "id": "cba60d42-4585-4578-b142-c703099bd091",
   "metadata": {},
   "outputs": [],
   "source": [
    "%cd ..\n",
    "import os, sys\n",
    "sys.path.insert(0, os.path.dirname(os.path.dirname(os.path.abspath(os.getcwd()))))"
   ]
  },
  {
   "cell_type": "code",
   "execution_count": null,
   "id": "b422c568-7362-4361-8052-1b78696a1b6a",
   "metadata": {},
   "outputs": [],
   "source": [
    "from pathlib import Path\n",
    "from collections import defaultdict\n",
    "\n",
    "import numpy as np\n",
    "import pandas as pd\n",
    "\n",
    "from transformers.models.whisper import WhisperTokenizerFast\n",
    "from datasets import load_from_disk\n",
    "\n",
    "import matplotlib.pyplot as plt\n",
    "import seaborn as sns\n",
    "\n",
    "from evaluation.eval_dataset_name_to_dataset_group import EVAL_DATASET_NAME_TO_DATASET_GROUP\n",
    "from evaluation.string_edit_metrics import get_string_edit_metrics_ortho_and_norm\n",
    "from normalization.whisper_normalization import get_whisper_normalizer\n",
    "from utils.whisper_hallucinations.get_features import add_features_to_ds, compute_gzip_compression_ratio\n",
    "from utils.whisper_hallucinations.eval_filter_criterion import eval_filter_criterion\n",
    "from utils.notebook_utils import listen_to_audio\n",
    "\n",
    "sns.set_theme(context=\"paper\", style=\"ticks\")\n",
    "\n",
    "OUTPUT_DIR = Path(\"notebooks/outputs/8_1_best_kd/librispeech_100h\")\n",
    "OUTPUT_DIR.mkdir(parents=True, exist_ok=True)"
   ]
  },
  {
   "cell_type": "markdown",
   "id": "a3fc8336-28f5-4e04-bb96-f02b7868e016",
   "metadata": {
    "tags": []
   },
   "source": [
    "## User input"
   ]
  },
  {
   "cell_type": "code",
   "execution_count": null,
   "id": "78de6501-2779-45fc-8ed3-dc32d84a1f05",
   "metadata": {},
   "outputs": [],
   "source": [
    "load_from_pickle = True\n",
    "\n",
    "pickle_filepath = \"/home/tw581/rds/hpc-work/librispeech_medium_cached_33p.pkl\"\n",
    "ds_dirpath = \"/home/tw581/rds/rds-altaslp-8YSp2LXTlkY/experiments/tw581/cache/huggingface/k_beam_search_cache/librispeech_clean_100h/whisper-medium/k_1/train\""
   ]
  },
  {
   "cell_type": "markdown",
   "id": "c9f2d97d-819a-4d1b-acab-3a1f834b2813",
   "metadata": {
    "tags": []
   },
   "source": [
    "## Load tokenizer"
   ]
  },
  {
   "cell_type": "code",
   "execution_count": null,
   "id": "0221c5c8-c0e7-4ef2-928a-b03882eb6e6d",
   "metadata": {},
   "outputs": [],
   "source": [
    "pretrained_model_name_or_path = \"openai/whisper-tiny\"\n",
    "tokenizer = WhisperTokenizerFast.from_pretrained(pretrained_model_name_or_path, language=\"english\", task=\"transcribe\")"
   ]
  },
  {
   "cell_type": "markdown",
   "id": "f482c627-cd0a-41ba-8e61-96bb22b02956",
   "metadata": {
    "tags": []
   },
   "source": [
    "## Load data"
   ]
  },
  {
   "cell_type": "code",
   "execution_count": null,
   "id": "8bb17b97-d5f9-4c39-a389-c30eca5672f3",
   "metadata": {},
   "outputs": [],
   "source": [
    "LIST_FEATURES = [\n",
    "    'text',\n",
    "    'teacher_text',\n",
    "    'n_instant_tokens',\n",
    "    'max_subarray_length',\n",
    "    'audio_length',\n",
    "    'n_tokens_labels',\n",
    "    'n_tokens_teacher',\n",
    "    'diff_n_tokens',\n",
    "    'gzip_ratio',\n",
    "    'teacher_gzip_ratio',\n",
    "    'diff_gzip_ratio'\n",
    "]\n",
    "\n",
    "if load_from_pickle:\n",
    "    df = pd.read_pickle(pickle_filepath)\n",
    "else:\n",
    "    ds = load_from_disk(ds_dirpath)\n",
    "    ds = ds.select(list(range(ds.num_rows // 3)))\n",
    "    ds = ds.map(lambda x: {\"teacher_text\": tokenizer.decode(x[\"teacher_sequences\"], skip_special_tokens=True)})\n",
    "    ds = add_features_to_ds(ds)\n",
    "    df = pd.DataFrame({col: ds[col] for col in ds.features.keys() if col in LIST_FEATURES})\n",
    "    df.to_pickle(pickle_filepath)"
   ]
  },
  {
   "cell_type": "code",
   "execution_count": null,
   "id": "ae136051-5a13-4f81-ac4b-38a74ab061c7",
   "metadata": {},
   "outputs": [],
   "source": [
    "df.head()"
   ]
  },
  {
   "cell_type": "code",
   "execution_count": null,
   "id": "a7684ec1-4c0f-4583-84e4-596475764924",
   "metadata": {},
   "outputs": [],
   "source": [
    "df.sort_values(\"n_tokens_teacher\", ascending=False)[:10]"
   ]
  },
  {
   "cell_type": "markdown",
   "id": "9bd605e2-baac-49d9-9dd0-50e997aa14fb",
   "metadata": {
    "tags": []
   },
   "source": [
    "## First analysis"
   ]
  },
  {
   "cell_type": "code",
   "execution_count": null,
   "id": "56db00ee-1ad2-4668-ba64-5526d35f4da4",
   "metadata": {},
   "outputs": [],
   "source": [
    "dict_string_edit_metrics = get_string_edit_metrics_ortho_and_norm(references=df[\"text\"], predictions=df[\"teacher_text\"], norm_fn=get_whisper_normalizer(\"english\"))\n",
    "\n",
    "dict_string_edit_metrics"
   ]
  },
  {
   "cell_type": "markdown",
   "id": "0de6f403-ec69-4928-8899-2d52a223d607",
   "metadata": {},
   "source": [
    "**Observation:** Using the Whisper normalizer drastically decreased the different string edit metric errors. Since 1-best operated without any normalization, we will focus on the orthographic WER in this study."
   ]
  },
  {
   "cell_type": "code",
   "execution_count": null,
   "id": "30ecdb50-c3af-4743-820d-742be1af9862",
   "metadata": {},
   "outputs": [],
   "source": [
    "plt.figure(figsize=(5, 3))\n",
    "df[\"audio_length\"].plot.hist();"
   ]
  },
  {
   "cell_type": "code",
   "execution_count": null,
   "id": "e00822a2-f849-4ccb-8f11-a48079288d18",
   "metadata": {},
   "outputs": [],
   "source": [
    "plt.figure(figsize=(12, 3))\n",
    "sns.boxplot(data=df[[\"n_tokens_labels\", \"n_tokens_teacher\"]], orient=\"h\");"
   ]
  },
  {
   "cell_type": "code",
   "execution_count": null,
   "id": "ffbd5e5c-fe2d-47ba-bd0b-ecab241ed205",
   "metadata": {},
   "outputs": [],
   "source": [
    "x_col = \"n_tokens_labels\"\n",
    "y_col = \"n_tokens_teacher\"\n",
    "\n",
    "sns.jointplot(data=df, x=x_col, y=y_col, alpha=0.3)\n",
    "line_max_coord = min(df[x_col].max(), df[y_col].max())\n",
    "plt.plot([0, line_max_coord], [0, line_max_coord], 'b--', label=r\"$y=x$\")\n",
    "plt.legend()\n",
    "plt.tight_layout()\n",
    "\n",
    "savepath = OUTPUT_DIR / \"analysis\" / \"n_tokens_teacher_wrt_n_tokens_label.png\"\n",
    "savepath.parent.mkdir(parents=True, exist_ok=True)\n",
    "plt.savefig(savepath)\n",
    "print(f\"Figure saved at `{savepath}`.\")"
   ]
  },
  {
   "cell_type": "code",
   "execution_count": null,
   "id": "a77b028f-38e1-40b8-899c-360de55cafc1",
   "metadata": {},
   "outputs": [],
   "source": [
    "plt.figure(figsize=(12, 1.5))\n",
    "sns.boxplot(data=df[[\"diff_n_tokens\"]], orient=\"h\")\n",
    "\n",
    "savepath = OUTPUT_DIR / \"analysis\" / \"boxplot_n_diff_tokens.png\"\n",
    "savepath.parent.mkdir(parents=True, exist_ok=True)\n",
    "plt.savefig(savepath)\n",
    "print(f\"Figure saved at `{savepath}`.\")"
   ]
  },
  {
   "cell_type": "code",
   "execution_count": null,
   "id": "d94d7cc1-db16-4b54-9c46-84287087ee0f",
   "metadata": {},
   "outputs": [],
   "source": [
    "plt.figure(figsize=(12, 1.5))\n",
    "sns.boxplot(data=df[[\"diff_n_tokens\"]], orient=\"h\")\n",
    "plt.xlim(-50, 50);"
   ]
  },
  {
   "cell_type": "code",
   "execution_count": null,
   "id": "f01021a5-22a8-4252-be5a-00c74dbb83be",
   "metadata": {},
   "outputs": [],
   "source": [
    "sns.scatterplot(data=df, x=\"audio_length\", y=\"diff_n_tokens\", alpha=0.3);"
   ]
  },
  {
   "cell_type": "code",
   "execution_count": null,
   "id": "63c80b0e-d5ef-4fe8-ac2b-b6c03e83a2a4",
   "metadata": {},
   "outputs": [],
   "source": [
    "fig, axis = plt.subplots(1, 2, figsize=(8, 3), sharey=True)\n",
    "sns.scatterplot(data=df, x=\"audio_length\", y=\"n_tokens_labels\", label=\"Labels\", alpha=0.3, ax=axis[0])\n",
    "sns.scatterplot(data=df, x=\"audio_length\", y=\"n_tokens_teacher\", label=\"Predictions\", c=\"coral\", alpha=0.3, ax=axis[1])\n",
    "axis[0].set_ylabel(\"n_tokens\")\n",
    "fig.tight_layout()\n",
    "\n",
    "savepath = OUTPUT_DIR / \"analysis\" / \"n_tokens_wrt_audio_length.png\"\n",
    "savepath.parent.mkdir(parents=True, exist_ok=True)\n",
    "fig.savefig(savepath)\n",
    "print(f\"Figure saved at `{savepath}`.\")"
   ]
  },
  {
   "cell_type": "code",
   "execution_count": null,
   "id": "75b06d45-ab72-4a5a-8be6-bf31692ff567",
   "metadata": {},
   "outputs": [],
   "source": []
  }
 ],
 "metadata": {
  "kernelspec": {
   "display_name": "Python 3 (ipykernel)",
   "language": "python",
   "name": "python3"
  },
  "language_info": {
   "codemirror_mode": {
    "name": "ipython",
    "version": 3
   },
   "file_extension": ".py",
   "mimetype": "text/x-python",
   "name": "python",
   "nbconvert_exporter": "python",
   "pygments_lexer": "ipython3",
   "version": "3.10.11"
  },
  "toc-autonumbering": false
 },
 "nbformat": 4,
 "nbformat_minor": 5
}
