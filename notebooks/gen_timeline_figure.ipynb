{
 "cells": [
  {
   "cell_type": "markdown",
   "id": "799676d5-9028-4b51-a813-e581ae332ef8",
   "metadata": {},
   "source": [
    "## Imports"
   ]
  },
  {
   "cell_type": "code",
   "execution_count": 1,
   "id": "28d9fb99-e344-4b06-866c-346992a56751",
   "metadata": {},
   "outputs": [],
   "source": [
    "%load_ext autoreload\n",
    "%autoreload 2"
   ]
  },
  {
   "cell_type": "code",
   "execution_count": 2,
   "id": "69e18602-b482-4ae0-a711-5038fd87d465",
   "metadata": {},
   "outputs": [
    {
     "name": "stdout",
     "output_type": "stream",
     "text": [
      "/Users/Tony/Other Docs/distilling-and-forgetting-in-large-pre-trained-models\n"
     ]
    }
   ],
   "source": [
    "%cd ..\n",
    "import os, sys\n",
    "sys.path.insert(0, os.path.dirname(os.path.dirname(os.path.abspath(os.getcwd()))))"
   ]
  },
  {
   "cell_type": "code",
   "execution_count": 3,
   "id": "8ff50df8-7453-4480-b220-f9b33609c0fd",
   "metadata": {},
   "outputs": [],
   "source": [
    "from pathlib import Path\n",
    "import pandas as pd\n",
    "import matplotlib.pyplot as plt\n",
    "import seaborn as sns\n",
    "\n",
    "from dateutil.relativedelta import relativedelta\n",
    "\n",
    "sns.set_theme(context=\"paper\", style=\"ticks\")\n",
    "\n",
    "OUTPUT_DIR = Path(\"notebooks/outputs/other_figures/\")\n",
    "OUTPUT_DIR.mkdir(parents=True, exist_ok=True)"
   ]
  },
  {
   "cell_type": "code",
   "execution_count": 5,
   "id": "29e864c6-8657-458c-80be-f27634497787",
   "metadata": {},
   "outputs": [
    {
     "data": {
      "text/html": [
       "<div>\n",
       "<style scoped>\n",
       "    .dataframe tbody tr th:only-of-type {\n",
       "        vertical-align: middle;\n",
       "    }\n",
       "\n",
       "    .dataframe tbody tr th {\n",
       "        vertical-align: top;\n",
       "    }\n",
       "\n",
       "    .dataframe thead th {\n",
       "        text-align: right;\n",
       "    }\n",
       "</style>\n",
       "<table border=\"1\" class=\"dataframe\">\n",
       "  <thead>\n",
       "    <tr style=\"text-align: right;\">\n",
       "      <th></th>\n",
       "      <th>name</th>\n",
       "      <th>size</th>\n",
       "      <th>date</th>\n",
       "    </tr>\n",
       "  </thead>\n",
       "  <tbody>\n",
       "    <tr>\n",
       "      <th>0</th>\n",
       "      <td>Wav2Vec</td>\n",
       "      <td>34</td>\n",
       "      <td>2019-09-11</td>\n",
       "    </tr>\n",
       "    <tr>\n",
       "      <th>1</th>\n",
       "      <td>Mockingjay</td>\n",
       "      <td>85</td>\n",
       "      <td>2019-10-25</td>\n",
       "    </tr>\n",
       "    <tr>\n",
       "      <th>2</th>\n",
       "      <td>Conformer</td>\n",
       "      <td>118</td>\n",
       "      <td>2020-05-16</td>\n",
       "    </tr>\n",
       "    <tr>\n",
       "      <th>3</th>\n",
       "      <td>Wav2Vec2</td>\n",
       "      <td>317</td>\n",
       "      <td>2020-10-22</td>\n",
       "    </tr>\n",
       "    <tr>\n",
       "      <th>4</th>\n",
       "      <td>Hubert</td>\n",
       "      <td>317</td>\n",
       "      <td>2021-06-14</td>\n",
       "    </tr>\n",
       "    <tr>\n",
       "      <th>5</th>\n",
       "      <td>w2v-BERT</td>\n",
       "      <td>1000</td>\n",
       "      <td>2021-08-07</td>\n",
       "    </tr>\n",
       "    <tr>\n",
       "      <th>6</th>\n",
       "      <td>BigSSL</td>\n",
       "      <td>8000</td>\n",
       "      <td>2021-09-27</td>\n",
       "    </tr>\n",
       "    <tr>\n",
       "      <th>7</th>\n",
       "      <td>WavLM</td>\n",
       "      <td>317</td>\n",
       "      <td>2021-10-26</td>\n",
       "    </tr>\n",
       "    <tr>\n",
       "      <th>8</th>\n",
       "      <td>XLS-R</td>\n",
       "      <td>2000</td>\n",
       "      <td>2021-11-17</td>\n",
       "    </tr>\n",
       "    <tr>\n",
       "      <th>9</th>\n",
       "      <td>Whisper</td>\n",
       "      <td>1550</td>\n",
       "      <td>2022-09-21</td>\n",
       "    </tr>\n",
       "    <tr>\n",
       "      <th>10</th>\n",
       "      <td>MMS</td>\n",
       "      <td>1000</td>\n",
       "      <td>2023-05-22</td>\n",
       "    </tr>\n",
       "  </tbody>\n",
       "</table>\n",
       "</div>"
      ],
      "text/plain": [
       "          name  size       date\n",
       "0      Wav2Vec    34 2019-09-11\n",
       "1   Mockingjay    85 2019-10-25\n",
       "2    Conformer   118 2020-05-16\n",
       "3     Wav2Vec2   317 2020-10-22\n",
       "4       Hubert   317 2021-06-14\n",
       "5     w2v-BERT  1000 2021-08-07\n",
       "6       BigSSL  8000 2021-09-27\n",
       "7        WavLM   317 2021-10-26\n",
       "8        XLS-R  2000 2021-11-17\n",
       "9      Whisper  1550 2022-09-21\n",
       "10         MMS  1000 2023-05-22"
      ]
     },
     "execution_count": 5,
     "metadata": {},
     "output_type": "execute_result"
    }
   ],
   "source": [
    "df = pd.read_csv(\"notebooks/data/others/large_pretrained_asr_evolution.csv\", parse_dates=[\"date\"])\n",
    "df"
   ]
  },
  {
   "cell_type": "code",
   "execution_count": 35,
   "id": "e261965e-b2b1-4035-883d-a9bb1f387d7a",
   "metadata": {},
   "outputs": [
    {
     "name": "stdout",
     "output_type": "stream",
     "text": [
      "Figure saved at `notebooks/outputs/other_figures/large_pretrained_asr_evolution.png`.\n"
     ]
    },
    {
     "data": {
      "image/png": "[encoded data removed]",
      "text/plain": [
       "<Figure size 700x300 with 1 Axes>"
      ]
     },
     "metadata": {},
     "output_type": "display_data"
    }
   ],
   "source": [
    "figsize = (7, 3)\n",
    "\n",
    "# Plot:\n",
    "fig, ax = plt.subplots(figsize=(figsize))\n",
    "\n",
    "ax.plot(df['date'], df['size'], 'o')\n",
    "for i, txt in enumerate(df['name']):\n",
    "    ax.annotate(txt, (df['date'][i], df['size'][i]), (df['date'][i], 1.1*df['size'][i]))\n",
    "\n",
    "ax.set_xlim(df['date'].min() - relativedelta(months=3), df['date'].max() + relativedelta(months=3))\n",
    "ax.set_ylim(0.5*df[\"size\"].min(), 2*df[\"size\"].max())\n",
    "ax.set_xlabel(\"Date\")\n",
    "ax.set_ylabel(\"Number of parameters (M)\")\n",
    "ax.set_yscale(\"log\")\n",
    "ax.yaxis.grid(True)\n",
    "\n",
    "fig.tight_layout()\n",
    "\n",
    "# Save figure:\n",
    "savepath = OUTPUT_DIR / \"large_pretrained_asr_evolution.png\"\n",
    "savepath.parent.mkdir(parents=True, exist_ok=True)\n",
    "plt.savefig(savepath)\n",
    "print(f\"Figure saved at `{savepath}`.\")"
   ]
  },
  {
   "cell_type": "code",
   "execution_count": null,
   "id": "9997fa4f-3622-41c0-965a-e77ea48dd9c1",
   "metadata": {},
   "outputs": [],
   "source": []
  },
  {
   "cell_type": "code",
   "execution_count": null,
   "id": "50933661-87ee-4a27-8129-d206bf5f0cac",
   "metadata": {},
   "outputs": [],
   "source": []
  }
 ],
 "metadata": {
  "kernelspec": {
   "display_name": "Python 3 (ipykernel)",
   "language": "python",
   "name": "python3"
  },
  "language_info": {
   "codemirror_mode": {
    "name": "ipython",
    "version": 3
   },
   "file_extension": ".py",
   "mimetype": "text/x-python",
   "name": "python",
   "nbconvert_exporter": "python",
   "pygments_lexer": "ipython3",
   "version": "3.10.11"
  }
 },
 "nbformat": 4,
 "nbformat_minor": 5
}
