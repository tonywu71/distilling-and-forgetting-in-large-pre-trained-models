{
 "cells": [
  {
   "cell_type": "code",
   "execution_count": 1,
   "id": "adad23d8-ba67-4d7f-b2ce-11fd1769eaef",
   "metadata": {},
   "outputs": [],
   "source": [
    "%load_ext autoreload\n",
    "%autoreload 2"
   ]
  },
  {
   "cell_type": "code",
   "execution_count": 2,
   "id": "b3a21269-a6b7-40a5-b531-505535a77468",
   "metadata": {},
   "outputs": [
    {
     "name": "stdout",
     "output_type": "stream",
     "text": [
      "/Users/Tony/Other Docs/distilling-and-forgetting-in-large-pre-trained-models\n"
     ]
    }
   ],
   "source": [
    "%cd ..\n",
    "import os, sys\n",
    "sys.path.insert(0, os.path.dirname(os.path.dirname(os.path.abspath(os.getcwd()))))"
   ]
  },
  {
   "cell_type": "code",
   "execution_count": 3,
   "id": "c93b8595-eeb8-45b3-8031-1d824993b424",
   "metadata": {},
   "outputs": [],
   "source": [
    "from pathlib import Path\n",
    "import pandas as pd"
   ]
  },
  {
   "cell_type": "code",
   "execution_count": 4,
   "id": "68d6c537-9fa5-404d-8a0b-e931bdbd5939",
   "metadata": {},
   "outputs": [],
   "source": [
    "dirpath = Path(\"outputs/vanilla/tiny/k_beam_study/\")\n",
    "assert dirpath.is_dir()"
   ]
  },
  {
   "cell_type": "code",
   "execution_count": 5,
   "id": "c83b3eff-bdd5-437b-a5d8-0a9a820dbf82",
   "metadata": {},
   "outputs": [
    {
     "data": {
      "text/plain": [
       "[PosixPath('outputs/vanilla/tiny/k_beam_study/whisper-tiny-ami_10h-k_1.csv'),\n",
       " PosixPath('outputs/vanilla/tiny/k_beam_study/whisper-tiny-ami_10h-k_2.csv'),\n",
       " PosixPath('outputs/vanilla/tiny/k_beam_study/whisper-tiny-ami_10h-k_3.csv'),\n",
       " PosixPath('outputs/vanilla/tiny/k_beam_study/whisper-tiny-ami_10h-k_4.csv'),\n",
       " PosixPath('outputs/vanilla/tiny/k_beam_study/whisper-tiny-ami_10h-k_5.csv')]"
      ]
     },
     "execution_count": 5,
     "metadata": {},
     "output_type": "execute_result"
    }
   ],
   "source": [
    "sorted(list(dirpath.glob(\"*\")))"
   ]
  },
  {
   "cell_type": "code",
   "execution_count": 6,
   "id": "6161d1e1-6cbe-4b32-a0ab-962d16e8c5bd",
   "metadata": {},
   "outputs": [
    {
     "data": {
      "text/html": [
       "<div>\n",
       "<style scoped>\n",
       "    .dataframe tbody tr th:only-of-type {\n",
       "        vertical-align: middle;\n",
       "    }\n",
       "\n",
       "    .dataframe tbody tr th {\n",
       "        vertical-align: top;\n",
       "    }\n",
       "\n",
       "    .dataframe thead th {\n",
       "        text-align: right;\n",
       "    }\n",
       "</style>\n",
       "<table border=\"1\" class=\"dataframe\">\n",
       "  <thead>\n",
       "    <tr style=\"text-align: right;\">\n",
       "      <th></th>\n",
       "      <th>Dataset</th>\n",
       "      <th>WER (%)</th>\n",
       "      <th>Sub (%)</th>\n",
       "      <th>Del (%)</th>\n",
       "      <th>Ins (%)</th>\n",
       "    </tr>\n",
       "    <tr>\n",
       "      <th>k</th>\n",
       "      <th></th>\n",
       "      <th></th>\n",
       "      <th></th>\n",
       "      <th></th>\n",
       "      <th></th>\n",
       "    </tr>\n",
       "  </thead>\n",
       "  <tbody>\n",
       "    <tr>\n",
       "      <th>1</th>\n",
       "      <td>ami</td>\n",
       "      <td>34.67</td>\n",
       "      <td>17.12</td>\n",
       "      <td>10.04</td>\n",
       "      <td>7.51</td>\n",
       "    </tr>\n",
       "    <tr>\n",
       "      <th>2</th>\n",
       "      <td>ami</td>\n",
       "      <td>37.48</td>\n",
       "      <td>15.69</td>\n",
       "      <td>9.89</td>\n",
       "      <td>11.90</td>\n",
       "    </tr>\n",
       "    <tr>\n",
       "      <th>3</th>\n",
       "      <td>ami</td>\n",
       "      <td>39.74</td>\n",
       "      <td>15.52</td>\n",
       "      <td>9.45</td>\n",
       "      <td>14.77</td>\n",
       "    </tr>\n",
       "    <tr>\n",
       "      <th>4</th>\n",
       "      <td>ami</td>\n",
       "      <td>50.88</td>\n",
       "      <td>15.46</td>\n",
       "      <td>9.22</td>\n",
       "      <td>26.19</td>\n",
       "    </tr>\n",
       "    <tr>\n",
       "      <th>5</th>\n",
       "      <td>ami</td>\n",
       "      <td>62.30</td>\n",
       "      <td>15.56</td>\n",
       "      <td>9.09</td>\n",
       "      <td>37.66</td>\n",
       "    </tr>\n",
       "  </tbody>\n",
       "</table>\n",
       "</div>"
      ],
      "text/plain": [
       "  Dataset  WER (%)  Sub (%)  Del (%)  Ins (%)\n",
       "k                                            \n",
       "1     ami    34.67    17.12    10.04     7.51\n",
       "2     ami    37.48    15.69     9.89    11.90\n",
       "3     ami    39.74    15.52     9.45    14.77\n",
       "4     ami    50.88    15.46     9.22    26.19\n",
       "5     ami    62.30    15.56     9.09    37.66"
      ]
     },
     "execution_count": 6,
     "metadata": {},
     "output_type": "execute_result"
    }
   ],
   "source": [
    "list_df = [pd.read_csv(filepath).assign(k=filepath.stem) for filepath in dirpath.glob(\"*\")]\n",
    "df = pd.concat(list_df).reset_index(drop=True)\n",
    "df[\"k\"] = df[\"k\"].str.extract(r'[\\w+]-k_(\\d+)')\n",
    "df = df.set_index(\"k\").sort_index()\n",
    "\n",
    "df"
   ]
  },
  {
   "cell_type": "code",
   "execution_count": 7,
   "id": "405b2b42-1fc9-4275-855a-17b3c0d06113",
   "metadata": {},
   "outputs": [
    {
     "data": {
      "text/plain": [
       "<Axes: xlabel='k'>"
      ]
     },
     "execution_count": 7,
     "metadata": {},
     "output_type": "execute_result"
    },
    {
     "data": {
      "image/png": "[encoded data removed]",
      "text/plain": [
       "<Figure size 640x480 with 1 Axes>"
      ]
     },
     "metadata": {},
     "output_type": "display_data"
    }
   ],
   "source": [
    "df.plot.bar()"
   ]
  },
  {
   "cell_type": "code",
   "execution_count": null,
   "id": "cbc43667-8d84-49d5-beba-381a23c03eff",
   "metadata": {},
   "outputs": [],
   "source": []
  }
 ],
 "metadata": {
  "kernelspec": {
   "display_name": "Python 3 (ipykernel)",
   "language": "python",
   "name": "python3"
  },
  "language_info": {
   "codemirror_mode": {
    "name": "ipython",
    "version": 3
   },
   "file_extension": ".py",
   "mimetype": "text/x-python",
   "name": "python",
   "nbconvert_exporter": "python",
   "pygments_lexer": "ipython3",
   "version": "3.10.11"
  }
 },
 "nbformat": 4,
 "nbformat_minor": 5
}
