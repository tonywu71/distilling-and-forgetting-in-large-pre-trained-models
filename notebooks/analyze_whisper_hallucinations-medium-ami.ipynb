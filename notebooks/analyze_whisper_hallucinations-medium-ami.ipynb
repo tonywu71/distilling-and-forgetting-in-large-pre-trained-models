{
 "cells": [
  {
   "cell_type": "markdown",
   "id": "37324580-06a0-4be8-8194-70b8f85523c3",
   "metadata": {
    "tags": []
   },
   "source": [
    "## Imports"
   ]
  },
  {
   "cell_type": "code",
   "execution_count": null,
   "id": "fdb50902-acec-4fe8-9681-d944478c0e35",
   "metadata": {},
   "outputs": [],
   "source": [
    "%load_ext autoreload\n",
    "%autoreload 2"
   ]
  },
  {
   "cell_type": "code",
   "execution_count": null,
   "id": "cba60d42-4585-4578-b142-c703099bd091",
   "metadata": {},
   "outputs": [],
   "source": [
    "%cd ..\n",
    "import os, sys\n",
    "sys.path.insert(0, os.path.dirname(os.path.dirname(os.path.abspath(os.getcwd()))))"
   ]
  },
  {
   "cell_type": "code",
   "execution_count": null,
   "id": "b422c568-7362-4361-8052-1b78696a1b6a",
   "metadata": {},
   "outputs": [],
   "source": [
    "from pathlib import Path\n",
    "from collections import defaultdict\n",
    "\n",
    "import numpy as np\n",
    "import pandas as pd\n",
    "\n",
    "from transformers.models.whisper import WhisperTokenizerFast\n",
    "from datasets import load_from_disk\n",
    "\n",
    "import matplotlib.pyplot as plt\n",
    "import seaborn as sns\n",
    "\n",
    "from evaluation.eval_dataset_name_to_dataset_group import EVAL_DATASET_NAME_TO_DATASET_GROUP\n",
    "from evaluation.string_edit_metrics import get_string_edit_metrics_ortho_and_norm\n",
    "from normalization.whisper_normalization import get_whisper_normalizer\n",
    "from utils.whisper_hallucinations.get_features import add_features_to_ds, compute_gzip_compression_ratio\n",
    "from utils.whisper_hallucinations.eval_filter_criterion import eval_filter_criterion\n",
    "from utils.notebook_utils import listen_to_audio\n",
    "\n",
    "sns.set_theme(context=\"paper\", style=\"ticks\")\n",
    "\n",
    "OUTPUT_DIR = Path(\"notebooks/outputs/8_1_best_kd/ami_100h\")\n",
    "OUTPUT_DIR.mkdir(parents=True, exist_ok=True)"
   ]
  },
  {
   "cell_type": "markdown",
   "id": "a3fc8336-28f5-4e04-bb96-f02b7868e016",
   "metadata": {
    "tags": []
   },
   "source": [
    "## User input"
   ]
  },
  {
   "cell_type": "code",
   "execution_count": null,
   "id": "78de6501-2779-45fc-8ed3-dc32d84a1f05",
   "metadata": {},
   "outputs": [],
   "source": [
    "load_from_pickle = True\n",
    "\n",
    "pickle_filepath = \"notebooks/data/ami_100h_medium_cached_33p.pkl\"\n",
    "ds_dirpath = \"/home/tw581/rds/hpc-work/ami_100h_medium_cached_33p\""
   ]
  },
  {
   "cell_type": "markdown",
   "id": "c9f2d97d-819a-4d1b-acab-3a1f834b2813",
   "metadata": {
    "tags": []
   },
   "source": [
    "## Load tokenizer"
   ]
  },
  {
   "cell_type": "code",
   "execution_count": null,
   "id": "0221c5c8-c0e7-4ef2-928a-b03882eb6e6d",
   "metadata": {},
   "outputs": [],
   "source": [
    "pretrained_model_name_or_path = \"openai/whisper-tiny\"\n",
    "tokenizer = WhisperTokenizerFast.from_pretrained(pretrained_model_name_or_path, language=\"english\", task=\"transcribe\")"
   ]
  },
  {
   "cell_type": "markdown",
   "id": "f482c627-cd0a-41ba-8e61-96bb22b02956",
   "metadata": {
    "tags": []
   },
   "source": [
    "## Load data"
   ]
  },
  {
   "cell_type": "code",
   "execution_count": null,
   "id": "8bb17b97-d5f9-4c39-a389-c30eca5672f3",
   "metadata": {},
   "outputs": [],
   "source": [
    "LIST_FEATURES = [\n",
    "    'text',\n",
    "    'teacher_text',\n",
    "    'n_instant_tokens',\n",
    "    'max_subarray_length',\n",
    "    'audio_length',\n",
    "    'n_tokens_labels',\n",
    "    'n_tokens_teacher',\n",
    "    'diff_n_tokens',\n",
    "    'gzip_ratio',\n",
    "    'teacher_gzip_ratio',\n",
    "    'diff_gzip_ratio'\n",
    "]\n",
    "\n",
    "if load_from_pickle:\n",
    "    df = pd.read_pickle(pickle_filepath)\n",
    "else:\n",
    "    ds = load_from_disk(ds_dirpath)\n",
    "    ds = ds.map(lambda x: {\"teacher_text\": tokenizer.decode(x[\"teacher_sequences\"], skip_special_tokens=True)})\n",
    "    ds = add_features_to_ds(ds)\n",
    "    df = pd.DataFrame({col: ds[col] for col in ds.features.keys() if col in LIST_FEATURES})\n",
    "    df.to_pickle(pickle_filepath)"
   ]
  },
  {
   "cell_type": "code",
   "execution_count": null,
   "id": "ae136051-5a13-4f81-ac4b-38a74ab061c7",
   "metadata": {},
   "outputs": [],
   "source": [
    "df.head()"
   ]
  },
  {
   "cell_type": "code",
   "execution_count": null,
   "id": "a7684ec1-4c0f-4583-84e4-596475764924",
   "metadata": {},
   "outputs": [],
   "source": [
    "df.sort_values(\"n_tokens_teacher\", ascending=False)[:10]"
   ]
  },
  {
   "cell_type": "markdown",
   "id": "9bd605e2-baac-49d9-9dd0-50e997aa14fb",
   "metadata": {
    "tags": []
   },
   "source": [
    "## First analysis"
   ]
  },
  {
   "cell_type": "code",
   "execution_count": null,
   "id": "56db00ee-1ad2-4668-ba64-5526d35f4da4",
   "metadata": {},
   "outputs": [],
   "source": [
    "dict_string_edit_metrics = get_string_edit_metrics_ortho_and_norm(references=df[\"text\"], predictions=df[\"teacher_text\"], norm_fn=get_whisper_normalizer(\"english\"))\n",
    "\n",
    "dict_string_edit_metrics"
   ]
  },
  {
   "cell_type": "markdown",
   "id": "0de6f403-ec69-4928-8899-2d52a223d607",
   "metadata": {},
   "source": [
    "**Observation:** Using the Whisper normalizer drastically decreased the different string edit metric errors. Since 1-best operated without any normalization, we will focus on the orthographic WER in this study."
   ]
  },
  {
   "cell_type": "code",
   "execution_count": null,
   "id": "30ecdb50-c3af-4743-820d-742be1af9862",
   "metadata": {},
   "outputs": [],
   "source": [
    "plt.figure(figsize=(5, 3))\n",
    "df[\"audio_length\"].plot.hist();"
   ]
  },
  {
   "cell_type": "code",
   "execution_count": null,
   "id": "e00822a2-f849-4ccb-8f11-a48079288d18",
   "metadata": {},
   "outputs": [],
   "source": [
    "plt.figure(figsize=(12, 3))\n",
    "sns.boxplot(data=df[[\"n_tokens_labels\", \"n_tokens_teacher\"]], orient=\"h\");"
   ]
  },
  {
   "cell_type": "code",
   "execution_count": null,
   "id": "ffbd5e5c-fe2d-47ba-bd0b-ecab241ed205",
   "metadata": {},
   "outputs": [],
   "source": [
    "x_col = \"n_tokens_labels\"\n",
    "y_col = \"n_tokens_teacher\"\n",
    "\n",
    "sns.jointplot(data=df, x=x_col, y=y_col, alpha=0.3)\n",
    "line_max_coord = min(df[x_col].max(), df[y_col].max())\n",
    "plt.plot([0, line_max_coord], [0, line_max_coord], 'b--', label=r\"$y=x$\")\n",
    "plt.legend()\n",
    "plt.tight_layout()\n",
    "\n",
    "savepath = OUTPUT_DIR / \"analysis\" / \"n_tokens_teacher_wrt_n_tokens_label.png\"\n",
    "savepath.parent.mkdir(parents=True, exist_ok=True)\n",
    "plt.savefig(savepath)\n",
    "print(f\"Figure saved at `{savepath}`.\")"
   ]
  },
  {
   "cell_type": "code",
   "execution_count": null,
   "id": "a77b028f-38e1-40b8-899c-360de55cafc1",
   "metadata": {},
   "outputs": [],
   "source": [
    "plt.figure(figsize=(12, 1.5))\n",
    "sns.boxplot(data=df[[\"diff_n_tokens\"]], orient=\"h\")\n",
    "\n",
    "savepath = OUTPUT_DIR / \"analysis\" / \"boxplot_n_diff_tokens.png\"\n",
    "savepath.parent.mkdir(parents=True, exist_ok=True)\n",
    "plt.savefig(savepath)\n",
    "print(f\"Figure saved at `{savepath}`.\")"
   ]
  },
  {
   "cell_type": "code",
   "execution_count": null,
   "id": "d94d7cc1-db16-4b54-9c46-84287087ee0f",
   "metadata": {},
   "outputs": [],
   "source": [
    "plt.figure(figsize=(12, 1.5))\n",
    "sns.boxplot(data=df[[\"diff_n_tokens\"]], orient=\"h\")\n",
    "plt.xlim(-50, 50);"
   ]
  },
  {
   "cell_type": "code",
   "execution_count": null,
   "id": "f01021a5-22a8-4252-be5a-00c74dbb83be",
   "metadata": {},
   "outputs": [],
   "source": [
    "sns.scatterplot(data=df, x=\"audio_length\", y=\"diff_n_tokens\", alpha=0.3);"
   ]
  },
  {
   "cell_type": "code",
   "execution_count": null,
   "id": "63c80b0e-d5ef-4fe8-ac2b-b6c03e83a2a4",
   "metadata": {},
   "outputs": [],
   "source": [
    "fig, axis = plt.subplots(1, 2, figsize=(8, 3), sharey=True)\n",
    "sns.scatterplot(data=df, x=\"audio_length\", y=\"n_tokens_labels\", label=\"Labels\", alpha=0.3, ax=axis[0])\n",
    "sns.scatterplot(data=df, x=\"audio_length\", y=\"n_tokens_teacher\", label=\"Predictions\", c=\"coral\", alpha=0.3, ax=axis[1])\n",
    "axis[0].set_ylabel(\"n_tokens\")\n",
    "fig.tight_layout()\n",
    "\n",
    "savepath = OUTPUT_DIR / \"analysis\" / \"n_tokens_wrt_audio_length.png\"\n",
    "savepath.parent.mkdir(parents=True, exist_ok=True)\n",
    "fig.savefig(savepath)\n",
    "print(f\"Figure saved at `{savepath}`.\")"
   ]
  },
  {
   "cell_type": "markdown",
   "id": "77dd2cea-7b71-4e3e-b28d-d09e1ea3b0e0",
   "metadata": {},
   "source": [
    "## Criteria for filtering"
   ]
  },
  {
   "cell_type": "markdown",
   "id": "7891970c-a074-4982-81d9-f353b8652281",
   "metadata": {
    "tags": []
   },
   "source": [
    "### Exceeding tokens"
   ]
  },
  {
   "cell_type": "code",
   "execution_count": null,
   "id": "d9909a47-2137-442f-b9f0-4f1ef3922b6f",
   "metadata": {},
   "outputs": [],
   "source": [
    "THRESH_DELTA_N_TOKENS = df[\"diff_n_tokens\"].mean() + 1.0 * df[\"diff_n_tokens\"].std()\n",
    "THRESH_DELTA_N_TOKENS"
   ]
  },
  {
   "cell_type": "code",
   "execution_count": null,
   "id": "2876055f-c845-4f4b-b9cb-3096c80ac4d0",
   "metadata": {},
   "outputs": [],
   "source": [
    "# Define the columns to use for the plot\n",
    "x_col = \"n_tokens_labels\"\n",
    "y_col = \"n_tokens_teacher\"\n",
    "\n",
    "# Define the value of delta\n",
    "delta = THRESH_DELTA_N_TOKENS\n",
    "\n",
    "# Create the joint plot\n",
    "sns.jointplot(data=df, x=x_col, y=y_col, alpha=0.3)\n",
    "\n",
    "# Plot the line y = x + delta\n",
    "plt.plot([df[x_col].min(), df[x_col].max()], [df[x_col].min() + delta, df[x_col].max() + delta], 'r--', label=r\"$y = x + \\delta$\")\n",
    "\n",
    "# Fill the area above the line y = x + delta\n",
    "plt.fill_between([0, df[x_col].max()],\n",
    "                 [0 + delta, df[x_col].max() + delta], df[y_col].max(),\n",
    "                 alpha=0.2,\n",
    "                 color=\"red\")\n",
    "\n",
    "# Plot the line y = x\n",
    "plt.plot([df[x_col].min(), df[x_col].max()], [df[x_col].min(), df[x_col].max()], 'k--', label=r\"$y = x$\")\n",
    "\n",
    "# Add legend and set axis limits\n",
    "plt.legend()\n",
    "plt.xlim(0, df[x_col].max())\n",
    "plt.ylim(0, df[y_col].max())\n",
    "\n",
    "# Adjust the layout and show the plot\n",
    "plt.tight_layout()\n",
    "\n",
    "# Save figure\n",
    "savepath = OUTPUT_DIR / \"exceeding_tokens_filtering\" / \"exceeding_tokens_filter_pairplot.png\"\n",
    "savepath.parent.mkdir(parents=True, exist_ok=True)\n",
    "plt.savefig(savepath)\n",
    "print(f\"Figure saved at `{savepath}`.\")"
   ]
  },
  {
   "cell_type": "code",
   "execution_count": null,
   "id": "c085ffc4-70af-4729-af4e-c22e51e9574a",
   "metadata": {},
   "outputs": [],
   "source": [
    "# Define the columns to use for the plot\n",
    "x_col = \"n_tokens_labels\"\n",
    "y_col = \"n_tokens_teacher\"\n",
    "\n",
    "# Define the value of delta\n",
    "delta = THRESH_DELTA_N_TOKENS\n",
    "\n",
    "# Create the joint plot\n",
    "sns.jointplot(data=df, x=x_col, y=y_col, alpha=0.3)\n",
    "\n",
    "# Plot the line y = x + delta\n",
    "plt.plot([df[x_col].min(), df[x_col].max()], [df[x_col].min() + delta, df[x_col].max() + delta], 'r--', label=r\"$y = x + \\delta$\")\n",
    "\n",
    "# Fill the area above the line y = x + delta\n",
    "plt.fill_between([0, df[x_col].max()],\n",
    "                 [0 + delta, df[x_col].max() + delta], df[y_col].max(),\n",
    "                 alpha=0.2,\n",
    "                 color=\"red\")\n",
    "\n",
    "# Plot the line y = x\n",
    "plt.plot([df[x_col].min(), df[x_col].max()], [df[x_col].min(), df[x_col].max()], 'k--', label=r\"$y = x$\")\n",
    "\n",
    "# Add legend and set axis limits\n",
    "plt.legend()\n",
    "line_max_coord = min(df[x_col].max(), df[y_col].max())\n",
    "plt.xlim(0, line_max_coord)\n",
    "plt.ylim(0, line_max_coord)\n",
    "\n",
    "# Adjust the layout and show the plot\n",
    "plt.tight_layout()\n",
    "plt.show()"
   ]
  },
  {
   "cell_type": "code",
   "execution_count": null,
   "id": "27f838d2-1b0d-488a-9418-cd3b11957398",
   "metadata": {
    "tags": []
   },
   "outputs": [],
   "source": [
    "plt.figure(figsize=(6, 6))\n",
    "\n",
    "# create a histogram of the \"diff_n_tokens\" column\n",
    "sns.histplot(data=df, x=\"diff_n_tokens\", bins=100)\n",
    "\n",
    "# shade the area that will be filtered out in red\n",
    "plt.axvspan(THRESH_DELTA_N_TOKENS, df[\"diff_n_tokens\"].max(), color='red', alpha=0.2, label=\"Filtered out\")\n",
    "\n",
    "plt.legend()\n",
    "\n",
    "# show the plot\n",
    "plt.tight_layout()\n",
    "\n",
    "# Save figure\n",
    "savepath = OUTPUT_DIR / \"exceeding_tokens_filtering\" / \"exceeding_tokens_filter_hist.png\"\n",
    "savepath.parent.mkdir(parents=True, exist_ok=True)\n",
    "plt.savefig(savepath)\n",
    "print(f\"Figure saved at `{savepath}`.\")"
   ]
  },
  {
   "cell_type": "code",
   "execution_count": null,
   "id": "b77edb0d-9d1c-401f-875f-8058fa88cae0",
   "metadata": {
    "tags": []
   },
   "outputs": [],
   "source": [
    "df[\"high_diff_n_tokens\"] = (df[\"diff_n_tokens\"] > THRESH_DELTA_N_TOKENS)\n",
    "\n",
    "df[\"high_diff_n_tokens\"].value_counts()"
   ]
  },
  {
   "cell_type": "code",
   "execution_count": null,
   "id": "6f34c427-b168-4d51-9f28-bec7a5011fbd",
   "metadata": {
    "scrolled": true,
    "tags": []
   },
   "outputs": [],
   "source": [
    "df_candidates = df[df[\"high_diff_n_tokens\"]]\n",
    "\n",
    "for idx in range(len(df_candidates)):\n",
    "    print(f\"Idx = {df_candidates.iloc[idx].name}\")\n",
    "    print(\"Reference: \", df_candidates.iloc[idx][\"text\"])\n",
    "    print(\"Prediction: \", df_candidates.iloc[idx][\"teacher_text\"])\n",
    "    print()"
   ]
  },
  {
   "cell_type": "code",
   "execution_count": null,
   "id": "ec5a292c-22cc-4c00-96d9-b4fa9881e555",
   "metadata": {},
   "outputs": [],
   "source": [
    "if not load_from_pickle:\n",
    "    list_idx_to_listen = df_candidates.index[:5]\n",
    "    listen_to_audio(ds, list_idx_to_listen, pred_col=\"teacher_text\")"
   ]
  },
  {
   "cell_type": "code",
   "execution_count": null,
   "id": "d1e6b381-fef5-46c0-8c51-1ccf2467a7b6",
   "metadata": {},
   "outputs": [],
   "source": [
    "eval_filter_criterion(df, df_filter=(df[\"diff_n_tokens\"] <= THRESH_DELTA_N_TOKENS))"
   ]
  },
  {
   "cell_type": "markdown",
   "id": "5f63e53e-5ed3-493d-9f12-aabeb17c9170",
   "metadata": {},
   "source": [
    "**Observation:** Good criterion. Note that this also tackles the fact that the vanilla Whisper models tend to transcribe even the speeches in the background. By removing them from the training set, we hope to teach Whisper to only focus on the main speaker."
   ]
  },
  {
   "cell_type": "markdown",
   "id": "b74a169f-7bba-4138-854f-3fe273ec852d",
   "metadata": {
    "tags": []
   },
   "source": [
    "### gzip compression ratio"
   ]
  },
  {
   "cell_type": "markdown",
   "id": "613a6cec-ce8d-4446-8da2-75dc938bec7e",
   "metadata": {
    "tags": []
   },
   "source": [
    "#### Analysis"
   ]
  },
  {
   "cell_type": "code",
   "execution_count": null,
   "id": "ceaee110-7225-430a-90b1-62f98eebe2dd",
   "metadata": {},
   "outputs": [],
   "source": [
    "# Quick example to confirm the intuition:\n",
    "ref = \"yeah so uh what we'll do is uh\"\n",
    "pred = \"So, what we will do is, we will do is, we will do is, we will do is, we will do is,\"\n",
    "\n",
    "print(\"gzip ratios:\")\n",
    "print(\"- reference: \", compute_gzip_compression_ratio(ref))\n",
    "print(\"- prediction: \", compute_gzip_compression_ratio(pred))"
   ]
  },
  {
   "cell_type": "code",
   "execution_count": null,
   "id": "ccbd3cb3-e3fe-48e9-9b0d-6698b76311f5",
   "metadata": {},
   "outputs": [],
   "source": [
    "x_col = \"gzip_ratio\"\n",
    "y_col = \"teacher_gzip_ratio\"\n",
    "\n",
    "sns.jointplot(data=df, x=x_col, y=y_col, alpha=0.3)\n",
    "line_max_coord = min(df[x_col].max(), df[y_col].max())\n",
    "plt.plot([0, line_max_coord], [0, line_max_coord], 'b--', label=r\"$y=x$\")\n",
    "plt.legend()\n",
    "# plt.xlim(-1, line_max_coord)\n",
    "# plt.ylim(-1, line_max_coord)\n",
    "plt.tight_layout()\n",
    "\n",
    "savepath = OUTPUT_DIR / \"gzip_ratio_filtering\" / \"pairplot_gzip.png\"\n",
    "savepath.parent.mkdir(parents=True, exist_ok=True)\n",
    "plt.savefig(savepath)\n",
    "print(f\"Figure saved at `{savepath}`.\")"
   ]
  },
  {
   "cell_type": "code",
   "execution_count": null,
   "id": "c9309507-c1e9-419a-abfb-fc89cb28d8f0",
   "metadata": {},
   "outputs": [],
   "source": [
    "x_col = \"gzip_ratio\"\n",
    "y_col = \"teacher_gzip_ratio\"\n",
    "\n",
    "sns.jointplot(data=df, x=x_col, y=y_col, alpha=0.3)\n",
    "line_max_coord = min(df[x_col].max(), df[y_col].max())\n",
    "plt.plot([0, line_max_coord], [0, line_max_coord], 'b--', label=r\"$y=x$\")\n",
    "plt.legend()\n",
    "plt.xlim(0, line_max_coord)\n",
    "plt.ylim(0, 2.5)\n",
    "plt.tight_layout()"
   ]
  },
  {
   "cell_type": "code",
   "execution_count": null,
   "id": "9922a3c5-3c2a-429f-9a6d-dc9fe85afef7",
   "metadata": {},
   "outputs": [],
   "source": [
    "plt.figure(figsize=(12, 1.5))\n",
    "sns.boxplot(data=df[[\"diff_gzip_ratio\"]], orient=\"h\")\n",
    "\n",
    "# Save figure:\n",
    "savepath = OUTPUT_DIR / \"gzip_ratio_filtering\" / \"boxplot_gzip_ratio.png\"\n",
    "savepath.parent.mkdir(parents=True, exist_ok=True)\n",
    "plt.savefig(savepath)\n",
    "print(f\"Figure saved at `{savepath}`.\")"
   ]
  },
  {
   "cell_type": "markdown",
   "id": "1b1e7a29-2d01-4042-9f69-1a66fa9c3cd7",
   "metadata": {
    "tags": []
   },
   "source": [
    "#### Using only the teacher gzip ratio"
   ]
  },
  {
   "cell_type": "code",
   "execution_count": null,
   "id": "fd623200-a0f4-483e-88c6-bb7e5d7513c3",
   "metadata": {},
   "outputs": [],
   "source": [
    "THRESH_TEACHER_GZIP = df[\"teacher_gzip_ratio\"].mean() + 2 * df[\"teacher_gzip_ratio\"].std()\n",
    "\n",
    "THRESH_TEACHER_GZIP"
   ]
  },
  {
   "cell_type": "code",
   "execution_count": null,
   "id": "4d82f091-a055-43db-8f37-96faf4cb3a55",
   "metadata": {},
   "outputs": [],
   "source": [
    "plt.figure(figsize=(6, 6))\n",
    "\n",
    "# create a histogram of the \"diff_n_tokens\" column\n",
    "sns.histplot(data=df, x=\"teacher_gzip_ratio\")\n",
    "\n",
    "# shade the area that will be filtered out in red\n",
    "plt.axvspan(THRESH_TEACHER_GZIP, df[\"teacher_gzip_ratio\"].max(), color='red', alpha=0.2, label=\"Filtered out\")\n",
    "\n",
    "plt.legend()\n",
    "plt.xlim(-1, 5)\n",
    "\n",
    "# show the plot\n",
    "plt.tight_layout()\n",
    "\n",
    "# Save figure:\n",
    "savepath = OUTPUT_DIR  / \"gzip_ratio_filtering\" / \"teacher_gzip_ratio\" / \"hist_teacher_gzip_filter.png\"\n",
    "savepath.parent.mkdir(parents=True, exist_ok=True)\n",
    "plt.savefig(savepath)\n",
    "print(f\"Figure saved at `{savepath}`.\")"
   ]
  },
  {
   "cell_type": "code",
   "execution_count": null,
   "id": "bc5ff944-e3ed-46b4-8d5d-1ec9630b4356",
   "metadata": {
    "scrolled": true,
    "tags": []
   },
   "outputs": [],
   "source": [
    "df_candidates = df[df[\"teacher_gzip_ratio\"] > THRESH_TEACHER_GZIP]\n",
    "\n",
    "for idx in range(len(df_candidates)):\n",
    "    print(f\"Idx = {df_candidates.iloc[idx].name}\")\n",
    "    print(\"Reference: \", df_candidates.iloc[idx][\"text\"])\n",
    "    print(\"Prediction: \", df_candidates.iloc[idx][\"teacher_text\"])\n",
    "    print()"
   ]
  },
  {
   "cell_type": "code",
   "execution_count": null,
   "id": "ea578a4b-82c3-405d-aee9-7cf440ac22c0",
   "metadata": {},
   "outputs": [],
   "source": [
    "eval_filter_criterion(df, df_filter=(df[\"teacher_gzip_ratio\"] <= THRESH_TEACHER_GZIP))"
   ]
  },
  {
   "cell_type": "markdown",
   "id": "6f10ed39-8cdb-41ae-84e1-1ad211deb035",
   "metadata": {
    "tags": []
   },
   "source": [
    "#### Using the absolute difference in GZIP ratio with the ground-truth"
   ]
  },
  {
   "cell_type": "code",
   "execution_count": null,
   "id": "86824b6a-9a6b-42a4-b7f5-60d9e2bf259d",
   "metadata": {},
   "outputs": [],
   "source": [
    "THRESH_DIFF_GZIP = df[\"diff_gzip_ratio\"].mean() + 1.0 * df[\"diff_gzip_ratio\"].std()\n",
    "\n",
    "THRESH_DIFF_GZIP"
   ]
  },
  {
   "cell_type": "code",
   "execution_count": null,
   "id": "ca8c895b-af8f-4a36-b1bd-5c53c961bf56",
   "metadata": {},
   "outputs": [],
   "source": [
    "# Define the columns to use for the plot\n",
    "x_col = \"gzip_ratio\"\n",
    "y_col = \"teacher_gzip_ratio\"\n",
    "\n",
    "\n",
    "# Define the value of delta\n",
    "delta = THRESH_DIFF_GZIP\n",
    "\n",
    "# Create the joint plot\n",
    "sns.jointplot(data=df, x=x_col, y=y_col, alpha=0.3)\n",
    "\n",
    "# Plot the line y = x + delta\n",
    "plt.plot([df[x_col].min(), df[x_col].max()], [df[x_col].min() + delta, df[x_col].max() + delta], 'r--', label=r\"$y = x + \\delta$\")\n",
    "\n",
    "# Fill the area above the line y = x + delta\n",
    "plt.fill_between([0, df[x_col].max()],\n",
    "                 [0 + delta, df[x_col].max() + delta], df[y_col].max(),\n",
    "                 alpha=0.2,\n",
    "                 color=\"red\")\n",
    "\n",
    "# Plot the line y = x\n",
    "plt.plot([df[x_col].min(), df[x_col].max()], [df[x_col].min(), df[x_col].max()], 'k--', label=r\"$y = x$\")\n",
    "\n",
    "# Plot the line y = x - delta\n",
    "plt.plot([df[x_col].min(), df[x_col].max()], [df[x_col].min() - delta, df[x_col].max() - delta], 'r--', label=r\"$y = x - \\delta$\")\n",
    "\n",
    "# Fill the area below the line y = x - delta\n",
    "plt.fill_between([0, df[x_col].max()],\n",
    "                 [0 - delta, df[x_col].max() - delta], df[y_col].min(),\n",
    "                 alpha=0.2,\n",
    "                 color=\"red\")\n",
    "\n",
    "# Add legend and set axis limits\n",
    "plt.legend()\n",
    "plt.xlim(0, df[x_col].max())\n",
    "plt.ylim(0, df[y_col].max())\n",
    "\n",
    "# Adjust the layout and show the plot\n",
    "plt.tight_layout()\n",
    "\n",
    "# Save figure:\n",
    "savepath = OUTPUT_DIR  / \"analysis\" / \"gzip_ratio_filtering\" / \"diff_gzip_ratio\" / \"pairplot_gzip_filter.png\"\n",
    "savepath.parent.mkdir(parents=True, exist_ok=True)\n",
    "plt.savefig(savepath)\n",
    "print(f\"Figure saved at `{savepath}`.\")"
   ]
  },
  {
   "cell_type": "code",
   "execution_count": null,
   "id": "a3906357-4f77-4e4c-8b33-87545a815215",
   "metadata": {},
   "outputs": [],
   "source": [
    "# Define the columns to use for the plot\n",
    "x_col = \"gzip_ratio\"\n",
    "y_col = \"teacher_gzip_ratio\"\n",
    "\n",
    "\n",
    "# Define the value of delta\n",
    "delta = THRESH_DIFF_GZIP\n",
    "\n",
    "# Create the joint plot\n",
    "sns.jointplot(data=df, x=x_col, y=y_col, alpha=0.3)\n",
    "\n",
    "# Plot the line y = x + delta\n",
    "plt.plot([df[x_col].min(), df[x_col].max()], [df[x_col].min() + delta, df[x_col].max() + delta], 'r--', label=r\"$y = x + \\delta$\")\n",
    "\n",
    "# Fill the area above the line y = x + delta\n",
    "plt.fill_between([0, df[x_col].max()],\n",
    "                 [0 + delta, df[x_col].max() + delta], df[y_col].max(),\n",
    "                 alpha=0.2,\n",
    "                 color=\"red\")\n",
    "\n",
    "# Plot the line y = x\n",
    "plt.plot([df[x_col].min(), df[x_col].max()], [df[x_col].min(), df[x_col].max()], 'k--', label=r\"$y = x$\")\n",
    "\n",
    "# Plot the line y = x - delta\n",
    "plt.plot([df[x_col].min(), df[x_col].max()], [df[x_col].min() - delta, df[x_col].max() - delta], 'r--', label=r\"$y = x - \\delta$\")\n",
    "\n",
    "# Fill the area below the line y = x - delta\n",
    "plt.fill_between([0, df[x_col].max()],\n",
    "                 [0 - delta, df[x_col].max() - delta], df[y_col].min(),\n",
    "                 alpha=0.2,\n",
    "                 color=\"red\")\n",
    "\n",
    "# Add legend and set axis limits\n",
    "plt.legend()\n",
    "line_max_coord = min(df[x_col].max(), df[y_col].max())\n",
    "plt.xlim(0, line_max_coord)\n",
    "plt.ylim(0, line_max_coord)\n",
    "\n",
    "# Adjust the layout and show the plot\n",
    "plt.tight_layout()"
   ]
  },
  {
   "cell_type": "code",
   "execution_count": null,
   "id": "bfcc585b-12d9-4ab0-8328-35c8d56956a9",
   "metadata": {},
   "outputs": [],
   "source": [
    "plt.figure(figsize=(6, 6))\n",
    "\n",
    "# create a histogram of the \"diff_n_tokens\" column\n",
    "sns.histplot(data=df, x=\"diff_gzip_ratio\")\n",
    "\n",
    "# shade the area that will be filtered out in red\n",
    "plt.axvspan(THRESH_DIFF_GZIP, df[\"diff_gzip_ratio\"].max(), color='red', alpha=0.2, label=\"Filtered out\")\n",
    "plt.axvspan(-THRESH_DIFF_GZIP, df[\"diff_gzip_ratio\"].min(), color='red', alpha=0.2)\n",
    "\n",
    "plt.legend()\n",
    "plt.xlim(-1, 1)\n",
    "\n",
    "# show the plot\n",
    "plt.tight_layout()\n",
    "\n",
    "# Save figure:\n",
    "savepath = OUTPUT_DIR / \"analysis\" / \"gzip_ratio_filtering\" / \"diff_gzip_ratio\" / \"hist_gzip_filter.png\"\n",
    "savepath.parent.mkdir(parents=True, exist_ok=True)\n",
    "plt.savefig(savepath)\n",
    "print(f\"Figure saved at `{savepath}`.\")"
   ]
  },
  {
   "cell_type": "code",
   "execution_count": null,
   "id": "cbc49bae-2658-4092-8b6d-a156f6b1029c",
   "metadata": {
    "scrolled": true,
    "tags": []
   },
   "outputs": [],
   "source": [
    "df_candidates = df[df[\"diff_gzip_ratio\"] > THRESH_DIFF_GZIP]\n",
    "\n",
    "for idx in range(len(df_candidates)):\n",
    "    print(f\"Idx = {df_candidates.iloc[idx].name}\")\n",
    "    print(\"Reference: \", df_candidates.iloc[idx][\"text\"])\n",
    "    print(\"Prediction: \", df_candidates.iloc[idx][\"teacher_text\"])\n",
    "    print()"
   ]
  },
  {
   "cell_type": "code",
   "execution_count": null,
   "id": "2f77e013-741f-4b2c-aac0-d3087c395102",
   "metadata": {
    "scrolled": true,
    "tags": []
   },
   "outputs": [],
   "source": [
    "df_candidates = df[df[\"diff_gzip_ratio\"] < - THRESH_DIFF_GZIP]\n",
    "\n",
    "for idx in range(len(df_candidates)):\n",
    "    print(f\"Idx = {df_candidates.iloc[idx].name}\")\n",
    "    print(\"Reference: \", df_candidates.iloc[idx][\"text\"])\n",
    "    print(\"Prediction: \", df_candidates.iloc[idx][\"teacher_text\"])\n",
    "    print()"
   ]
  },
  {
   "cell_type": "code",
   "execution_count": null,
   "id": "4b8770d4-77ad-433c-bca3-76e6aaab2702",
   "metadata": {},
   "outputs": [],
   "source": [
    "eval_filter_criterion(df, df_filter=(df[\"diff_gzip_ratio\"].abs() <= THRESH_DIFF_GZIP))"
   ]
  },
  {
   "cell_type": "markdown",
   "id": "0ded06fb-a6af-4dc3-8a9a-7620924c7861",
   "metadata": {
    "tags": []
   },
   "source": [
    "### Timestamp overlaps"
   ]
  },
  {
   "cell_type": "code",
   "execution_count": null,
   "id": "33835d38-4ee3-4d3f-812f-027f8f2c262b",
   "metadata": {},
   "outputs": [],
   "source": [
    "df[\"n_instant_tokens_norm\"] = df[\"n_instant_tokens\"] / df[\"n_tokens_teacher\"]\n",
    "df[\"max_subarray_length_norm\"] = df[\"max_subarray_length\"] / df[\"n_tokens_teacher\"]"
   ]
  },
  {
   "cell_type": "markdown",
   "id": "e805d872-db62-41a3-b9db-95350ff4feec",
   "metadata": {},
   "source": [
    "#### Using the normalized number of instant tokens"
   ]
  },
  {
   "cell_type": "code",
   "execution_count": null,
   "id": "bbe63427-4348-4397-b22e-00d98fc575d2",
   "metadata": {},
   "outputs": [],
   "source": [
    "plt.figure(figsize=(7, 3))\n",
    "df[\"n_instant_tokens_norm\"].plot.hist(bins=50);"
   ]
  },
  {
   "cell_type": "code",
   "execution_count": null,
   "id": "0d023c5e-b55c-4a9a-8ce4-b8a91fb957a8",
   "metadata": {},
   "outputs": [],
   "source": [
    "x_col = \"diff_n_tokens\"\n",
    "y_col = \"n_instant_tokens_norm\"\n",
    "\n",
    "sns.jointplot(data=df, x=x_col, y=y_col, alpha=0.3, height=6)\n",
    "plt.tight_layout()\n",
    "\n",
    "savepath = OUTPUT_DIR / \"timestamp_based\" / \"instant_tokens\" / \"n_instant_tokens_norm_wrt_diff_n_tokens.png\"\n",
    "savepath.parent.mkdir(parents=True, exist_ok=True)\n",
    "plt.savefig(savepath)\n",
    "print(f\"Figure saved at `{savepath}`.\")"
   ]
  },
  {
   "cell_type": "code",
   "execution_count": null,
   "id": "58304adb-4c55-4be7-86d3-43f6d37c1a8c",
   "metadata": {},
   "outputs": [],
   "source": [
    "x_col = \"n_instant_tokens_norm\"\n",
    "hue = \"high_diff_n_tokens\"\n",
    "\n",
    "fig, axis = plt.subplots(2, 1, sharex=True, figsize=(8, 6))\n",
    "sns.histplot(data=df[~df[\"high_diff_n_tokens\"]], x=x_col, label=\"low_diff_n_tokens\", ax=axis[0])\n",
    "axis[0].legend()\n",
    "sns.histplot(data=df[df[\"high_diff_n_tokens\"]], x=x_col, label=\"high_diff_n_tokens\", color=\"coral\", ax=axis[1])\n",
    "axis[1].legend()\n",
    "fig.tight_layout()"
   ]
  },
  {
   "cell_type": "code",
   "execution_count": null,
   "id": "63cf87b5-d4ba-4d57-b2f8-5f44eb51dc52",
   "metadata": {
    "scrolled": true,
    "tags": []
   },
   "outputs": [],
   "source": [
    "df_candidates = df[df[\"n_instant_tokens_norm\"] > 0.95]\n",
    "\n",
    "for idx in range(len(df_candidates)):\n",
    "    print(f\"Idx = {df_candidates.iloc[idx].name}\")\n",
    "    print(\"Reference: \", df_candidates.iloc[idx][\"text\"])\n",
    "    print(\"Prediction: \", df_candidates.iloc[idx][\"teacher_text\"])\n",
    "    print()"
   ]
  },
  {
   "cell_type": "markdown",
   "id": "42f3089d-25a2-4dbf-b05b-4367a77e892d",
   "metadata": {},
   "source": [
    "#### Using the normalized maximum subarray length"
   ]
  },
  {
   "cell_type": "code",
   "execution_count": null,
   "id": "bf7eea77-2994-4733-b24b-99823b259c4f",
   "metadata": {},
   "outputs": [],
   "source": [
    "plt.figure(figsize=(7, 3))\n",
    "df[\"max_subarray_length_norm\"].plot.hist(bins=50);"
   ]
  },
  {
   "cell_type": "code",
   "execution_count": null,
   "id": "cccf8db3-e1ef-43dd-959d-22c21a7a5f4d",
   "metadata": {},
   "outputs": [],
   "source": [
    "x_col = \"diff_n_tokens\"\n",
    "y_col = \"max_subarray_length_norm\"\n",
    "\n",
    "sns.jointplot(data=df, x=x_col, y=y_col, alpha=0.3, height=6)\n",
    "plt.tight_layout()\n",
    "\n",
    "savepath = OUTPUT_DIR / \"timestamp_based\" / \"max_subarray_length\" / \"max_subarray_length_norm_wrt_diff_n_tokens.png\"\n",
    "savepath.parent.mkdir(parents=True, exist_ok=True)\n",
    "plt.savefig(savepath)\n",
    "print(f\"Figure saved at `{savepath}`.\")"
   ]
  },
  {
   "cell_type": "markdown",
   "id": "1a46a2ba-1ac4-4828-8ef6-f93bf7877755",
   "metadata": {},
   "source": [
    "**Observation:** Not promising because we can't even discriminate the obvious hallucinations (the points with a high value of `diff_n_tokens` using `max_subarray_length_norm`)."
   ]
  },
  {
   "cell_type": "code",
   "execution_count": null,
   "id": "75b06d45-ab72-4a5a-8be6-bf31692ff567",
   "metadata": {},
   "outputs": [],
   "source": []
  }
 ],
 "metadata": {
  "kernelspec": {
   "display_name": "Python 3 (ipykernel)",
   "language": "python",
   "name": "python3"
  },
  "language_info": {
   "codemirror_mode": {
    "name": "ipython",
    "version": 3
   },
   "file_extension": ".py",
   "mimetype": "text/x-python",
   "name": "python",
   "nbconvert_exporter": "python",
   "pygments_lexer": "ipython3",
   "version": "3.10.11"
  },
  "toc-autonumbering": false
 },
 "nbformat": 4,
 "nbformat_minor": 5
}
