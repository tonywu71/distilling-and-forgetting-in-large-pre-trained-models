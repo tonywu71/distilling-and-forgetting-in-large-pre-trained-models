{
 "cells": [
  {
   "cell_type": "markdown",
   "id": "37324580-06a0-4be8-8194-70b8f85523c3",
   "metadata": {},
   "source": [
    "## Imports"
   ]
  },
  {
   "cell_type": "code",
   "execution_count": null,
   "id": "fdb50902-acec-4fe8-9681-d944478c0e35",
   "metadata": {},
   "outputs": [],
   "source": [
    "%load_ext autoreload\n",
    "%autoreload 2"
   ]
  },
  {
   "cell_type": "code",
   "execution_count": null,
   "id": "cba60d42-4585-4578-b142-c703099bd091",
   "metadata": {},
   "outputs": [],
   "source": [
    "%cd ..\n",
    "import os, sys\n",
    "sys.path.insert(0, os.path.dirname(os.path.dirname(os.path.abspath(os.getcwd()))))"
   ]
  },
  {
   "cell_type": "code",
   "execution_count": null,
   "id": "b422c568-7362-4361-8052-1b78696a1b6a",
   "metadata": {},
   "outputs": [],
   "source": [
    "from typing import Dict, Any\n",
    "from tqdm.auto import tqdm\n",
    "\n",
    "import pandas as pd\n",
    "\n",
    "import matplotlib.pyplot as plt\n",
    "import seaborn as sns\n",
    "\n",
    "import torch\n",
    "from transformers import pipeline\n",
    "from transformers.models.whisper import (WhisperTokenizer,\n",
    "                                         WhisperTokenizerFast,\n",
    "                                         WhisperFeatureExtractor,\n",
    "                                         WhisperForConditionalGeneration)\n",
    "\n",
    "from dataloader.dataset_loader import gen_from_dataset\n",
    "from evaluation.eval_dataset_name_to_dataset_group import EVAL_DATASET_NAME_TO_DATASET_GROUP\n",
    "from evaluation.string_edit_metrics import get_string_edit_metrics\n",
    "\n",
    "from utils.constants import GEN_MAX_LENGTH, DEFAULT_EVAL_NUM_BEAMS\n",
    "\n",
    "device = torch.device('mps')\n",
    "sns.set_theme(context=\"paper\", style=\"ticks\")"
   ]
  },
  {
   "cell_type": "markdown",
   "id": "14fcde89-6579-4200-bb8c-f0d0f618971a",
   "metadata": {},
   "source": [
    "## User input"
   ]
  },
  {
   "cell_type": "markdown",
   "id": "4fb40d39-119f-4c6a-b960-99dc206d6350",
   "metadata": {},
   "source": [
    "## Load model"
   ]
  },
  {
   "cell_type": "code",
   "execution_count": null,
   "id": "a44a8a39-776d-4177-ae70-33d876edefa8",
   "metadata": {},
   "outputs": [],
   "source": [
    "pretrained_model_name_or_path = \"openai/whisper-tiny\"\n",
    "\n",
    "model = WhisperForConditionalGeneration.from_pretrained(pretrained_model_name_or_path)\n",
    "feature_extractor = WhisperFeatureExtractor.from_pretrained(pretrained_model_name_or_path)\n",
    "tokenizer = WhisperTokenizerFast.from_pretrained(pretrained_model_name_or_path, language=\"english\", task=\"transcribe\")\n",
    "\n",
    "whisper_norm = tokenizer._normalize"
   ]
  },
  {
   "cell_type": "markdown",
   "id": "f482c627-cd0a-41ba-8e61-96bb22b02956",
   "metadata": {},
   "source": [
    "## Load dataset"
   ]
  },
  {
   "cell_type": "code",
   "execution_count": null,
   "id": "d2bcf1c7-5715-4c7e-8537-4dd0c06233e5",
   "metadata": {},
   "outputs": [],
   "source": [
    "dataset_name = \"ami_10h\"\n",
    "\n",
    "ds_group = EVAL_DATASET_NAME_TO_DATASET_GROUP[dataset_name]()\n",
    "\n",
    "if dataset_name == \"librispeech_dummy\":\n",
    "    ds = ds_group.str2dataset[\"librispeech_dummy\"]\n",
    "    ds = ds.map(lambda x: {\"text\": x.lower()}, input_columns=[\"text\"])\n",
    "elif dataset_name in [\"ami\", \"ami_10h\"]:\n",
    "    ds = ds_group.str2dataset[\"ami\"]\n",
    "    ds = ds.map(lambda x: {\"text\": x.lower()}, input_columns=[\"text\"])\n",
    "else:\n",
    "    raise ValueError()"
   ]
  },
  {
   "cell_type": "markdown",
   "id": "8514824b-98c9-407e-a4ff-e800c3aaba75",
   "metadata": {},
   "source": [
    "## Create pipeline"
   ]
  },
  {
   "cell_type": "code",
   "execution_count": null,
   "id": "81ed08a2-7488-4eda-858e-b72410c214ed",
   "metadata": {},
   "outputs": [],
   "source": [
    "whisper_asr = pipeline(task=\"automatic-speech-recognition\",\n",
    "                       model=model,\n",
    "                       tokenizer=tokenizer,\n",
    "                       feature_extractor=feature_extractor,\n",
    "                       device=device)"
   ]
  },
  {
   "cell_type": "markdown",
   "id": "f157d5ba-883a-4ed9-9384-695eaeda6ecb",
   "metadata": {},
   "source": [
    "## Run pipeline"
   ]
  },
  {
   "cell_type": "code",
   "execution_count": null,
   "id": "e13c4788-c27f-47ee-9acc-3d65d519fd12",
   "metadata": {},
   "outputs": [],
   "source": [
    "generate_kwargs = {\"max_length\": GEN_MAX_LENGTH,\n",
    "                   \"num_beams\": DEFAULT_EVAL_NUM_BEAMS,\n",
    "                   \"language\": language,\n",
    "                   \"task\": task}\n",
    "\n",
    "# Create placeholders for the predictions and references:\n",
    "predictions = []\n",
    "references = []\n",
    "\n",
    "for out in tqdm(whisper_asr(gen_from_dataset(ds),\n",
    "                            batch_size=32,\n",
    "                            generate_kwargs=generate_kwargs),\n",
    "                total=ds.num_rows):\n",
    "    ref = out[\"reference\"][0].lower()\n",
    "    pred = out[\"text\"].lower()\n",
    "    references.append(ref)\n",
    "    predictions.append(pred)"
   ]
  },
  {
   "cell_type": "markdown",
   "id": "eeb3ab6f-d53d-4409-8065-2258b7d56ca9",
   "metadata": {},
   "source": [
    "## Compute string edit metrics"
   ]
  },
  {
   "cell_type": "code",
   "execution_count": null,
   "id": "53cbab69-30ed-4788-be0d-037130fef0a2",
   "metadata": {},
   "outputs": [],
   "source": [
    "string_edit_metrics = 100 * pd.Series(get_string_edit_metrics(references=references, predictions=predictions))\n",
    "\n",
    "string_edit_metrics"
   ]
  },
  {
   "cell_type": "markdown",
   "id": "64965fde-356f-4436-a11f-df3b0b99421f",
   "metadata": {},
   "source": [
    "## Analysis"
   ]
  },
  {
   "cell_type": "markdown",
   "id": "d7da78d3-6e8c-4e79-b098-4e57cf7bc447",
   "metadata": {},
   "source": [
    "### Add audio length to the dataset features"
   ]
  },
  {
   "cell_type": "code",
   "execution_count": null,
   "id": "147c3e23-e9f3-471c-a4db-12c52f99cc8e",
   "metadata": {},
   "outputs": [],
   "source": [
    "def get_audio_length_in_seconds(x: Dict[str, Any]) -> Dict[str, float]:\n",
    "    assert \"audio\" in x  # TODO\n",
    "    audio = x[\"audio\"]\n",
    "    audio_length = len(audio[\"array\"]) / audio[\"sampling_rate\"]\n",
    "    return {\"audio_length\": audio_length}"
   ]
  },
  {
   "cell_type": "code",
   "execution_count": null,
   "id": "0ba418ae-3b5f-45aa-961d-d90b198e6546",
   "metadata": {},
   "outputs": [],
   "source": [
    "ds = ds.map(get_audio_length_in_seconds)\n",
    "\n",
    "ds.features"
   ]
  },
  {
   "cell_type": "markdown",
   "id": "cac800b9-7a77-4d87-9b66-f1e0a3030b65",
   "metadata": {},
   "source": [
    "### Add predictions to the dataset features"
   ]
  },
  {
   "cell_type": "code",
   "execution_count": null,
   "id": "650bd205-a804-43ee-84a1-1d2761584775",
   "metadata": {},
   "outputs": [],
   "source": [
    "assert ds.num_rows == len(references) == len(predictions)\n",
    "ds = ds.add_column(name=\"pred\", column=predictions)\n",
    "\n",
    "ds.features"
   ]
  },
  {
   "cell_type": "markdown",
   "id": "f6498b05-a62a-434c-b3e8-6973dcbab66d",
   "metadata": {},
   "source": [
    "### Tokenize both labels and predictions"
   ]
  },
  {
   "cell_type": "code",
   "execution_count": null,
   "id": "c0cf507e-3fd0-45cd-bb04-35ae115a78b7",
   "metadata": {},
   "outputs": [],
   "source": [
    "ds = ds.map(lambda batch: {\"labels\": tokenizer(batch[\"text\"]).input_ids,\n",
    "                           \"pred_tokenized\": tokenizer(batch[\"pred\"]).input_ids},\n",
    "            batched=True)\n",
    "\n",
    "ds.features"
   ]
  },
  {
   "cell_type": "markdown",
   "id": "cc8664a0-58ea-4d5d-9e71-7f411e1ce3c1",
   "metadata": {},
   "source": [
    "### Add n_tokens to the dataset features"
   ]
  },
  {
   "cell_type": "code",
   "execution_count": null,
   "id": "85f8998c-b6f1-4a88-a474-3d93b3321c9d",
   "metadata": {},
   "outputs": [],
   "source": [
    "ds = ds.map(lambda x: {\"n_tokens_labels\": len(x[\"labels\"]), \"n_tokens_pred\": len(x[\"pred_tokenized\"])})\n",
    "\n",
    "ds.features"
   ]
  },
  {
   "cell_type": "markdown",
   "id": "e8a85766-d358-4cab-b054-7862ae39cf25",
   "metadata": {},
   "source": [
    "### Get DataFrame"
   ]
  },
  {
   "cell_type": "code",
   "execution_count": null,
   "id": "bb133cb8-5ac9-4180-802d-d3957deb2463",
   "metadata": {},
   "outputs": [],
   "source": [
    "cols_of_interest = [\"audio_length\", \"text\", \"labels\", \"n_tokens_labels\", \"pred\", \"pred_tokenized\", \"n_tokens_pred\"]\n",
    "df = pd.DataFrame({col: ds[col] for col in cols_of_interest})\n",
    "\n",
    "df[\"diff_n_tokens\"] = df[\"n_tokens_pred\"] - df[\"n_tokens_labels\"]\n",
    "\n",
    "df.head()"
   ]
  },
  {
   "cell_type": "code",
   "execution_count": null,
   "id": "5695e84d-226d-4773-9049-2f85dd244351",
   "metadata": {},
   "outputs": [],
   "source": [
    "plt.figure(figsize=(5, 3))\n",
    "df[\"audio_length\"].plot.hist();"
   ]
  },
  {
   "cell_type": "code",
   "execution_count": null,
   "id": "a7298699-60f7-4067-b202-75832ffd3f08",
   "metadata": {},
   "outputs": [],
   "source": [
    "plt.figure(figsize=(5, 3))\n",
    "sns.histplot(data=df[[\"n_tokens_labels\", \"n_tokens_pred\"]])\n",
    "\n",
    "plt.figure(figsize=(5, 3))\n",
    "sns.histplot(data=df[\"diff_n_tokens\"]);"
   ]
  },
  {
   "cell_type": "code",
   "execution_count": null,
   "id": "276c822d-e062-4dc6-a436-1ef8c3f731d1",
   "metadata": {},
   "outputs": [],
   "source": [
    "df[\"n_tokens_labels\"].value_counts(bins=10, sort=False)"
   ]
  },
  {
   "cell_type": "code",
   "execution_count": null,
   "id": "0fef7379-db82-4e56-aa91-d70b500c7ada",
   "metadata": {},
   "outputs": [],
   "source": [
    "df[\"n_tokens_labels\"].describe()"
   ]
  },
  {
   "cell_type": "code",
   "execution_count": null,
   "id": "e7d43d2e-1bd5-4ef6-bd50-aaf49212e165",
   "metadata": {},
   "outputs": [],
   "source": [
    "df[\"n_tokens_pred\"].value_counts(bins=10, sort=False)"
   ]
  },
  {
   "cell_type": "code",
   "execution_count": null,
   "id": "b29fc86a-f888-4be8-8fdc-495c3117473c",
   "metadata": {},
   "outputs": [],
   "source": [
    "df[\"n_tokens_pred\"].describe()"
   ]
  },
  {
   "cell_type": "code",
   "execution_count": null,
   "id": "8a7416f0-55ac-49ca-acac-8d50f1482ad8",
   "metadata": {},
   "outputs": [],
   "source": [
    "df[\"diff_n_tokens\"].value_counts(bins=10, sort=False)"
   ]
  },
  {
   "cell_type": "code",
   "execution_count": null,
   "id": "19f4d0e3-1575-43f2-a207-6880a553e87f",
   "metadata": {},
   "outputs": [],
   "source": [
    "df[\"diff_n_tokens\"].describe()"
   ]
  },
  {
   "cell_type": "code",
   "execution_count": null,
   "id": "28a6fe87-0e59-42bc-aa16-f2eae9744b1b",
   "metadata": {},
   "outputs": [],
   "source": [
    "plt.figure(figsize=(5, 3))\n",
    "sns.histplot(data=df[\"diff_n_tokens\"])\n",
    "plt.xlim(-15, 30)"
   ]
  },
  {
   "cell_type": "code",
   "execution_count": null,
   "id": "99b43d46-3360-475c-8dc9-485720f1eea3",
   "metadata": {},
   "outputs": [],
   "source": [
    "df_candidates = df[df[\"diff_n_tokens\"]>=7]"
   ]
  },
  {
   "cell_type": "code",
   "execution_count": null,
   "id": "257a818d-31a2-418a-b293-5f900d9c47be",
   "metadata": {},
   "outputs": [],
   "source": [
    "for idx in range(len(df_candidates)):\n",
    "    print(f\"Idx = {df_candidates.iloc[idx].name}\")\n",
    "    print(\"Reference: \", df_candidates.iloc[idx][\"text\"])\n",
    "    print(\"Prediction: \", df_candidates.iloc[idx][\"pred\"])\n",
    "    print()"
   ]
  },
  {
   "cell_type": "code",
   "execution_count": null,
   "id": "9e86f5ec-c5aa-444a-915f-04015e6919df",
   "metadata": {},
   "outputs": [],
   "source": [
    "df[\"max_token_repetitions\"] = df[\"pred_tokenized\"].apply(lambda x: pd.Series(x).value_counts().max())\n",
    "df[\"max_token_repetitions\"]"
   ]
  },
  {
   "cell_type": "code",
   "execution_count": null,
   "id": "f2a910fb-8ccd-413c-a107-0559473c4ead",
   "metadata": {},
   "outputs": [],
   "source": [
    "df[\"df[\"max_token_repetitions\"].value_counts(bins=[0, 1, 2, 3, 4, 5, 10, 20, 50, 100], sort=False)\"].value_counts(sort=False)"
   ]
  },
  {
   "cell_type": "code",
   "execution_count": null,
   "id": "31df0ced-dc99-4a9c-a629-9814f3216c01",
   "metadata": {},
   "outputs": [],
   "source": [
    "df[\"max_token_repetitions\"].value_counts(bins=[0, 1, 2, 3, 4, 5, 10, 20, 50, 100], sort=False)"
   ]
  },
  {
   "cell_type": "code",
   "execution_count": null,
   "id": "5118f0a0-d12c-40c4-a75e-85ca108d4f73",
   "metadata": {},
   "outputs": [],
   "source": [
    "for x in df.loc[df[\"max_token_repetitions\"]>=7, \"pred\"]:\n",
    "    print(x)"
   ]
  },
  {
   "cell_type": "code",
   "execution_count": null,
   "id": "bc012ffd-0a81-4c69-9102-42869d0acfbc",
   "metadata": {},
   "outputs": [],
   "source": [
    "sns.scatterplot(data=df, x=\"audio_length\", y=\"diff_n_tokens\");"
   ]
  },
  {
   "cell_type": "code",
   "execution_count": null,
   "id": "32161f29-4e42-4eaf-a58f-6569164253ce",
   "metadata": {},
   "outputs": [],
   "source": [
    "sns.scatterplot(data=df, x=\"audio_length\", y=\"diff_n_tokens\")\n",
    "plt.ylim(0, 10)"
   ]
  },
  {
   "cell_type": "code",
   "execution_count": null,
   "id": "c298046c-4036-4062-8c81-fafb63d2f157",
   "metadata": {},
   "outputs": [],
   "source": []
  },
  {
   "cell_type": "code",
   "execution_count": null,
   "id": "819bd092-a031-4615-a33a-4f6d2523a08b",
   "metadata": {},
   "outputs": [],
   "source": []
  }
 ],
 "metadata": {
  "kernelspec": {
   "display_name": "Python 3 (ipykernel)",
   "language": "python",
   "name": "python3"
  },
  "language_info": {
   "codemirror_mode": {
    "name": "ipython",
    "version": 3
   },
   "file_extension": ".py",
   "mimetype": "text/x-python",
   "name": "python",
   "nbconvert_exporter": "python",
   "pygments_lexer": "ipython3",
   "version": "3.10.11"
  }
 },
 "nbformat": 4,
 "nbformat_minor": 5
}
