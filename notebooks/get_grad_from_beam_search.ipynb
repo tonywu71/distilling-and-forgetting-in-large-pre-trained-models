{
 "cells": [
  {
   "cell_type": "markdown",
   "id": "d137e9b6-99d3-4282-b382-0186d89120f7",
   "metadata": {},
   "source": [
    "# WIP"
   ]
  },
  {
   "cell_type": "code",
   "execution_count": 1,
   "id": "60da8229-d673-4413-97d5-4f0a561f7b42",
   "metadata": {},
   "outputs": [],
   "source": [
    "import torch\n",
    "from transformers import WhisperProcessor, WhisperForConditionalGeneration\n",
    "from datasets import load_dataset"
   ]
  },
  {
   "cell_type": "code",
   "execution_count": 2,
   "id": "4080af57-faf6-4d0b-849a-d636deaf7167",
   "metadata": {},
   "outputs": [
    {
     "name": "stderr",
     "output_type": "stream",
     "text": [
      "Found cached dataset librispeech_asr_dummy (/Users/Tony/.cache/huggingface/datasets/hf-internal-testing___librispeech_asr_dummy/clean/2.1.0/d3bc4c2bc2078fcde3ad0f0f635862e4c0fef78ba94c4a34c4c250a097af240b)\n"
     ]
    }
   ],
   "source": [
    "# load model and processor\n",
    "processor = WhisperProcessor.from_pretrained(\"openai/whisper-tiny.en\")\n",
    "model = WhisperForConditionalGeneration.from_pretrained(\"openai/whisper-tiny.en\")\n",
    "model.config.forced_decoder_ids = None\n",
    "\n",
    "# load dummy dataset and read audio files\n",
    "ds = load_dataset(\"hf-internal-testing/librispeech_asr_dummy\", \"clean\", split=\"validation\")\n",
    "sample = ds[0][\"audio\"]\n",
    "input_features = processor(sample[\"array\"], sampling_rate=sample[\"sampling_rate\"], return_tensors=\"pt\").input_features "
   ]
  },
  {
   "cell_type": "code",
   "execution_count": 3,
   "id": "7f1bb300-1e5e-4f52-ad5d-c777f2101649",
   "metadata": {},
   "outputs": [],
   "source": [
    "from undecorated import undecorated\n",
    "from types import MethodType\n",
    "\n",
    "generate_with_grad = undecorated(model.generate)\n",
    "model.generate_with_grad = MethodType(generate_with_grad, model)"
   ]
  },
  {
   "cell_type": "code",
   "execution_count": 4,
   "id": "2e91e8ac-79c5-454a-96a6-4f680cc39b56",
   "metadata": {},
   "outputs": [
    {
     "name": "stderr",
     "output_type": "stream",
     "text": [
      "/opt/homebrew/Caskroom/miniforge/base/envs/ml-pytorch-speech/lib/python3.10/site-packages/transformers/generation/utils.py:1273: UserWarning: Neither `max_length` nor `max_new_tokens` has been set, `max_length` will default to 448 (`generation_config.max_length`). Controlling `max_length` via the config is deprecated and `max_length` will be removed from the config in v5 of Transformers -- we recommend using `max_new_tokens` to control the maximum length of the generation.\n",
      "  warnings.warn(\n"
     ]
    },
    {
     "data": {
      "text/plain": [
       "odict_keys(['sequences', 'sequences_scores', 'scores', 'beam_indices'])"
      ]
     },
     "execution_count": 4,
     "metadata": {},
     "output_type": "execute_result"
    }
   ],
   "source": [
    "outputs = model.generate_with_grad(input_features, num_beams=3, num_return_sequences=1, output_scores=True, return_dict_in_generate=True)\n",
    "outputs.keys()"
   ]
  },
  {
   "cell_type": "code",
   "execution_count": 5,
   "id": "c255a922-e26b-444f-ba52-711884f2fc78",
   "metadata": {},
   "outputs": [
    {
     "data": {
      "text/plain": [
       "tensor([[50257, 50362,  1770,    13,  2264,   346,   353,   318,   262, 46329,\n",
       "           286,   262,  3504,  6097,    11,   290,   356,   389,  9675,   284,\n",
       "          7062,   465, 21443,    13, 50256]])"
      ]
     },
     "execution_count": 5,
     "metadata": {},
     "output_type": "execute_result"
    }
   ],
   "source": [
    "outputs.sequences"
   ]
  },
  {
   "cell_type": "code",
   "execution_count": 6,
   "id": "5cb8e956-fbff-4329-9187-1b094bf7826e",
   "metadata": {},
   "outputs": [
    {
     "data": {
      "text/plain": [
       "(tensor([[-inf, -inf, -inf,  ..., -inf, -inf, -inf],\n",
       "         [-inf, -inf, -inf,  ..., -inf, -inf, -inf],\n",
       "         [-inf, -inf, -inf,  ..., -inf, -inf, -inf]], grad_fn=<CopySlices>),\n",
       " tensor([[-11.7886,     -inf,     -inf,  ..., -15.2796, -16.0519, -18.6459],\n",
       "         [-11.7886,     -inf,     -inf,  ..., -15.2796, -16.0519, -18.6459],\n",
       "         [-11.7886,     -inf,     -inf,  ..., -15.2796, -16.0519, -18.6459]],\n",
       "        grad_fn=<CopySlices>),\n",
       " tensor([[ -8.1542,     -inf,     -inf,  ..., -14.6152, -14.8889, -17.6750],\n",
       "         [ -9.6977,     -inf,     -inf,  ..., -12.0022, -12.2440, -13.8926],\n",
       "         [ -8.7922,     -inf,     -inf,  ..., -14.3252, -14.1414, -17.0619]],\n",
       "        grad_fn=<CopySlices>),\n",
       " tensor([[-12.3110,     -inf,     -inf,  ..., -12.4940, -12.6871, -14.0868],\n",
       "         [-17.9017,     -inf,     -inf,  ..., -15.1163, -16.6716, -16.3644],\n",
       "         [-17.7269,     -inf,     -inf,  ..., -14.7390, -16.2557, -16.1587]],\n",
       "        grad_fn=<CopySlices>),\n",
       " tensor([[-18.5015,     -inf,     -inf,  ..., -14.9439, -16.2668, -16.0920],\n",
       "         [-17.3630,     -inf,     -inf,  ..., -15.3639, -16.3163, -16.7191],\n",
       "         [-13.5679,     -inf,     -inf,  ..., -12.3277, -12.4759, -13.8344]],\n",
       "        grad_fn=<CopySlices>),\n",
       " tensor([[-18.7133,     -inf,     -inf,  ..., -18.0662, -17.6821, -17.6747],\n",
       "         [-15.8268,     -inf,     -inf,  ..., -18.0127, -17.7867, -17.8449],\n",
       "         [-13.9549,     -inf,     -inf,  ..., -12.6457, -13.4736, -13.8056]],\n",
       "        grad_fn=<CopySlices>),\n",
       " tensor([[-11.1940,     -inf,     -inf,  ..., -17.9920, -18.4010, -22.1607],\n",
       "         [-11.2639,     -inf,     -inf,  ..., -17.5859, -18.0180, -21.3743],\n",
       "         [-11.2639,     -inf,     -inf,  ..., -18.3181, -18.7441, -22.2166]],\n",
       "        grad_fn=<CopySlices>),\n",
       " tensor([[-13.4156,     -inf,     -inf,  ..., -17.2857, -17.4937, -19.7249],\n",
       "         [-13.1722,     -inf,     -inf,  ..., -17.2252, -17.2537, -19.6490],\n",
       "         [-13.4023,     -inf,     -inf,  ..., -17.2615, -17.5077, -19.6668]],\n",
       "        grad_fn=<CopySlices>),\n",
       " tensor([[-11.4466,     -inf,     -inf,  ..., -15.8756, -16.8881, -18.4089],\n",
       "         [-11.4195,     -inf,     -inf,  ..., -16.1125, -17.1034, -18.7371],\n",
       "         [-11.4231,     -inf,     -inf,  ..., -15.8504, -16.8631, -18.3626]],\n",
       "        grad_fn=<CopySlices>),\n",
       " tensor([[-12.2428,     -inf,     -inf,  ..., -17.7032, -17.8631, -19.2273],\n",
       "         [-12.4372,     -inf,     -inf,  ..., -17.6694, -18.0269, -18.8678],\n",
       "         [-11.9772,     -inf,     -inf,  ..., -17.6369, -17.6967, -19.1272]],\n",
       "        grad_fn=<CopySlices>),\n",
       " tensor([[-15.6457,     -inf,     -inf,  ..., -18.4094, -18.0060, -20.2270],\n",
       "         [-15.5457,     -inf,     -inf,  ..., -17.6701, -17.3881, -19.9301],\n",
       "         [-15.3488,     -inf,     -inf,  ..., -18.3659, -17.8781, -20.0560]],\n",
       "        grad_fn=<CopySlices>),\n",
       " tensor([[-13.8710,     -inf,     -inf,  ..., -15.7536, -15.5215, -17.7922],\n",
       "         [-13.6527,     -inf,     -inf,  ..., -15.1877, -15.1058, -17.6820],\n",
       "         [-14.1565,     -inf,     -inf,  ..., -16.0339, -15.7510, -17.8676]],\n",
       "        grad_fn=<CopySlices>),\n",
       " tensor([[-15.5042,     -inf,     -inf,  ..., -17.0285, -16.5809, -18.3799],\n",
       "         [-13.4127,     -inf,     -inf,  ..., -13.4686, -13.3918, -14.8672],\n",
       "         [-13.1517,     -inf,     -inf,  ..., -13.5652, -13.4283, -14.9108]],\n",
       "        grad_fn=<CopySlices>),\n",
       " tensor([[ -9.0703,     -inf,     -inf,  ..., -17.4625, -17.2260, -19.3094],\n",
       "         [ -8.9967,     -inf,     -inf,  ..., -17.5744, -17.3307, -19.4111],\n",
       "         [ -8.9877,     -inf,     -inf,  ..., -17.5939, -17.3971, -19.4897]],\n",
       "        grad_fn=<CopySlices>),\n",
       " tensor([[-15.1222,     -inf,     -inf,  ..., -16.9462, -16.4815, -18.8019],\n",
       "         [-14.6568,     -inf,     -inf,  ..., -18.1039, -18.3286, -20.7169],\n",
       "         [-15.1236,     -inf,     -inf,  ..., -17.0530, -16.6091, -18.8429]],\n",
       "        grad_fn=<CopySlices>),\n",
       " tensor([[-15.4867,     -inf,     -inf,  ..., -18.6288, -19.1888, -21.4036],\n",
       "         [-14.1574,     -inf,     -inf,  ..., -18.0743, -18.7816, -20.0279],\n",
       "         [-15.4624,     -inf,     -inf,  ..., -18.8047, -19.3847, -21.5254]],\n",
       "        grad_fn=<CopySlices>),\n",
       " tensor([[-14.3621,     -inf,     -inf,  ..., -18.1408, -18.8146, -19.9093],\n",
       "         [-15.9186,     -inf,     -inf,  ..., -17.6245, -18.6323, -20.0055],\n",
       "         [-17.2127,     -inf,     -inf,  ..., -18.1736, -18.9969, -20.2641]],\n",
       "        grad_fn=<CopySlices>),\n",
       " tensor([[-15.9030,     -inf,     -inf,  ..., -17.5692, -18.5447, -19.8833],\n",
       "         [-13.8862,     -inf,     -inf,  ..., -17.1892, -17.3837, -18.3564],\n",
       "         [-17.2318,     -inf,     -inf,  ..., -17.9981, -18.7978, -20.0445]],\n",
       "        grad_fn=<CopySlices>),\n",
       " tensor([[-13.9072,     -inf,     -inf,  ..., -17.1693, -17.2942, -18.3536],\n",
       "         [-16.9353,     -inf,     -inf,  ..., -19.7155, -19.5142, -19.8490],\n",
       "         [-14.1519,     -inf,     -inf,  ..., -17.2866, -17.4344, -18.5427]],\n",
       "        grad_fn=<CopySlices>),\n",
       " tensor([[-16.9574,     -inf,     -inf,  ..., -19.7475, -19.5721, -19.8800],\n",
       "         [-13.9884,     -inf,     -inf,  ..., -18.1437, -18.0533, -19.2653],\n",
       "         [-16.9348,     -inf,     -inf,  ..., -19.8699, -19.7103, -19.9868]],\n",
       "        grad_fn=<CopySlices>),\n",
       " tensor([[-13.9720,     -inf,     -inf,  ..., -18.0219, -17.9760, -19.1364],\n",
       "         [-12.4117,     -inf,     -inf,  ..., -17.3931, -18.9764, -19.5898],\n",
       "         [-14.1010,     -inf,     -inf,  ..., -18.1968, -18.1859, -19.3142]],\n",
       "        grad_fn=<CopySlices>),\n",
       " tensor([[-12.3475,     -inf,     -inf,  ..., -17.3132, -18.8876, -19.5214],\n",
       "         [ -3.1477,     -inf,     -inf,  ..., -16.4656, -16.2155, -18.7304],\n",
       "         [-12.3389,     -inf,     -inf,  ..., -17.2898, -18.8921, -19.5165]],\n",
       "        grad_fn=<CopySlices>),\n",
       " tensor([[ -2.9831,     -inf,     -inf,  ..., -16.5778, -16.3355, -19.0147],\n",
       "         [-12.7595,     -inf,     -inf,  ..., -16.4100, -16.1345, -18.7628],\n",
       "         [ -2.7704,     -inf,     -inf,  ..., -16.8878, -16.7929, -19.6571]],\n",
       "        grad_fn=<CopySlices>),\n",
       " tensor([[-12.9226,     -inf,     -inf,  ..., -16.5028, -16.2381, -18.9361],\n",
       "         [-12.8305,     -inf,     -inf,  ..., -16.5185, -16.2969, -19.1536],\n",
       "         [-11.6178,     -inf,     -inf,  ..., -16.4723, -16.3554, -18.5194]],\n",
       "        grad_fn=<CopySlices>),\n",
       " tensor([[-10.8045,     -inf,     -inf,  ..., -17.0849, -16.2828, -17.4682],\n",
       "         [-11.7095,     -inf,     -inf,  ..., -16.5696, -16.3686, -19.8072],\n",
       "         [-10.6134,     -inf,     -inf,  ..., -16.9079, -16.1337, -17.4619]],\n",
       "        grad_fn=<CopySlices>))"
      ]
     },
     "execution_count": 6,
     "metadata": {},
     "output_type": "execute_result"
    }
   ],
   "source": [
    "outputs.scores"
   ]
  },
  {
   "cell_type": "code",
   "execution_count": 7,
   "id": "050029f5-2b17-4290-a794-2429fa252ad3",
   "metadata": {},
   "outputs": [
    {
     "data": {
      "text/plain": [
       "<CopySlices at 0x29c1d6e60>"
      ]
     },
     "execution_count": 7,
     "metadata": {},
     "output_type": "execute_result"
    }
   ],
   "source": [
    "outputs.scores[0].grad_fn"
   ]
  },
  {
   "cell_type": "code",
   "execution_count": null,
   "id": "1b34d9d8-cc4f-4254-acab-c0cd6d5d1138",
   "metadata": {},
   "outputs": [],
   "source": []
  }
 ],
 "metadata": {
  "kernelspec": {
   "display_name": "Python 3 (ipykernel)",
   "language": "python",
   "name": "python3"
  },
  "language_info": {
   "codemirror_mode": {
    "name": "ipython",
    "version": 3
   },
   "file_extension": ".py",
   "mimetype": "text/x-python",
   "name": "python",
   "nbconvert_exporter": "python",
   "pygments_lexer": "ipython3",
   "version": "3.10.6"
  }
 },
 "nbformat": 4,
 "nbformat_minor": 5
}
