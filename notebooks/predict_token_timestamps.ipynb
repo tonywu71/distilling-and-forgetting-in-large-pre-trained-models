{
 "cells": [
  {
   "cell_type": "markdown",
   "id": "c112706f-27e9-4829-97ff-67287373edeb",
   "metadata": {},
   "source": [
    "## Imports"
   ]
  },
  {
   "cell_type": "code",
   "execution_count": 1,
   "id": "3248c855-ee3b-4122-85e6-e6ee0fcc96e7",
   "metadata": {},
   "outputs": [],
   "source": [
    "%load_ext autoreload\n",
    "%autoreload 2"
   ]
  },
  {
   "cell_type": "code",
   "execution_count": 2,
   "id": "d7c45663-082b-413b-bd5d-edac94ac6112",
   "metadata": {},
   "outputs": [
    {
     "name": "stdout",
     "output_type": "stream",
     "text": [
      "/Users/Tony/Other Docs/distilling-and-forgetting-in-large-pre-trained-models\n"
     ]
    }
   ],
   "source": [
    "%cd ..\n",
    "import os, sys\n",
    "sys.path.insert(0, os.path.dirname(os.path.dirname(os.path.abspath(os.getcwd()))))"
   ]
  },
  {
   "cell_type": "code",
   "execution_count": 5,
   "id": "bfdaff24-b120-4b09-92af-ec360c19cf14",
   "metadata": {},
   "outputs": [],
   "source": [
    "from pathlib import Path\n",
    "from tqdm.auto import tqdm\n",
    "\n",
    "import numpy as np\n",
    "import pandas as pd\n",
    "import torch\n",
    "from transformers import pipeline\n",
    "from transformers.models.whisper import WhisperTokenizerFast, WhisperFeatureExtractor, WhisperForConditionalGeneration\n",
    "\n",
    "import matplotlib.pyplot as plt\n",
    "import seaborn as sns\n",
    "\n",
    "from dataloader.dataset_loader import gen_from_dataset\n",
    "from evaluation.eval_dataset_name_to_dataset_group import EVAL_DATASET_NAME_TO_DATASET_GROUP\n",
    "from evaluation.string_edit_metrics import get_string_edit_metrics_ortho_and_norm\n",
    "from normalization.whisper_normalization import get_whisper_normalizer\n",
    "from utils.file_io import load_json\n",
    "from utils.whisper_hallucinations.dataloader import load_dataset\n",
    "from utils.whisper_hallucinations.get_features import add_features_to_ds\n",
    "\n",
    "device = torch.device('cpu')\n",
    "sns.set_theme(context=\"paper\", style=\"ticks\")"
   ]
  },
  {
   "cell_type": "markdown",
   "id": "82b8aff0-e85e-4244-9fb4-8ef192846b20",
   "metadata": {},
   "source": [
    "## Load tokenizer"
   ]
  },
  {
   "cell_type": "code",
   "execution_count": 6,
   "id": "db0ce848-466c-4d09-8047-1baf5f9a313c",
   "metadata": {},
   "outputs": [],
   "source": [
    "pretrained_model_name_or_path = \"openai/whisper-tiny\"\n",
    "\n",
    "model = WhisperForConditionalGeneration.from_pretrained(pretrained_model_name_or_path).to(device)\n",
    "model.generation_config.alignment_heads = [[2, 2], [3, 0], [3, 2], [3, 3], [3, 4], [3, 5]]\n",
    "\n",
    "tokenizer = WhisperTokenizerFast.from_pretrained(pretrained_model_name_or_path, language=\"english\", task=\"transcribe\")\n",
    "feature_extractor = WhisperFeatureExtractor.from_pretrained(pretrained_model_name_or_path)"
   ]
  },
  {
   "cell_type": "markdown",
   "id": "049f362c-aabd-4c7f-a189-ea6c3e0b13be",
   "metadata": {},
   "source": [
    "## Load dataset"
   ]
  },
  {
   "cell_type": "code",
   "execution_count": 64,
   "id": "5b08bf1a-d042-4e68-beb5-fae128b25e62",
   "metadata": {},
   "outputs": [
    {
     "name": "stdout",
     "output_type": "stream",
     "text": [
      "WARNING: `CACHE_DIR_AMI` environment variable not set. Using default cache directory.\n"
     ]
    },
    {
     "name": "stderr",
     "output_type": "stream",
     "text": [
      "Found cached dataset ami (/Users/Tony/.cache/huggingface/datasets/edinburghcstr___ami/ihm/0.0.0/0d128d0aa8145d0f16f3d5b4da86c5d5759dbe9e8f947fda04b25edb56442bd5)\n",
      "Loading cached processed dataset at /Users/Tony/.cache/huggingface/datasets/edinburghcstr___ami/ihm/0.0.0/0d128d0aa8145d0f16f3d5b4da86c5d5759dbe9e8f947fda04b25edb56442bd5/cache-76a34bc037fa70e6.arrow\n",
      "Loading cached processed dataset at /Users/Tony/.cache/huggingface/datasets/edinburghcstr___ami/ihm/0.0.0/0d128d0aa8145d0f16f3d5b4da86c5d5759dbe9e8f947fda04b25edb56442bd5/cache-8c6e325cf1e5403b.arrow\n"
     ]
    }
   ],
   "source": [
    "dataset_name = \"ami_validation\"\n",
    "\n",
    "dataset = load_dataset(dataset_name)"
   ]
  },
  {
   "cell_type": "code",
   "execution_count": 65,
   "id": "5f2e48c0-9df3-4a32-a011-2d30816fdb3b",
   "metadata": {},
   "outputs": [],
   "source": [
    "from functools import partial\n",
    "from dataloader.preprocessing_train.preprocessing import prepare_dataset_fct"
   ]
  },
  {
   "cell_type": "code",
   "execution_count": 66,
   "id": "322f016a-3a1c-4f39-bef5-a00c153e93eb",
   "metadata": {},
   "outputs": [],
   "source": [
    "dataset = dataset.select(list(range(8)))"
   ]
  },
  {
   "cell_type": "code",
   "execution_count": 67,
   "id": "bc214dce-9703-47ed-9b3f-d191e6801a87",
   "metadata": {},
   "outputs": [
    {
     "data": {
      "text/plain": [
       "Dataset({\n",
       "    features: ['text', 'audio'],\n",
       "    num_rows: 8\n",
       "})"
      ]
     },
     "execution_count": 67,
     "metadata": {},
     "output_type": "execute_result"
    }
   ],
   "source": [
    "dataset"
   ]
  },
  {
   "cell_type": "code",
   "execution_count": 68,
   "id": "a6d0c7ec-66af-414b-aa48-5fb5cb4b428e",
   "metadata": {},
   "outputs": [],
   "source": [
    "prepare_dataset = partial(prepare_dataset_fct, tokenizer=tokenizer, feature_extractor=feature_extractor)"
   ]
  },
  {
   "cell_type": "code",
   "execution_count": 69,
   "id": "91583e7d-2b29-4ce5-b2e6-9e8951ee8397",
   "metadata": {},
   "outputs": [
    {
     "data": {
      "application/vnd.jupyter.widget-view+json": {
       "model_id": "",
       "version_major": 2,
       "version_minor": 0
      },
      "text/plain": [
       "Map (num_proc=4):   0%|          | 0/8 [00:00<?, ? examples/s]"
      ]
     },
     "metadata": {},
     "output_type": "display_data"
    }
   ],
   "source": [
    "ds = dataset.map(prepare_dataset, num_proc=4).with_format(\"pt\")"
   ]
  },
  {
   "cell_type": "code",
   "execution_count": 70,
   "id": "1e06a372-563e-47f2-9c4d-b9ba8ea5d005",
   "metadata": {},
   "outputs": [],
   "source": [
    "predicted_ids = model.generate(ds[\"input_features\"], return_token_timestamps=True)"
   ]
  },
  {
   "cell_type": "code",
   "execution_count": 71,
   "id": "6fdc84fe-fe79-4942-b03e-63a609fbed2e",
   "metadata": {},
   "outputs": [
    {
     "data": {
      "text/plain": [
       "odict_keys(['sequences', 'encoder_attentions', 'decoder_attentions', 'cross_attentions', 'token_timestamps'])"
      ]
     },
     "execution_count": 71,
     "metadata": {},
     "output_type": "execute_result"
    }
   ],
   "source": [
    "predicted_ids.keys()"
   ]
  },
  {
   "cell_type": "code",
   "execution_count": 72,
   "id": "ce44d39e-a1de-49ad-8ca9-cb97a1d1e1ef",
   "metadata": {},
   "outputs": [
    {
     "data": {
      "text/plain": [
       "tensor([[50258, 50259, 50359, 50363,   583,   411,  6013, 10216,   362, 11171,\n",
       "           293,   436,   434,  7084,    13, 50257, 50257, 50257, 50257, 50257,\n",
       "         50257, 50257, 50257],\n",
       "        [50258, 50259, 50359, 50363,   291, 50257, 50257, 50257, 50257, 50257,\n",
       "         50257, 50257, 50257, 50257, 50257, 50257, 50257, 50257, 50257, 50257,\n",
       "         50257, 50257, 50257],\n",
       "        [50258, 50259, 50359, 50363,  4919,    13, 50257, 50257, 50257, 50257,\n",
       "         50257, 50257, 50257, 50257, 50257, 50257, 50257, 50257, 50257, 50257,\n",
       "         50257, 50257, 50257]])"
      ]
     },
     "execution_count": 72,
     "metadata": {},
     "output_type": "execute_result"
    }
   ],
   "source": [
    "predicted_ids[\"sequences\"][:3]"
   ]
  },
  {
   "cell_type": "code",
   "execution_count": 73,
   "id": "cfef2b76-dbcb-4a65-90be-96efa035f1f8",
   "metadata": {},
   "outputs": [
    {
     "data": {
      "text/plain": [
       "tensor([[ 0.0000,  0.0000,  0.0000,  0.0000,  0.0000,  0.2800,  0.4200,  0.7600,\n",
       "          1.0600,  1.4200,  1.8000,  2.2000,  2.2800,  2.2800,  2.6600,  5.2800,\n",
       "         23.0800, 23.0800, 23.0800, 23.0800, 23.0800, 23.1000, 23.1400],\n",
       "        [ 0.0000,  0.0000, 29.6200, 29.6200, 29.6200, 29.6200, 29.6200, 29.6400,\n",
       "         29.6600, 29.6600, 29.6600, 29.6600, 29.6600, 29.6600, 29.6600, 29.6600,\n",
       "         29.6600, 29.6600, 29.6600, 29.7800, 29.7800, 29.7800, 29.7800],\n",
       "        [ 0.0000,  0.0000, 11.6000, 29.6400, 29.6400, 29.6400, 29.6400, 29.6400,\n",
       "         29.6400, 29.6600, 29.6600, 29.6600, 29.6600, 29.6600, 29.7800, 29.7800,\n",
       "         29.7800, 29.7800, 29.7800, 29.7800, 29.7800, 29.7800, 29.7800]])"
      ]
     },
     "execution_count": 73,
     "metadata": {},
     "output_type": "execute_result"
    }
   ],
   "source": [
    "predicted_ids[\"token_timestamps\"][:3]"
   ]
  },
  {
   "cell_type": "code",
   "execution_count": 43,
   "id": "dab87d0b-8924-48c5-8ab4-a676269bf310",
   "metadata": {},
   "outputs": [
    {
     "data": {
      "text/plain": [
       "['<|startoftranscript|><|en|><|transcribe|><|notimestamps|> Z Z Z Z Z Z Z Z Z Z Z Z Z Z Z Z Z Z Z Z Z Z Z Z Z Z Z Z Z Z Z Z Z Z Z Z Z Z Z Z Z Z Z Z Z Z Z Z Z Z Z Z Z Z Z Z Z Z Z Z Z Z Z Z Z Z Z Z Z Z Z Z Z Z Z Z Z Z Z Z Z Z Z Z Z Z Z Z Z Z Z Z Z Z Z Z Z Z Z Z Z Z Z Z Z Z Z Z Z Z Z Z Z Z Z Z Z Z Z Z Z Z Z Z Z Z Z Z Z Z Z Z Z Z Z Z Z Z Z Z Z Z Z Z Z Z Z Z Z Z Z Z Z Z Z Z Z Z Z Z Z Z Z Z Z Z Z Z Z Z Z Z Z Z Z Z Z Z Z Z Z Z Z Z Z Z Z Z Z Z Z Z Z Z Z Z Z Z Z Z Z Z Z Z Z Z Z Z Z Z Z Z Z Z Z Z Z Z Z Z Z Z Z Z Z Z Z Z Z Z Z Z Z Z Z Z Z Z Z Z Z Z Z Z Z Z Z Z Z Z Z Z Z Z Z Z Z Z Z Z Z Z Z Z Z Z Z Z Z Z Z Z Z Z Z Z Z Z Z Z Z Z Z Z Z Z Z Z Z Z Z Z Z Z Z Z Z Z Z Z Z Z Z Z Z Z Z Z Z Z Z Z Z Z Z Z Z Z Z Z Z Z Z Z Z Z Z Z Z Z Z Z Z Z Z Z Z Z Z Z Z Z Z Z Z Z Z Z Z Z Z Z Z Z Z Z Z Z Z Z Z Z Z Z Z Z Z Z Z Z Z Z Z Z Z Z Z Z Z Z Z Z Z Z Z Z Z Z Z Z Z Z Z Z Z Z Z Z Z Z Z Z Z Z Z Z Z Z Z Z Z Z Z Z Z Z Z Z Z Z Z Z Z Z Z Z Z Z Z Z Z Z Z Z Z Z Z Z Z Z Z Z Z Z']"
      ]
     },
     "execution_count": 43,
     "metadata": {},
     "output_type": "execute_result"
    }
   ],
   "source": [
    "tokenizer.batch_decode(predicted_ids[\"sequences\"][0:1])"
   ]
  },
  {
   "cell_type": "code",
   "execution_count": 45,
   "id": "58926680-51c9-496c-be34-4a84a94e3a1c",
   "metadata": {},
   "outputs": [
    {
     "data": {
      "text/plain": [
       "tensor([ 0.0000,  0.0000,  0.0000,  0.0000,  0.0000,  2.1000,  4.0600,  4.1000,\n",
       "         4.1000,  4.5400,  5.2600,  5.5000,  5.9400,  6.2200,  6.2600,  6.5800,\n",
       "         7.2400,  9.3200,  9.3200, 16.2600, 16.2600, 16.2600, 16.2600, 16.2600,\n",
       "        16.2600, 16.2600, 16.2600, 16.2600, 16.2600, 16.2600, 16.2600, 16.2600,\n",
       "        16.2600, 16.2600, 16.2600, 16.2600, 16.2600, 16.2600, 16.2600, 16.2600,\n",
       "        16.2600, 16.2600, 16.2600, 16.2600, 16.2600, 16.2600, 16.2600, 16.2600,\n",
       "        16.2600, 16.2600, 16.2800, 16.2800, 16.2800, 16.2800, 16.2800, 16.3600,\n",
       "        16.3600, 16.3600, 16.3600, 16.3600, 16.3600, 16.3600, 16.3600, 16.3600,\n",
       "        16.3600, 16.3600, 16.3600, 16.3600, 16.3600, 16.3600, 16.3600, 16.3600,\n",
       "        16.3600, 16.3600, 16.3600, 16.3600, 16.3600, 16.3600, 16.3600, 16.3600,\n",
       "        16.3600, 16.3600, 16.3600, 16.3600, 16.3600, 16.3600, 16.3600, 16.3600,\n",
       "        16.3600, 16.3600, 16.3600, 16.3600, 16.3600, 16.3600, 16.3600, 16.3600,\n",
       "        16.3600, 16.3600, 16.3600, 16.3600, 16.3600, 16.3600, 16.3600, 16.3600,\n",
       "        16.3600, 16.3600, 16.3600, 16.3600, 16.3600, 16.3600, 16.3600, 16.3600,\n",
       "        16.3600, 16.3600, 16.3600, 16.3600, 16.3600, 16.3600, 16.3600, 16.3600,\n",
       "        16.3600, 16.3600, 16.3600, 16.3600, 16.3600, 16.3600, 16.3600, 16.3600,\n",
       "        16.3600, 16.3600, 16.3600, 16.3600, 16.3600, 16.3600, 16.3600, 16.3600,\n",
       "        16.3600, 16.3600, 16.3600, 16.3600, 16.3600, 16.3600, 16.3600, 16.3600,\n",
       "        16.3600, 16.3600, 16.3600, 16.3600, 16.3600, 16.3600, 16.3600, 16.3600,\n",
       "        16.3600, 16.3600, 16.3600, 16.3600, 16.3600, 16.3600, 16.3600, 16.3600,\n",
       "        16.3600, 16.3600, 16.3600, 16.3600, 16.3600, 16.3600, 16.3600, 16.3600,\n",
       "        16.3600, 16.3600, 16.3600, 16.3600, 16.3600, 16.3600, 16.3600, 16.3600,\n",
       "        16.3600, 16.3600, 16.3600, 16.3600, 16.3600, 16.3600, 16.3600, 16.3600,\n",
       "        16.3600, 16.3600, 16.3600, 16.3600, 16.3600, 16.3600, 16.3600, 16.3600,\n",
       "        16.3600, 16.3600, 16.3600, 16.3600, 16.3600, 16.3600, 16.3600, 16.3600,\n",
       "        16.3600, 16.3600, 16.3600, 16.3600, 16.3600, 16.3600, 16.3600, 16.3600,\n",
       "        16.3600, 16.3600, 16.3600, 16.3600, 16.3600, 16.3600, 16.3600, 16.3600,\n",
       "        16.3600, 16.3600, 16.3600, 16.3600, 16.3600, 16.3600, 16.3600, 16.3600,\n",
       "        16.3600, 16.3600, 16.3600, 16.3800, 16.3800, 16.3800, 16.3800, 16.3800,\n",
       "        16.3800, 16.3800, 16.3800, 16.3800, 16.3800, 16.3800, 16.3800, 16.3800,\n",
       "        16.3800, 16.3800, 16.3800, 16.3800, 16.3800, 16.3800, 16.3800, 16.3800,\n",
       "        16.3800, 16.3800, 16.3800, 16.3800, 16.3800, 16.3800, 16.3800, 16.3800,\n",
       "        16.3800, 16.3800, 16.3800, 16.3800, 16.3800, 16.3800, 16.3800, 16.3800,\n",
       "        16.3800, 16.3800, 16.3800, 16.3800, 16.3800, 16.3800, 16.3800, 16.3800,\n",
       "        16.3800, 16.3800, 16.3800, 16.3800, 16.3800, 16.3800, 17.0000, 17.0000,\n",
       "        17.0000, 17.0000, 17.0000, 17.0000, 17.0000, 17.0000, 17.0000, 17.0000,\n",
       "        17.0000, 17.7200, 17.7200, 17.7200, 17.7200, 17.7200, 17.7200, 17.7200,\n",
       "        17.7200, 18.0400, 18.0400, 18.0400, 21.0000, 21.0000, 21.0000, 21.0000,\n",
       "        22.0400, 22.0400, 22.0400, 22.0400, 22.0400, 22.0400, 22.0400, 27.6000,\n",
       "        27.6000, 27.6000, 27.6000, 27.6000, 29.9400, 29.9400, 29.9400, 29.9400,\n",
       "        29.9400, 29.9400, 29.9400, 29.9400, 29.9400, 29.9400, 29.9400, 29.9400,\n",
       "        29.9400, 29.9400, 29.9400, 29.9400, 29.9400, 29.9400, 29.9400, 29.9400,\n",
       "        29.9400, 29.9400, 29.9400, 29.9400, 29.9400, 29.9400, 29.9400, 29.9400,\n",
       "        29.9400, 29.9400, 29.9400, 29.9400, 29.9400, 29.9400, 29.9400, 29.9400,\n",
       "        29.9400, 29.9400, 29.9400, 29.9400, 29.9400, 29.9400, 29.9400, 29.9400,\n",
       "        29.9400, 29.9400, 29.9400, 29.9400, 29.9400, 29.9400, 29.9400, 29.9400,\n",
       "        29.9400, 29.9400, 29.9400, 29.9400, 29.9400, 29.9400, 29.9400, 29.9400,\n",
       "        29.9400, 29.9400, 29.9400, 29.9400, 29.9400, 29.9400, 29.9400, 29.9400,\n",
       "        29.9400, 29.9400, 29.9400, 29.9400, 29.9400, 29.9400, 29.9400, 29.9400,\n",
       "        29.9400, 29.9400, 29.9400, 29.9400, 29.9400, 29.9400, 29.9400, 29.9400,\n",
       "        29.9400, 29.9400, 29.9400, 29.9400, 29.9400, 29.9400, 29.9400, 29.9400,\n",
       "        29.9400, 29.9400, 29.9400, 29.9400, 29.9400, 29.9400, 29.9400, 29.9400,\n",
       "        29.9400, 29.9400, 29.9400, 29.9400, 29.9400, 29.9400, 29.9400, 29.9400,\n",
       "        29.9400, 29.9400, 29.9400, 29.9400, 29.9400, 29.9400, 29.9400, 29.9400,\n",
       "        29.9400, 29.9400, 29.9400, 29.9400, 29.9400, 29.9400, 29.9400, 29.9400,\n",
       "        29.9400, 29.9400, 29.9400, 29.9400, 29.9400, 29.9400, 29.9400, 29.9400])"
      ]
     },
     "execution_count": 45,
     "metadata": {},
     "output_type": "execute_result"
    }
   ],
   "source": [
    "x = predicted_ids[\"token_timestamps\"][0]\n",
    "x"
   ]
  },
  {
   "cell_type": "code",
   "execution_count": 51,
   "id": "bf40169d-8514-4799-8e6a-91db47f7ca83",
   "metadata": {},
   "outputs": [
    {
     "data": {
      "text/plain": [
       "torch.Size([448])"
      ]
     },
     "execution_count": 51,
     "metadata": {},
     "output_type": "execute_result"
    }
   ],
   "source": [
    "x.shape"
   ]
  },
  {
   "cell_type": "code",
   "execution_count": 46,
   "id": "0e794ce4-8d28-4ba1-a20e-a3eca6b60adf",
   "metadata": {},
   "outputs": [],
   "source": [
    "import torch\n",
    "\n",
    "def count_zero_length_elements(tensor):\n",
    "    end_times = torch.roll(tensor, -1)\n",
    "    return torch.sum(end_times == tensor)"
   ]
  },
  {
   "cell_type": "code",
   "execution_count": 50,
   "id": "476bfe22-881e-4ecf-9b24-20bcaad73fc9",
   "metadata": {},
   "outputs": [
    {
     "data": {
      "text/plain": [
       "tensor(424)"
      ]
     },
     "execution_count": 50,
     "metadata": {},
     "output_type": "execute_result"
    }
   ],
   "source": [
    "count_zero_length_elements(x)"
   ]
  },
  {
   "cell_type": "code",
   "execution_count": 58,
   "id": "ff1ce7b9-16ff-45ec-8388-8fde1f9944d9",
   "metadata": {},
   "outputs": [],
   "source": [
    "import torch\n",
    "\n",
    "def max_subarray_length(x):\n",
    "    # Compute the differences between adjacent elements\n",
    "    diffs = torch.diff(x)\n",
    "\n",
    "    # Find the indices where the differences are non-zero\n",
    "    indices = torch.nonzero(diffs)\n",
    "\n",
    "    # Compute the lengths of the subarrays between the indices\n",
    "    lengths = torch.diff(torch.cat([torch.tensor([-1]), indices.flatten(), torch.tensor([len(x)])]))\n",
    "\n",
    "    # Find the maximum length of any subarray with one unique value\n",
    "    # max_length = torch.max(lengths[x[indices[:, 0]] == x[indices[:, 0] + 1]])\n",
    "    max_length = torch.max(lengths)\n",
    "\n",
    "    return max_length"
   ]
  },
  {
   "cell_type": "code",
   "execution_count": 59,
   "id": "8a103485-8236-4b5e-8a35-44f7ca36889f",
   "metadata": {},
   "outputs": [
    {
     "data": {
      "text/plain": [
       "tensor(172)"
      ]
     },
     "execution_count": 59,
     "metadata": {},
     "output_type": "execute_result"
    }
   ],
   "source": [
    "max_subarray_length(x)"
   ]
  },
  {
   "cell_type": "code",
   "execution_count": null,
   "id": "c9f53602-7e69-46e4-8fc7-d3b60709419c",
   "metadata": {},
   "outputs": [],
   "source": []
  }
 ],
 "metadata": {
  "kernelspec": {
   "display_name": "Python 3 (ipykernel)",
   "language": "python",
   "name": "python3"
  },
  "language_info": {
   "codemirror_mode": {
    "name": "ipython",
    "version": 3
   },
   "file_extension": ".py",
   "mimetype": "text/x-python",
   "name": "python",
   "nbconvert_exporter": "python",
   "pygments_lexer": "ipython3",
   "version": "3.10.11"
  }
 },
 "nbformat": 4,
 "nbformat_minor": 5
}
