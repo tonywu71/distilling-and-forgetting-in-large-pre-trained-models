{
 "cells": [
  {
   "cell_type": "markdown",
   "id": "cb638b37-c3ba-4c60-b618-d7c875a799f5",
   "metadata": {
    "tags": []
   },
   "source": [
    "# Imports"
   ]
  },
  {
   "cell_type": "code",
   "execution_count": 1,
   "id": "696bd80d-1a91-47ff-8629-632533796683",
   "metadata": {},
   "outputs": [],
   "source": [
    "%load_ext autoreload\n",
    "%autoreload 2"
   ]
  },
  {
   "cell_type": "code",
   "execution_count": 2,
   "id": "3ed110f5-4077-4816-b73f-0970d2543b6c",
   "metadata": {},
   "outputs": [
    {
     "name": "stdout",
     "output_type": "stream",
     "text": [
      "/Users/Tony/Other Docs/distilling-and-forgetting-in-large-pre-trained-models\n"
     ]
    }
   ],
   "source": [
    "%cd ..\n",
    "import os, sys\n",
    "sys.path.insert(0, os.path.dirname(os.path.dirname(os.path.abspath(os.getcwd()))))"
   ]
  },
  {
   "cell_type": "code",
   "execution_count": 3,
   "id": "9cdda7eb-200b-4a2d-931c-8f0d25041d72",
   "metadata": {},
   "outputs": [],
   "source": [
    "from functools import partial\n",
    "from tqdm.auto import tqdm\n",
    "\n",
    "import torch\n",
    "from transformers import pipeline\n",
    "from transformers.models.whisper import (WhisperTokenizer,\n",
    "                                         WhisperTokenizerFast,\n",
    "                                         WhisperFeatureExtractor,\n",
    "                                         WhisperForConditionalGeneration)\n",
    "from datasets import load_dataset\n",
    "import evaluate\n",
    "\n",
    "from dataloader.collator import DataCollatorSpeechSeq2SeqWithPadding\n",
    "from dataloader.preprocessing_train.preprocessing import prepare_dataset_fct\n",
    "from evaluation.eval_dataset_name_to_dataset_group import EVAL_DATASET_NAME_TO_DATASET_GROUP\n",
    "\n",
    "if torch.cuda.is_available():\n",
    "    device = \"cuda:0\"\n",
    "elif torch.backends.mps.is_available():  # for Apple Silicon\n",
    "    device = torch.device(\"mps\")\n",
    "else:\n",
    "    device = \"cpu\""
   ]
  },
  {
   "cell_type": "markdown",
   "id": "3ffd2af4-0693-41a1-9ae2-01c6fa20a848",
   "metadata": {},
   "source": [
    "## Load dataset"
   ]
  },
  {
   "cell_type": "markdown",
   "id": "3df38d53-6a1d-43a7-a963-a0450cea9f6b",
   "metadata": {},
   "source": [
    "# With `tiny`"
   ]
  },
  {
   "cell_type": "markdown",
   "id": "9ef80ece-17b5-433e-8af3-af2bb8dd580b",
   "metadata": {},
   "source": [
    "## Load the model"
   ]
  },
  {
   "cell_type": "code",
   "execution_count": 4,
   "id": "824d6e40-8a8f-4289-b2ce-85e161670ade",
   "metadata": {},
   "outputs": [],
   "source": [
    "pretrained_model_name_or_path = \"openai/whisper-tiny\"\n",
    "\n",
    "model = WhisperForConditionalGeneration.from_pretrained(pretrained_model_name_or_path)\n",
    "feature_extractor = WhisperFeatureExtractor.from_pretrained(pretrained_model_name_or_path)\n",
    "tokenizer = WhisperTokenizerFast.from_pretrained(pretrained_model_name_or_path, language=\"english\", task=\"transcribe\")\n",
    "\n",
    "model.generate = partial(model.generate, task=\"transcribe\", max_length=255, use_cache=True)"
   ]
  },
  {
   "cell_type": "code",
   "execution_count": 5,
   "id": "426134a2-998e-4755-850f-3025fffc3110",
   "metadata": {},
   "outputs": [
    {
     "name": "stdout",
     "output_type": "stream",
     "text": [
      "WARNING: `CACHE_DIR_LIBRISPEECH` environment variable not set. Using default cache directory.\n"
     ]
    },
    {
     "name": "stderr",
     "output_type": "stream",
     "text": [
      "Found cached dataset librispeech_asr_dummy (/Users/Tony/.cache/huggingface/datasets/hf-internal-testing___librispeech_asr_dummy/clean/2.1.0/d3bc4c2bc2078fcde3ad0f0f635862e4c0fef78ba94c4a34c4c250a097af240b)\n"
     ]
    }
   ],
   "source": [
    "dataset_name = \"librispeech_dummy\"\n",
    "# dataset_name = \"ami\"\n",
    "\n",
    "ds = EVAL_DATASET_NAME_TO_DATASET_GROUP[dataset_name]()[dataset_name]\n",
    "\n",
    "if dataset_name == \"ami\":\n",
    "    ds = ds.select(list(range(32)))"
   ]
  },
  {
   "cell_type": "code",
   "execution_count": 6,
   "id": "b253aad8-4eb5-4c2b-9223-c0b21a8cffea",
   "metadata": {},
   "outputs": [
    {
     "name": "stderr",
     "output_type": "stream",
     "text": [
      "Loading cached processed dataset at /Users/Tony/.cache/huggingface/datasets/hf-internal-testing___librispeech_asr_dummy/clean/2.1.0/d3bc4c2bc2078fcde3ad0f0f635862e4c0fef78ba94c4a34c4c250a097af240b/cache-59ee67852172721a_*_of_00004.arrow\n"
     ]
    }
   ],
   "source": [
    "prepare_dataset = partial(prepare_dataset_fct, tokenizer=tokenizer, feature_extractor=feature_extractor)\n",
    "ds = ds.map(prepare_dataset, num_proc=4).with_format(\"pt\")"
   ]
  },
  {
   "cell_type": "markdown",
   "id": "1a31d057-2496-43dd-a7e3-49fb1fd2b8f1",
   "metadata": {},
   "source": [
    "## Predict"
   ]
  },
  {
   "cell_type": "code",
   "execution_count": 7,
   "id": "d5f29be3-b206-4f61-b191-0a2266b9b1a6",
   "metadata": {},
   "outputs": [],
   "source": [
    "x = ds[:5]\n",
    "\n",
    "references = [elt.lower() for elt in x[\"text\"]]\n",
    "\n",
    "outputs = model.generate(x[\"input_features\"], language=\"english\")\n",
    "\n",
    "transcribe_en = tokenizer.batch_decode(outputs, skip_special_tokens=True)\n",
    "\n",
    "outputs = model.generate(x[\"input_features\"], language=\"french\")\n",
    "\n",
    "transcribe_pseudo_french = tokenizer.batch_decode(outputs, skip_special_tokens=True)\n",
    "\n",
    "outputs = model.generate(x[\"input_features\"], task=\"translate\", language=\"french\")\n",
    "\n",
    "translate_pseudo_fr_to_en = tokenizer.batch_decode(outputs, skip_special_tokens=True)"
   ]
  },
  {
   "cell_type": "code",
   "execution_count": 8,
   "id": "df8d2653-c310-47ae-b8fd-dcd4fec0be80",
   "metadata": {},
   "outputs": [
    {
     "data": {
      "text/html": [
       "<div>\n",
       "<style scoped>\n",
       "    .dataframe tbody tr th:only-of-type {\n",
       "        vertical-align: middle;\n",
       "    }\n",
       "\n",
       "    .dataframe tbody tr th {\n",
       "        vertical-align: top;\n",
       "    }\n",
       "\n",
       "    .dataframe thead th {\n",
       "        text-align: right;\n",
       "    }\n",
       "</style>\n",
       "<table border=\"1\" class=\"dataframe\">\n",
       "  <thead>\n",
       "    <tr style=\"text-align: right;\">\n",
       "      <th></th>\n",
       "      <th>references</th>\n",
       "      <th>transcribe_en</th>\n",
       "      <th>transcribe_pseudo_french</th>\n",
       "      <th>translate_pseudo_fr_to_en</th>\n",
       "    </tr>\n",
       "  </thead>\n",
       "  <tbody>\n",
       "    <tr>\n",
       "      <th>0</th>\n",
       "      <td>mister quilter is the apostle of the middle classes and we are glad to welcome his gospel</td>\n",
       "      <td>Mr. Quilter is the apostle of the middle classes and we are glad to welcome his gospel.</td>\n",
       "      <td>Le plus de la chasse est de la classe et nous débrouillons l'air de l'air de la chasse.</td>\n",
       "      <td>Mr. Kfilter is the apostle of the middle classes and we are glad to welcome his gospel.</td>\n",
       "    </tr>\n",
       "    <tr>\n",
       "      <th>1</th>\n",
       "      <td>nor is mister quilter's manner less interesting than his matter</td>\n",
       "      <td>Nor is Mr. Quilters' manner less interesting than his matter.</td>\n",
       "      <td>N'orise Mr. Quilterre s'en m'en est intéressant thané le mâtre.</td>\n",
       "      <td>Nor is Mr. Quilters' manner less interesting than his matter.</td>\n",
       "    </tr>\n",
       "    <tr>\n",
       "      <th>2</th>\n",
       "      <td>he tells us that at this festive season of the year with christmas and roast beef looming before us similes drawn from eating and its results occur most readily to the mind</td>\n",
       "      <td>He tells us that at this festive season of the year with Christmas and roast beef looming before us, similarly drawn from eating and its results occur most readily to the mind.</td>\n",
       "      <td>Il a dit que cette fois-tu vu une fois-tu vu une fois-tu vu une fois-tu vu une fois-tu vu une fois-tu vu une fois-tu vu une fois-tu vu une fois-tu vu une fois-tu vu une fois-tu vu une fois-tu vu une fois-tu vu une fois-tu vu une fois-tu vu une fois-tu vu une fois-tu vu une fois-tu vu une fois-tu vu une fois-tu vu une fois-tu vu une fois-tu vu une fois-tu vu une fois-tu vu une fois-tu vu une fois-tu vu une fois-tu vu une fois-tu vu une fois-tu vu une fois-tu vu une fois-tu vu une fois-tu vu une fois-tu vu une fois-tu vu une fois-tu vu une fois-tu vu une fois-tu vu une fois-tu vu une fois-tu vu une fois-tu vu une fois-tu vu une fois-tu vu une fois-tu vu une fois-tu vu une fois-tu vu une fois-tu vu une fois-tu vu une fois-tu vu une fois-tu vu une fois</td>\n",
       "      <td>He tells us that at this festive season of the year, with Christmas and roast beef looming before us, similarly drawn from eating and its results occur most readily to the mind.</td>\n",
       "    </tr>\n",
       "    <tr>\n",
       "      <th>3</th>\n",
       "      <td>he has grave doubts whether sir frederick leighton's work is really greek after all and can discover in it but little of rocky ithaca</td>\n",
       "      <td>He has grave doubts whether Sir Frederick Layton's work is really Greek after all and can discover in it but little of Rocky Ithaca.</td>\n",
       "      <td>Il y a un grave d'autres, où les frais de l'Athénent est vraiment très bien. Et on peut se retrouver dans un peu plus de l'Etat de Rochie Ithaca.</td>\n",
       "      <td>He has grave douts, whether Sir Frederick Layton's work is really Greek after all, and can discover in it but little of Rocky Ithaca.</td>\n",
       "    </tr>\n",
       "    <tr>\n",
       "      <th>4</th>\n",
       "      <td>linnell's pictures are a sort of up guards and at em paintings and mason's exquisite idylls are as national as a jingo poem mister birket foster's landscapes smile at one much in the same way that mister carker used to flash his teeth and mister john collier gives his sitter a cheerful slap on the back before he says like a shampooer in a turkish bath next man</td>\n",
       "      <td>Lennils, pictures are a sort of upguards and atom paintings, and Mason's exquisite Idols are as national as a jingo poem. Mr. Birkut Foster's landscapes smile at one much in the same way that Mr. Karker used to flash his teeth. And Mr. John Colier gives his sitter a cheerful slap on the back before he says, like a shampoo or a turkish bath, next man,</td>\n",
       "      <td>Les nels, pictures, ont un peu de garages et des empêntings, et ce qui est un peu de garages, et ce qui est un peu de garages national comme une gingue. Le premier ministre de Bercut, il est un peu de la main, et il est un peu de la même chose que le ministre de Carquer, il est une fleur de taîte. Le ministre de John Collier, qui est un petit peu de la fin de la fin de la fin de la fin de la fin de la fin de la fin de la fin de la fin de la fin de la fin de la fin de la fin de la fin de la fin de la fin de la fin de la fin de la fin de la fin de la fin de la fin de la fin de la fin de la fin de la fin de la fin de la fin de la fin de la fin de la fin de la fin de la fin de la fin de la fin de la fin de la fin de la fin de la fin de la fin de la fin de la fin de la fin de la fin de la fin de la fin de la fin de la fin de la fin de la fin de la</td>\n",
       "      <td>L'Inille's pictures are a sort of upguards and atom paintings, and Mason's exquisite Idols are as national as a jingo poem. Mr. Birkut Foster's landscapes smile at one much in the same way that Mr. Carker used to flash his teeth. And Mr. John Collier gives his sitter a cheerful slap on the back before he says, like a shampoo or a turkish bath. Next man,</td>\n",
       "    </tr>\n",
       "  </tbody>\n",
       "</table>\n",
       "</div>"
      ],
      "text/plain": [
       "                                                                                                                                                                                                                                                                                                                                                                   references  \\\n",
       "0                                                                                                                                                                                                                                                                                   mister quilter is the apostle of the middle classes and we are glad to welcome his gospel   \n",
       "1                                                                                                                                                                                                                                                                                                             nor is mister quilter's manner less interesting than his matter   \n",
       "2                                                                                                                                                                                                he tells us that at this festive season of the year with christmas and roast beef looming before us similes drawn from eating and its results occur most readily to the mind   \n",
       "3                                                                                                                                                                                                                                       he has grave doubts whether sir frederick leighton's work is really greek after all and can discover in it but little of rocky ithaca   \n",
       "4  linnell's pictures are a sort of up guards and at em paintings and mason's exquisite idylls are as national as a jingo poem mister birket foster's landscapes smile at one much in the same way that mister carker used to flash his teeth and mister john collier gives his sitter a cheerful slap on the back before he says like a shampooer in a turkish bath next man   \n",
       "\n",
       "                                                                                                                                                                                                                                                                                                                                                       transcribe_en  \\\n",
       "0                                                                                                                                                                                                                                                                            Mr. Quilter is the apostle of the middle classes and we are glad to welcome his gospel.   \n",
       "1                                                                                                                                                                                                                                                                                                      Nor is Mr. Quilters' manner less interesting than his matter.   \n",
       "2                                                                                                                                                                                   He tells us that at this festive season of the year with Christmas and roast beef looming before us, similarly drawn from eating and its results occur most readily to the mind.   \n",
       "3                                                                                                                                                                                                                               He has grave doubts whether Sir Frederick Layton's work is really Greek after all and can discover in it but little of Rocky Ithaca.   \n",
       "4   Lennils, pictures are a sort of upguards and atom paintings, and Mason's exquisite Idols are as national as a jingo poem. Mr. Birkut Foster's landscapes smile at one much in the same way that Mr. Karker used to flash his teeth. And Mr. John Colier gives his sitter a cheerful slap on the back before he says, like a shampoo or a turkish bath, next man,   \n",
       "\n",
       "                                                                                                                                                                                                                                                                                                                                                                                                                                                                                                                                                                                                                                                                                                                                                                                                                                                                  transcribe_pseudo_french  \\\n",
       "0                                                                                                                                                                                                                                                                                                                                                                                                                                                                                                                                                                                                                                                                                                                                                                                                  Le plus de la chasse est de la classe et nous débrouillons l'air de l'air de la chasse.   \n",
       "1                                                                                                                                                                                                                                                                                                                                                                                                                                                                                                                                                                                                                                                                                                                                                                                                                          N'orise Mr. Quilterre s'en m'en est intéressant thané le mâtre.   \n",
       "2                                                                                                   Il a dit que cette fois-tu vu une fois-tu vu une fois-tu vu une fois-tu vu une fois-tu vu une fois-tu vu une fois-tu vu une fois-tu vu une fois-tu vu une fois-tu vu une fois-tu vu une fois-tu vu une fois-tu vu une fois-tu vu une fois-tu vu une fois-tu vu une fois-tu vu une fois-tu vu une fois-tu vu une fois-tu vu une fois-tu vu une fois-tu vu une fois-tu vu une fois-tu vu une fois-tu vu une fois-tu vu une fois-tu vu une fois-tu vu une fois-tu vu une fois-tu vu une fois-tu vu une fois-tu vu une fois-tu vu une fois-tu vu une fois-tu vu une fois-tu vu une fois-tu vu une fois-tu vu une fois-tu vu une fois-tu vu une fois-tu vu une fois-tu vu une fois-tu vu une fois-tu vu une fois-tu vu une fois-tu vu une fois-tu vu une fois-tu vu une fois-tu vu une fois   \n",
       "3                                                                                                                                                                                                                                                                                                                                                                                                                                                                                                                                                                                                                                                                                                                                        Il y a un grave d'autres, où les frais de l'Athénent est vraiment très bien. Et on peut se retrouver dans un peu plus de l'Etat de Rochie Ithaca.   \n",
       "4   Les nels, pictures, ont un peu de garages et des empêntings, et ce qui est un peu de garages, et ce qui est un peu de garages national comme une gingue. Le premier ministre de Bercut, il est un peu de la main, et il est un peu de la même chose que le ministre de Carquer, il est une fleur de taîte. Le ministre de John Collier, qui est un petit peu de la fin de la fin de la fin de la fin de la fin de la fin de la fin de la fin de la fin de la fin de la fin de la fin de la fin de la fin de la fin de la fin de la fin de la fin de la fin de la fin de la fin de la fin de la fin de la fin de la fin de la fin de la fin de la fin de la fin de la fin de la fin de la fin de la fin de la fin de la fin de la fin de la fin de la fin de la fin de la fin de la fin de la fin de la fin de la fin de la fin de la fin de la fin de la fin de la fin de la fin de la   \n",
       "\n",
       "                                                                                                                                                                                                                                                                                                                                              translate_pseudo_fr_to_en  \n",
       "0                                                                                                                                                                                                                                                                               Mr. Kfilter is the apostle of the middle classes and we are glad to welcome his gospel.  \n",
       "1                                                                                                                                                                                                                                                                                                         Nor is Mr. Quilters' manner less interesting than his matter.  \n",
       "2                                                                                                                                                                                     He tells us that at this festive season of the year, with Christmas and roast beef looming before us, similarly drawn from eating and its results occur most readily to the mind.  \n",
       "3                                                                                                                                                                                                                                 He has grave douts, whether Sir Frederick Layton's work is really Greek after all, and can discover in it but little of Rocky Ithaca.  \n",
       "4   L'Inille's pictures are a sort of upguards and atom paintings, and Mason's exquisite Idols are as national as a jingo poem. Mr. Birkut Foster's landscapes smile at one much in the same way that Mr. Carker used to flash his teeth. And Mr. John Collier gives his sitter a cheerful slap on the back before he says, like a shampoo or a turkish bath. Next man,  "
      ]
     },
     "metadata": {},
     "output_type": "display_data"
    }
   ],
   "source": [
    "import pandas as pd\n",
    "from IPython.display import display\n",
    "\n",
    "# create the DataFrame\n",
    "df = pd.DataFrame({'references': references,\n",
    "                   'transcribe_en': transcribe_en,\n",
    "                   'transcribe_pseudo_french': transcribe_pseudo_french,\n",
    "                   'translate_pseudo_fr_to_en': translate_pseudo_fr_to_en\n",
    "                  })\n",
    "\n",
    "with pd.option_context('display.max_colwidth', None):\n",
    "    display(df)"
   ]
  },
  {
   "cell_type": "markdown",
   "id": "22b0072b-8b32-4f26-869f-a2a35e43a226",
   "metadata": {},
   "source": [
    "# Compare all Whisper flavors"
   ]
  },
  {
   "cell_type": "code",
   "execution_count": 9,
   "id": "c6844166-5909-422a-b712-1c02111aff1b",
   "metadata": {},
   "outputs": [
    {
     "data": {
      "application/vnd.jupyter.widget-view+json": {
       "model_id": "35495e84e9ad427493b43d17610db5ba",
       "version_major": 2,
       "version_minor": 0
      },
      "text/plain": [
       "  0%|          | 0/4 [00:00<?, ?it/s]"
      ]
     },
     "metadata": {},
     "output_type": "display_data"
    },
    {
     "data": {
      "application/vnd.jupyter.widget-view+json": {
       "model_id": "1adbaaf8e22a46ae91af114c6988d877",
       "version_major": 2,
       "version_minor": 0
      },
      "text/plain": [
       "Downloading (…)neration_config.json:   0%|          | 0.00/3.69k [00:00<?, ?B/s]"
      ]
     },
     "metadata": {},
     "output_type": "display_data"
    }
   ],
   "source": [
    "list_model_paths = [\n",
    "    \"openai/whisper-tiny\",\n",
    "    \"openai/whisper-base\",\n",
    "    \"openai/whisper-small\",\n",
    "    \"openai/whisper-medium\"\n",
    "]\n",
    "\n",
    "x = ds[0:1]\n",
    "preds = {}\n",
    "\n",
    "for pretrained_model_name_or_path in tqdm(list_model_paths):\n",
    "    model = WhisperForConditionalGeneration.from_pretrained(pretrained_model_name_or_path)\n",
    "    model.generate = partial(model.generate, task=\"transcribe\", max_length=100, use_cache=True)\n",
    "    outputs = model.generate(x[\"input_features\"], language=\"french\")\n",
    "    transcribe_pseudo_french = tokenizer.batch_decode(outputs, skip_special_tokens=True)\n",
    "    preds[pretrained_model_name_or_path] = transcribe_pseudo_french"
   ]
  },
  {
   "cell_type": "code",
   "execution_count": 10,
   "id": "c135dfba-4d95-4db5-a04c-075c895cd1ed",
   "metadata": {},
   "outputs": [
    {
     "data": {
      "text/plain": [
       "{'openai/whisper-tiny': [\" Le plus de la chasse est de la classe et nous débrouillons l'air de l'air de la chasse.\"],\n",
       " 'openai/whisper-base': [' Mr. Quilter est le passé de la classe de la ville, et nous sommes glad de bienvenue son gosse-boule.'],\n",
       " 'openai/whisper-small': [\" Mr Quilter est l'époche de la classe moyenne et nous sommes heureux d'accueillir son gospel.\"],\n",
       " 'openai/whisper-medium': [\" Mr. Quilter est l'apostle des classes du milieu et nous sommes heureux de la bienvenue dans son Gospèle.\"]}"
      ]
     },
     "execution_count": 10,
     "metadata": {},
     "output_type": "execute_result"
    }
   ],
   "source": [
    "preds"
   ]
  },
  {
   "cell_type": "code",
   "execution_count": null,
   "id": "7f61ba71-ed28-4067-b468-3c6856ecc3f7",
   "metadata": {},
   "outputs": [],
   "source": []
  }
 ],
 "metadata": {
  "kernelspec": {
   "display_name": "Python 3 (ipykernel)",
   "language": "python",
   "name": "python3"
  },
  "language_info": {
   "codemirror_mode": {
    "name": "ipython",
    "version": 3
   },
   "file_extension": ".py",
   "mimetype": "text/x-python",
   "name": "python",
   "nbconvert_exporter": "python",
   "pygments_lexer": "ipython3",
   "version": "3.10.11"
  }
 },
 "nbformat": 4,
 "nbformat_minor": 5
}
