{
 "cells": [
  {
   "cell_type": "code",
   "execution_count": 1,
   "id": "f5eb3d7b-e583-4c73-9284-7283432455a0",
   "metadata": {},
   "outputs": [],
   "source": [
    "import pandas as pd"
   ]
  },
  {
   "cell_type": "markdown",
   "id": "daa3f474-ced4-49e5-9bf1-517922e7ec3a",
   "metadata": {},
   "source": [
    "## Vanilla"
   ]
  },
  {
   "cell_type": "code",
   "execution_count": 15,
   "id": "eb266fbd-a9ee-4949-a944-23e7b2738f6f",
   "metadata": {},
   "outputs": [
    {
     "data": {
      "text/html": [
       "<div>\n",
       "<style scoped>\n",
       "    .dataframe tbody tr th:only-of-type {\n",
       "        vertical-align: middle;\n",
       "    }\n",
       "\n",
       "    .dataframe tbody tr th {\n",
       "        vertical-align: top;\n",
       "    }\n",
       "\n",
       "    .dataframe thead th {\n",
       "        text-align: right;\n",
       "    }\n",
       "</style>\n",
       "<table border=\"1\" class=\"dataframe\">\n",
       "  <thead>\n",
       "    <tr style=\"text-align: right;\">\n",
       "      <th></th>\n",
       "      <th>references</th>\n",
       "      <th>predictions</th>\n",
       "    </tr>\n",
       "  </thead>\n",
       "  <tbody>\n",
       "    <tr>\n",
       "      <th>0</th>\n",
       "      <td>BUT LIKE MOBILE PHONES HAVE SCREENS AND THEY'R...</td>\n",
       "      <td>But like mobile phones have screens and they'...</td>\n",
       "    </tr>\n",
       "    <tr>\n",
       "      <th>1</th>\n",
       "      <td>MM</td>\n",
       "      <td>you</td>\n",
       "    </tr>\n",
       "    <tr>\n",
       "      <th>2</th>\n",
       "      <td>FURRY</td>\n",
       "      <td>Sorry.</td>\n",
       "    </tr>\n",
       "    <tr>\n",
       "      <th>3</th>\n",
       "      <td>YEAH</td>\n",
       "      <td>Yeah.</td>\n",
       "    </tr>\n",
       "    <tr>\n",
       "      <th>4</th>\n",
       "      <td>I MEAN IT JUST SEEMS LIKE YEAH</td>\n",
       "      <td>I mean, it just seems like... Yeah.</td>\n",
       "    </tr>\n",
       "    <tr>\n",
       "      <th>...</th>\n",
       "      <td>...</td>\n",
       "      <td>...</td>\n",
       "    </tr>\n",
       "    <tr>\n",
       "      <th>13093</th>\n",
       "      <td>AND YOU TURN IT OFF THEN THE NEXT TIME YOU TUR...</td>\n",
       "      <td>and you turn it off. Then the next time you t...</td>\n",
       "    </tr>\n",
       "    <tr>\n",
       "      <th>13094</th>\n",
       "      <td>I THINK WE UH DISCUSSED A LOT OF THINGS ABOUT IT</td>\n",
       "      <td>I think we discussed a lot of things about it.</td>\n",
       "    </tr>\n",
       "    <tr>\n",
       "      <th>13095</th>\n",
       "      <td>MM MOST NEW T. V. S DO UH COLLECT ALL THE PAGES</td>\n",
       "      <td>Most new TV's do collect all the pages.</td>\n",
       "    </tr>\n",
       "    <tr>\n",
       "      <th>13096</th>\n",
       "      <td>YEAH</td>\n",
       "      <td>Yeah.</td>\n",
       "    </tr>\n",
       "    <tr>\n",
       "      <th>13097</th>\n",
       "      <td>YEAH</td>\n",
       "      <td>Now.</td>\n",
       "    </tr>\n",
       "  </tbody>\n",
       "</table>\n",
       "<p>13098 rows × 2 columns</p>\n",
       "</div>"
      ],
      "text/plain": [
       "                                              references  \\\n",
       "0      BUT LIKE MOBILE PHONES HAVE SCREENS AND THEY'R...   \n",
       "1                                                     MM   \n",
       "2                                                  FURRY   \n",
       "3                                                   YEAH   \n",
       "4                         I MEAN IT JUST SEEMS LIKE YEAH   \n",
       "...                                                  ...   \n",
       "13093  AND YOU TURN IT OFF THEN THE NEXT TIME YOU TUR...   \n",
       "13094   I THINK WE UH DISCUSSED A LOT OF THINGS ABOUT IT   \n",
       "13095    MM MOST NEW T. V. S DO UH COLLECT ALL THE PAGES   \n",
       "13096                                               YEAH   \n",
       "13097                                               YEAH   \n",
       "\n",
       "                                             predictions  \n",
       "0       But like mobile phones have screens and they'...  \n",
       "1                                                    you  \n",
       "2                                                 Sorry.  \n",
       "3                                                  Yeah.  \n",
       "4                    I mean, it just seems like... Yeah.  \n",
       "...                                                  ...  \n",
       "13093   and you turn it off. Then the next time you t...  \n",
       "13094     I think we discussed a lot of things about it.  \n",
       "13095            Most new TV's do collect all the pages.  \n",
       "13096                                              Yeah.  \n",
       "13097                                               Now.  \n",
       "\n",
       "[13098 rows x 2 columns]"
      ]
     },
     "execution_count": 15,
     "metadata": {},
     "output_type": "execute_result"
    }
   ],
   "source": [
    "df_vanilla = pd.read_json(\"data/whisper-tiny_vanilla-ami_validation-preds_orthographic-non_lowered.json\")\n",
    "df_vanilla"
   ]
  },
  {
   "cell_type": "code",
   "execution_count": 16,
   "id": "8991c45b-8787-4b6b-b322-f2fcc9f0e562",
   "metadata": {},
   "outputs": [],
   "source": [
    "df_vanilla[\"is_lowercased\"] = df_vanilla[\"predictions\"].str.islower()\n",
    "df_vanilla['contains_punctuation'] = df_vanilla[\"predictions\"].str.contains(r'[^\\w\\s\\']')"
   ]
  },
  {
   "cell_type": "code",
   "execution_count": 24,
   "id": "43f27470-c0b0-4599-a658-ef127039b4b2",
   "metadata": {},
   "outputs": [
    {
     "data": {
      "text/plain": [
       "False    0.829211\n",
       "True     0.170789\n",
       "Name: is_lowercased, dtype: float64"
      ]
     },
     "execution_count": 24,
     "metadata": {},
     "output_type": "execute_result"
    }
   ],
   "source": [
    "df_vanilla[\"is_lowercased\"].value_counts() / len(df_vanilla[\"is_lowercased\"])"
   ]
  },
  {
   "cell_type": "code",
   "execution_count": 25,
   "id": "3d40d00a-da62-488e-ae7e-3c75ff516e57",
   "metadata": {},
   "outputs": [
    {
     "data": {
      "text/plain": [
       "True     0.91617\n",
       "False    0.08383\n",
       "Name: contains_punctuation, dtype: float64"
      ]
     },
     "execution_count": 25,
     "metadata": {},
     "output_type": "execute_result"
    }
   ],
   "source": [
    "df_vanilla[\"contains_punctuation\"].value_counts() / len(df_vanilla[\"is_lowercased\"])"
   ]
  },
  {
   "cell_type": "markdown",
   "id": "8407ae46-34aa-49cf-92b5-b01783caf43d",
   "metadata": {},
   "source": [
    "## Fine-tuned"
   ]
  },
  {
   "cell_type": "code",
   "execution_count": 19,
   "id": "fd014e52-d5cf-4ab5-952f-379f3aef1dbd",
   "metadata": {},
   "outputs": [
    {
     "data": {
      "text/html": [
       "<div>\n",
       "<style scoped>\n",
       "    .dataframe tbody tr th:only-of-type {\n",
       "        vertical-align: middle;\n",
       "    }\n",
       "\n",
       "    .dataframe tbody tr th {\n",
       "        vertical-align: top;\n",
       "    }\n",
       "\n",
       "    .dataframe thead th {\n",
       "        text-align: right;\n",
       "    }\n",
       "</style>\n",
       "<table border=\"1\" class=\"dataframe\">\n",
       "  <thead>\n",
       "    <tr style=\"text-align: right;\">\n",
       "      <th></th>\n",
       "      <th>references</th>\n",
       "      <th>predictions</th>\n",
       "    </tr>\n",
       "  </thead>\n",
       "  <tbody>\n",
       "    <tr>\n",
       "      <th>0</th>\n",
       "      <td>BUT LIKE MOBILE PHONES HAVE SCREENS AND THEY'R...</td>\n",
       "      <td>but like mobile phones have screens and uh cheap</td>\n",
       "    </tr>\n",
       "    <tr>\n",
       "      <th>1</th>\n",
       "      <td>MM</td>\n",
       "      <td>mm</td>\n",
       "    </tr>\n",
       "    <tr>\n",
       "      <th>2</th>\n",
       "      <td>FURRY</td>\n",
       "      <td>sorry</td>\n",
       "    </tr>\n",
       "    <tr>\n",
       "      <th>3</th>\n",
       "      <td>YEAH</td>\n",
       "      <td>yeah</td>\n",
       "    </tr>\n",
       "    <tr>\n",
       "      <th>4</th>\n",
       "      <td>I MEAN IT JUST SEEMS LIKE YEAH</td>\n",
       "      <td>i mean it just seems like yeah</td>\n",
       "    </tr>\n",
       "    <tr>\n",
       "      <th>...</th>\n",
       "      <td>...</td>\n",
       "      <td>...</td>\n",
       "    </tr>\n",
       "    <tr>\n",
       "      <th>13093</th>\n",
       "      <td>AND YOU TURN IT OFF THEN THE NEXT TIME YOU TUR...</td>\n",
       "      <td>and you turn it off then the next time you tu...</td>\n",
       "    </tr>\n",
       "    <tr>\n",
       "      <th>13094</th>\n",
       "      <td>I THINK WE UH DISCUSSED A LOT OF THINGS ABOUT IT</td>\n",
       "      <td>i think we uh discussed a lot of things about it</td>\n",
       "    </tr>\n",
       "    <tr>\n",
       "      <th>13095</th>\n",
       "      <td>MM MOST NEW T. V. S DO UH COLLECT ALL THE PAGES</td>\n",
       "      <td>mm and both new t. v. s do uh collect all the ...</td>\n",
       "    </tr>\n",
       "    <tr>\n",
       "      <th>13096</th>\n",
       "      <td>YEAH</td>\n",
       "      <td>yeah</td>\n",
       "    </tr>\n",
       "    <tr>\n",
       "      <th>13097</th>\n",
       "      <td>YEAH</td>\n",
       "      <td>no</td>\n",
       "    </tr>\n",
       "  </tbody>\n",
       "</table>\n",
       "<p>13098 rows × 2 columns</p>\n",
       "</div>"
      ],
      "text/plain": [
       "                                              references  \\\n",
       "0      BUT LIKE MOBILE PHONES HAVE SCREENS AND THEY'R...   \n",
       "1                                                     MM   \n",
       "2                                                  FURRY   \n",
       "3                                                   YEAH   \n",
       "4                         I MEAN IT JUST SEEMS LIKE YEAH   \n",
       "...                                                  ...   \n",
       "13093  AND YOU TURN IT OFF THEN THE NEXT TIME YOU TUR...   \n",
       "13094   I THINK WE UH DISCUSSED A LOT OF THINGS ABOUT IT   \n",
       "13095    MM MOST NEW T. V. S DO UH COLLECT ALL THE PAGES   \n",
       "13096                                               YEAH   \n",
       "13097                                               YEAH   \n",
       "\n",
       "                                             predictions  \n",
       "0       but like mobile phones have screens and uh cheap  \n",
       "1                                                     mm  \n",
       "2                                                  sorry  \n",
       "3                                                   yeah  \n",
       "4                         i mean it just seems like yeah  \n",
       "...                                                  ...  \n",
       "13093   and you turn it off then the next time you tu...  \n",
       "13094   i think we uh discussed a lot of things about it  \n",
       "13095  mm and both new t. v. s do uh collect all the ...  \n",
       "13096                                               yeah  \n",
       "13097                                                 no  \n",
       "\n",
       "[13098 rows x 2 columns]"
      ]
     },
     "execution_count": 19,
     "metadata": {},
     "output_type": "execute_result"
    }
   ],
   "source": [
    "df_finetuned = pd.read_json(\"data/final-ami_validation-preds_orthographic-non_lowered.json\")\n",
    "df_finetuned"
   ]
  },
  {
   "cell_type": "code",
   "execution_count": 20,
   "id": "ca98f064-3960-4550-9c13-caabe05c3870",
   "metadata": {},
   "outputs": [],
   "source": [
    "df_finetuned[\"is_lowercased\"] = df_finetuned[\"predictions\"].str.islower()\n",
    "df_finetuned['contains_punctuation'] = df_finetuned[\"predictions\"].str.contains(r'[^\\w\\s\\']')"
   ]
  },
  {
   "cell_type": "code",
   "execution_count": 26,
   "id": "ede7eba2-754a-4a1d-b2a9-9f83e794a09a",
   "metadata": {},
   "outputs": [
    {
     "data": {
      "text/plain": [
       "True     0.991831\n",
       "False    0.008169\n",
       "Name: is_lowercased, dtype: float64"
      ]
     },
     "execution_count": 26,
     "metadata": {},
     "output_type": "execute_result"
    }
   ],
   "source": [
    "df_finetuned[\"is_lowercased\"].value_counts() / len(df_vanilla[\"is_lowercased\"])"
   ]
  },
  {
   "cell_type": "code",
   "execution_count": 27,
   "id": "8287955f-1f16-4aef-bfe7-7779b47bce9a",
   "metadata": {},
   "outputs": [
    {
     "data": {
      "text/plain": [
       "False    0.947397\n",
       "True     0.052603\n",
       "Name: contains_punctuation, dtype: float64"
      ]
     },
     "execution_count": 27,
     "metadata": {},
     "output_type": "execute_result"
    }
   ],
   "source": [
    "df_finetuned[\"contains_punctuation\"].value_counts() / len(df_vanilla[\"is_lowercased\"])"
   ]
  },
  {
   "cell_type": "code",
   "execution_count": null,
   "id": "7cf400d5-243a-4813-a86c-5555516d2b08",
   "metadata": {},
   "outputs": [],
   "source": []
  },
  {
   "cell_type": "code",
   "execution_count": null,
   "id": "64bdab21-423a-484f-8da2-3bac401cd8b0",
   "metadata": {},
   "outputs": [],
   "source": []
  }
 ],
 "metadata": {
  "kernelspec": {
   "display_name": "Python 3 (ipykernel)",
   "language": "python",
   "name": "python3"
  },
  "language_info": {
   "codemirror_mode": {
    "name": "ipython",
    "version": 3
   },
   "file_extension": ".py",
   "mimetype": "text/x-python",
   "name": "python",
   "nbconvert_exporter": "python",
   "pygments_lexer": "ipython3",
   "version": "3.10.11"
  }
 },
 "nbformat": 4,
 "nbformat_minor": 5
}
