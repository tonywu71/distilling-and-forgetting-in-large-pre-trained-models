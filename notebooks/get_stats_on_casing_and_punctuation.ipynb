{
 "cells": [
  {
   "cell_type": "code",
   "execution_count": 1,
   "id": "f5eb3d7b-e583-4c73-9284-7283432455a0",
   "metadata": {},
   "outputs": [],
   "source": [
    "import pandas as pd"
   ]
  },
  {
   "cell_type": "markdown",
   "id": "daa3f474-ced4-49e5-9bf1-517922e7ec3a",
   "metadata": {},
   "source": [
    "## Vanilla"
   ]
  },
  {
   "cell_type": "code",
   "execution_count": 3,
   "id": "eb266fbd-a9ee-4949-a944-23e7b2738f6f",
   "metadata": {},
   "outputs": [
    {
     "data": {
      "text/html": [
       "<div>\n",
       "<style scoped>\n",
       "    .dataframe tbody tr th:only-of-type {\n",
       "        vertical-align: middle;\n",
       "    }\n",
       "\n",
       "    .dataframe tbody tr th {\n",
       "        vertical-align: top;\n",
       "    }\n",
       "\n",
       "    .dataframe thead th {\n",
       "        text-align: right;\n",
       "    }\n",
       "</style>\n",
       "<table border=\"1\" class=\"dataframe\">\n",
       "  <thead>\n",
       "    <tr style=\"text-align: right;\">\n",
       "      <th></th>\n",
       "      <th>references</th>\n",
       "      <th>predictions</th>\n",
       "    </tr>\n",
       "  </thead>\n",
       "  <tbody>\n",
       "    <tr>\n",
       "      <th>0</th>\n",
       "      <td>BUT LIKE MOBILE PHONES HAVE SCREENS AND THEY'R...</td>\n",
       "      <td>But like mobile phones have screens and they'...</td>\n",
       "    </tr>\n",
       "    <tr>\n",
       "      <th>1</th>\n",
       "      <td>MM</td>\n",
       "      <td>you</td>\n",
       "    </tr>\n",
       "    <tr>\n",
       "      <th>2</th>\n",
       "      <td>FURRY</td>\n",
       "      <td>Sorry.</td>\n",
       "    </tr>\n",
       "    <tr>\n",
       "      <th>3</th>\n",
       "      <td>YEAH</td>\n",
       "      <td>Yeah.</td>\n",
       "    </tr>\n",
       "    <tr>\n",
       "      <th>4</th>\n",
       "      <td>I MEAN IT JUST SEEMS LIKE YEAH</td>\n",
       "      <td>I mean, it just seems like... Yeah.</td>\n",
       "    </tr>\n",
       "    <tr>\n",
       "      <th>...</th>\n",
       "      <td>...</td>\n",
       "      <td>...</td>\n",
       "    </tr>\n",
       "    <tr>\n",
       "      <th>13093</th>\n",
       "      <td>AND YOU TURN IT OFF THEN THE NEXT TIME YOU TUR...</td>\n",
       "      <td>and you turn it off. Then the next time you t...</td>\n",
       "    </tr>\n",
       "    <tr>\n",
       "      <th>13094</th>\n",
       "      <td>I THINK WE UH DISCUSSED A LOT OF THINGS ABOUT IT</td>\n",
       "      <td>I think we discussed a lot of things about it.</td>\n",
       "    </tr>\n",
       "    <tr>\n",
       "      <th>13095</th>\n",
       "      <td>MM MOST NEW T. V. S DO UH COLLECT ALL THE PAGES</td>\n",
       "      <td>Most new TV's do collect all the pages.</td>\n",
       "    </tr>\n",
       "    <tr>\n",
       "      <th>13096</th>\n",
       "      <td>YEAH</td>\n",
       "      <td>Yeah.</td>\n",
       "    </tr>\n",
       "    <tr>\n",
       "      <th>13097</th>\n",
       "      <td>YEAH</td>\n",
       "      <td>Now.</td>\n",
       "    </tr>\n",
       "  </tbody>\n",
       "</table>\n",
       "<p>13098 rows × 2 columns</p>\n",
       "</div>"
      ],
      "text/plain": [
       "                                              references  \\\n",
       "0      BUT LIKE MOBILE PHONES HAVE SCREENS AND THEY'R...   \n",
       "1                                                     MM   \n",
       "2                                                  FURRY   \n",
       "3                                                   YEAH   \n",
       "4                         I MEAN IT JUST SEEMS LIKE YEAH   \n",
       "...                                                  ...   \n",
       "13093  AND YOU TURN IT OFF THEN THE NEXT TIME YOU TUR...   \n",
       "13094   I THINK WE UH DISCUSSED A LOT OF THINGS ABOUT IT   \n",
       "13095    MM MOST NEW T. V. S DO UH COLLECT ALL THE PAGES   \n",
       "13096                                               YEAH   \n",
       "13097                                               YEAH   \n",
       "\n",
       "                                             predictions  \n",
       "0       But like mobile phones have screens and they'...  \n",
       "1                                                    you  \n",
       "2                                                 Sorry.  \n",
       "3                                                  Yeah.  \n",
       "4                    I mean, it just seems like... Yeah.  \n",
       "...                                                  ...  \n",
       "13093   and you turn it off. Then the next time you t...  \n",
       "13094     I think we discussed a lot of things about it.  \n",
       "13095            Most new TV's do collect all the pages.  \n",
       "13096                                              Yeah.  \n",
       "13097                                               Now.  \n",
       "\n",
       "[13098 rows x 2 columns]"
      ]
     },
     "execution_count": 3,
     "metadata": {},
     "output_type": "execute_result"
    }
   ],
   "source": [
    "df_vanilla = pd.read_json(\"data/json_preds/whisper-tiny_vanilla-ami_validation-preds_orthographic-non_lowered.json\")\n",
    "df_vanilla"
   ]
  },
  {
   "cell_type": "code",
   "execution_count": 4,
   "id": "8991c45b-8787-4b6b-b322-f2fcc9f0e562",
   "metadata": {},
   "outputs": [],
   "source": [
    "df_vanilla[\"is_lowercased\"] = df_vanilla[\"predictions\"].str.islower()\n",
    "df_vanilla['contains_punctuation'] = df_vanilla[\"predictions\"].str.contains(r'[^\\w\\s\\']')"
   ]
  },
  {
   "cell_type": "code",
   "execution_count": 5,
   "id": "43f27470-c0b0-4599-a658-ef127039b4b2",
   "metadata": {},
   "outputs": [
    {
     "data": {
      "text/plain": [
       "False    0.829211\n",
       "True     0.170789\n",
       "Name: is_lowercased, dtype: float64"
      ]
     },
     "execution_count": 5,
     "metadata": {},
     "output_type": "execute_result"
    }
   ],
   "source": [
    "df_vanilla[\"is_lowercased\"].value_counts() / len(df_vanilla)"
   ]
  },
  {
   "cell_type": "code",
   "execution_count": 6,
   "id": "3d40d00a-da62-488e-ae7e-3c75ff516e57",
   "metadata": {},
   "outputs": [
    {
     "data": {
      "text/plain": [
       "True     0.91617\n",
       "False    0.08383\n",
       "Name: contains_punctuation, dtype: float64"
      ]
     },
     "execution_count": 6,
     "metadata": {},
     "output_type": "execute_result"
    }
   ],
   "source": [
    "df_vanilla[\"contains_punctuation\"].value_counts() / len(df_vanilla)"
   ]
  },
  {
   "cell_type": "markdown",
   "id": "8407ae46-34aa-49cf-92b5-b01783caf43d",
   "metadata": {},
   "source": [
    "## Fine-tuned"
   ]
  },
  {
   "cell_type": "code",
   "execution_count": 7,
   "id": "fd014e52-d5cf-4ab5-952f-379f3aef1dbd",
   "metadata": {},
   "outputs": [
    {
     "data": {
      "text/html": [
       "<div>\n",
       "<style scoped>\n",
       "    .dataframe tbody tr th:only-of-type {\n",
       "        vertical-align: middle;\n",
       "    }\n",
       "\n",
       "    .dataframe tbody tr th {\n",
       "        vertical-align: top;\n",
       "    }\n",
       "\n",
       "    .dataframe thead th {\n",
       "        text-align: right;\n",
       "    }\n",
       "</style>\n",
       "<table border=\"1\" class=\"dataframe\">\n",
       "  <thead>\n",
       "    <tr style=\"text-align: right;\">\n",
       "      <th></th>\n",
       "      <th>references</th>\n",
       "      <th>predictions</th>\n",
       "    </tr>\n",
       "  </thead>\n",
       "  <tbody>\n",
       "    <tr>\n",
       "      <th>0</th>\n",
       "      <td>BUT LIKE MOBILE PHONES HAVE SCREENS AND THEY'R...</td>\n",
       "      <td>but like mobile phones have screens and uh cheap</td>\n",
       "    </tr>\n",
       "    <tr>\n",
       "      <th>1</th>\n",
       "      <td>MM</td>\n",
       "      <td>mm</td>\n",
       "    </tr>\n",
       "    <tr>\n",
       "      <th>2</th>\n",
       "      <td>FURRY</td>\n",
       "      <td>sorry</td>\n",
       "    </tr>\n",
       "    <tr>\n",
       "      <th>3</th>\n",
       "      <td>YEAH</td>\n",
       "      <td>yeah</td>\n",
       "    </tr>\n",
       "    <tr>\n",
       "      <th>4</th>\n",
       "      <td>I MEAN IT JUST SEEMS LIKE YEAH</td>\n",
       "      <td>i mean it just seems like yeah</td>\n",
       "    </tr>\n",
       "    <tr>\n",
       "      <th>...</th>\n",
       "      <td>...</td>\n",
       "      <td>...</td>\n",
       "    </tr>\n",
       "    <tr>\n",
       "      <th>13093</th>\n",
       "      <td>AND YOU TURN IT OFF THEN THE NEXT TIME YOU TUR...</td>\n",
       "      <td>and you turn it off then the next time you tu...</td>\n",
       "    </tr>\n",
       "    <tr>\n",
       "      <th>13094</th>\n",
       "      <td>I THINK WE UH DISCUSSED A LOT OF THINGS ABOUT IT</td>\n",
       "      <td>i think we uh discussed a lot of things about it</td>\n",
       "    </tr>\n",
       "    <tr>\n",
       "      <th>13095</th>\n",
       "      <td>MM MOST NEW T. V. S DO UH COLLECT ALL THE PAGES</td>\n",
       "      <td>mm and both new t. v. s do uh collect all the ...</td>\n",
       "    </tr>\n",
       "    <tr>\n",
       "      <th>13096</th>\n",
       "      <td>YEAH</td>\n",
       "      <td>yeah</td>\n",
       "    </tr>\n",
       "    <tr>\n",
       "      <th>13097</th>\n",
       "      <td>YEAH</td>\n",
       "      <td>no</td>\n",
       "    </tr>\n",
       "  </tbody>\n",
       "</table>\n",
       "<p>13098 rows × 2 columns</p>\n",
       "</div>"
      ],
      "text/plain": [
       "                                              references  \\\n",
       "0      BUT LIKE MOBILE PHONES HAVE SCREENS AND THEY'R...   \n",
       "1                                                     MM   \n",
       "2                                                  FURRY   \n",
       "3                                                   YEAH   \n",
       "4                         I MEAN IT JUST SEEMS LIKE YEAH   \n",
       "...                                                  ...   \n",
       "13093  AND YOU TURN IT OFF THEN THE NEXT TIME YOU TUR...   \n",
       "13094   I THINK WE UH DISCUSSED A LOT OF THINGS ABOUT IT   \n",
       "13095    MM MOST NEW T. V. S DO UH COLLECT ALL THE PAGES   \n",
       "13096                                               YEAH   \n",
       "13097                                               YEAH   \n",
       "\n",
       "                                             predictions  \n",
       "0       but like mobile phones have screens and uh cheap  \n",
       "1                                                     mm  \n",
       "2                                                  sorry  \n",
       "3                                                   yeah  \n",
       "4                         i mean it just seems like yeah  \n",
       "...                                                  ...  \n",
       "13093   and you turn it off then the next time you tu...  \n",
       "13094   i think we uh discussed a lot of things about it  \n",
       "13095  mm and both new t. v. s do uh collect all the ...  \n",
       "13096                                               yeah  \n",
       "13097                                                 no  \n",
       "\n",
       "[13098 rows x 2 columns]"
      ]
     },
     "execution_count": 7,
     "metadata": {},
     "output_type": "execute_result"
    }
   ],
   "source": [
    "df_finetuned = pd.read_json(\"data/json_preds/final-ami_validation-preds_orthographic-non_lowered.json\")\n",
    "df_finetuned"
   ]
  },
  {
   "cell_type": "code",
   "execution_count": 22,
   "id": "ca98f064-3960-4550-9c13-caabe05c3870",
   "metadata": {},
   "outputs": [],
   "source": [
    "df_finetuned[\"is_lowercased\"] = df_finetuned[\"predictions\"].str.islower()\n",
    "df_finetuned['contains_punctuation'] = df_finetuned[\"predictions\"].str.contains(r'[^\\w\\s\\']')"
   ]
  },
  {
   "cell_type": "code",
   "execution_count": 28,
   "id": "ede7eba2-754a-4a1d-b2a9-9f83e794a09a",
   "metadata": {},
   "outputs": [
    {
     "data": {
      "text/plain": [
       "True     0.991831\n",
       "False    0.008169\n",
       "Name: is_lowercased, dtype: float64"
      ]
     },
     "execution_count": 28,
     "metadata": {},
     "output_type": "execute_result"
    }
   ],
   "source": [
    "df_finetuned[\"is_lowercased\"].value_counts() / len(df_finetuned)"
   ]
  },
  {
   "cell_type": "code",
   "execution_count": 27,
   "id": "8287955f-1f16-4aef-bfe7-7779b47bce9a",
   "metadata": {},
   "outputs": [
    {
     "data": {
      "text/plain": [
       "False    0.947397\n",
       "True     0.052603\n",
       "Name: contains_punctuation, dtype: float64"
      ]
     },
     "execution_count": 27,
     "metadata": {},
     "output_type": "execute_result"
    }
   ],
   "source": [
    "df_finetuned[\"contains_punctuation\"].value_counts() / len(df_finetuned)"
   ]
  },
  {
   "cell_type": "markdown",
   "id": "b4da3280-ee16-498b-8454-7b41565b6a75",
   "metadata": {},
   "source": [
    "## Labels"
   ]
  },
  {
   "cell_type": "code",
   "execution_count": 31,
   "id": "87a265d7-364d-443f-a876-0ff0d1307fae",
   "metadata": {},
   "outputs": [],
   "source": [
    "df_finetuned[\"ref_is_lowercased\"] = df_finetuned[\"predictions\"].str.lower().str.islower()\n",
    "df_finetuned['ref_contains_punctuation'] = df_finetuned[\"references\"].str.contains(r'[^\\w\\s\\']')"
   ]
  },
  {
   "cell_type": "code",
   "execution_count": 32,
   "id": "1c5a6c84-4071-4595-a40f-c3a9810c6e12",
   "metadata": {},
   "outputs": [
    {
     "data": {
      "text/plain": [
       "True     0.999847\n",
       "False    0.000153\n",
       "Name: ref_is_lowercased, dtype: float64"
      ]
     },
     "execution_count": 32,
     "metadata": {},
     "output_type": "execute_result"
    }
   ],
   "source": [
    "df_finetuned[\"ref_is_lowercased\"].value_counts() / len(df_finetuned)"
   ]
  },
  {
   "cell_type": "code",
   "execution_count": 29,
   "id": "deeda379-3a57-4a2f-b1d2-a4970a61b475",
   "metadata": {},
   "outputs": [
    {
     "data": {
      "text/plain": [
       "False    0.942434\n",
       "True     0.057566\n",
       "Name: ref_contains_punctuation, dtype: float64"
      ]
     },
     "execution_count": 29,
     "metadata": {},
     "output_type": "execute_result"
    }
   ],
   "source": [
    "df_finetuned[\"ref_contains_punctuation\"].value_counts() / len(df_finetuned)"
   ]
  },
  {
   "cell_type": "code",
   "execution_count": 36,
   "id": "45d956dd-dc0c-4390-8b76-38bd0fb01310",
   "metadata": {},
   "outputs": [
    {
     "name": "stdout",
     "output_type": "stream",
     "text": [
      "60\n",
      "so i guess we have to reflect on our experiences with remote controls to decide what um we would like to see in a convenient practical\n",
      "so i guess we have to reflect on our experiences as the circuitry roles decide but um we would like to see in the a. convenient practical\n",
      "\n",
      "136\n",
      "so like you can push a button on your t. v. yeah yeah yeah yeah\n",
      "so like you can push a button on your t. v. yeah yeah yeah yeah\n",
      "\n",
      "168\n",
      "i think we should design something that has like a so you can like somehow like you i mean you always know where your t. v. is\n",
      "i think we should design something that has like a so you can like somehow like you w i mean you always know where your t. v. is\n",
      "\n",
      "174\n",
      "'cause people just stick it on top of their t. v. but the point of having a remote is not to have to walk over to the t. v. so\n",
      "'cause people just stick it on top of the t. v. but the point of having a remote is not to have to walk over so that you eat so\n",
      "\n",
      "281\n",
      "and the m. e. what does that stand for\n",
      " and the m. e. what does that\n",
      "\n",
      "339\n",
      "okay\n",
      "mm-hmm\n",
      "\n",
      "367\n",
      "mm-hmm\n",
      "mm-hmm\n",
      "\n",
      "394\n",
      "hmm\n",
      "mm-hmm\n",
      "\n",
      "421\n",
      "you have your little guide out and you're like hit this button twice like to activate the date\n",
      " you have a little guide out and you know they get this button twice like to activate the t.\n",
      "\n",
      "448\n",
      "mm-hmm\n",
      "mm-hmm\n",
      "\n",
      "462\n",
      "then you hit that and then you can it brings up like the menu on the t. v. and you can just scroll around\n",
      "then you hit that and then you can it brings up like the menu on the t. v. and you can just scroll around\n",
      "\n",
      "505\n",
      "i believe it's ins it's gotta be inside the t. v. not inside the remote\n",
      "i believe it's since it's gotta be inside the t. v. and on inside the remote\n",
      "\n",
      "514\n",
      "so the t. v. is the screen that yeah\n",
      "so the t. v. is the screen that yeah\n",
      "\n",
      "522\n",
      "so that people can go arou go back and forth and choose if or or then again if you just i guess i c i can see like some kind of a thing where like you sort of have like the number come up on the t. v. like what channel you're on\n",
      " so that people can go or go back and forth and choose it or or g then again if you just i guess i i can see like some kind of a thing where like you sort of have like the number come up on the t. v. like what channel you're on\n",
      "\n",
      "541\n",
      "uh-huh\n",
      "mm-hmm\n",
      "\n",
      "604\n",
      "so b you you're gonna have to switch to like d. v. d. and like other things like that aren't you\n",
      "so you're gonna have to switch to like d. v. d. and like other things like that aren't you\n",
      "\n",
      "605\n",
      "or on the t. v. too\n",
      " or on the t. v. two\n",
      "\n",
      "625\n",
      "it doesn't seem that you would need anything besides pow i mean and the power button could even be like hold down the menu button for like longer than one second and it turns on the t. v.\n",
      "it doesn't seem that you would need anything besides p p i mean in the power button could even be like hold down the menu button for like longer than one second and it turns on the t. v.\n",
      "\n",
      "628\n",
      "mm-hmm\n",
      "mm-hmm\n",
      "\n",
      "657\n",
      "with t. v. channels it's you know one two three\n",
      " with t. v. channels it's your one two three\n",
      "\n",
      "673\n",
      "we're um we're actually not having d. v. d. that was one of th i i was sorry i i meant to update you on that\n",
      "w uh more or should i not having d. v. d. that was one of i i was sorry i meant to update you on that\n",
      "\n",
      "778\n",
      "my flatmates actually had one with a wheel and it it did show up on the t. v.\n",
      " my flat mat actually had one with a wheel and it it did just show up on the t. v.\n",
      "\n",
      "794\n",
      "if if you can get to you know if so long as you're able to bring up the menu on the t. v. screen\n",
      " if if you can get to you know if so long as you're able to bring up the menu on a t. v. screen\n",
      "\n",
      "796\n",
      "mm-hmm\n",
      "mm-hmm\n",
      "\n",
      "809\n",
      "mm-hmm\n",
      "mm-hmm\n",
      "\n",
      "811\n",
      "oh how they make the menu show up on the t. v.\n",
      "oh how they make the menu sure up on the t. v.\n",
      "\n",
      "873\n",
      "and hmm\n",
      " and mm-hmm\n",
      "\n",
      "946\n",
      "the infrared l. e. d. is actually gonna be included in the circuit board that comes with it\n",
      "the infra red l. e. d. is actually going to make included in circuit board that comes with it\n",
      "\n",
      "953\n",
      "it always comes with the t. v.\n",
      " it always comes with the t. v.\n",
      "\n",
      "970\n",
      "yeah that just imply you expect people to come when gisella is not working and that's not really fair if you\n",
      "yeah that just imply you expect people to come when g. the light's not working and that's not really fair if you\n",
      "\n",
      "1025\n",
      "is that all\n",
      " z. o.\n",
      "\n",
      "1078\n",
      "mm-hmm\n",
      "mm-hmm\n",
      "\n",
      "1085\n",
      "you have x. p.\n",
      " you have a x. p.\n",
      "\n",
      "1138\n",
      "the fax machine all the big equipment\n",
      " of x. machine all the big equipment\n",
      "\n",
      "1155\n",
      "mm-hmm\n",
      "mm-hmm\n",
      "\n",
      "1208\n",
      "that's quite uh i mean that's quite important to keep a spare room in gisella's office if we need more staff but\n",
      "that's quite a i mean that's quite important to keep a spare room in g. l. s. office if we need more stuff but\n",
      "\n",
      "1237\n",
      "mm-hmm\n",
      "mm-hmm\n",
      "\n",
      "1318\n",
      "okay\n",
      "mm-hmm\n",
      "\n",
      "1332\n",
      "mm-hmm\n",
      "mm-hmm\n",
      "\n",
      "1357\n",
      "mm-hmm\n",
      "mm-hmm\n",
      "\n",
      "1376\n",
      "mm-hmm\n",
      "mm-hmm\n",
      "\n",
      "1392\n",
      "mm-hmm\n",
      "mm-hmm\n",
      "\n",
      "1400\n",
      "for example and there is no room in the cupboards for any people except gisella because she got lots of paper archives and files and stuff like that\n",
      " so like the m. p. l. and there is no room in the cupboards for any people except g. z. l.a. because you get lots of paper archives and files and stuff like that\n",
      "\n",
      "1424\n",
      "so it's gonna be mariannes' office\n",
      "so it's gonna be marianne's half a. s\n",
      "\n",
      "1443\n",
      "mm-hmm\n",
      "mm-hmm\n",
      "\n",
      "1521\n",
      "yeah mm\n",
      "yeah mm-hmm\n",
      "\n",
      "1531\n",
      "an i. t. library\n",
      " an a. t. library\n",
      "\n",
      "1590\n",
      "i don't know put all the p. h. d. students together all the professors together that sort of thing\n",
      "i don't know put all the p. h. d. students together all the professors together and that sort of thing\n",
      "\n",
      "1676\n",
      "so one idea might be to take sort of the books that aren't frequently used by people put them all into that room\n",
      " so when i d. m. i. be to take sort of the books that aren't frequently used by people but them all into that room\n",
      "\n",
      "1687\n",
      "that's a good idea\n",
      "a t. c. r. d. m.\n",
      "\n"
     ]
    }
   ],
   "source": [
    "df_candidate = df_finetuned[df_finetuned[\"contains_punctuation\"]]\n",
    "for idx in range(50):\n",
    "    print(df_candidate.index[idx])\n",
    "    print(df_candidate.iloc[idx][\"references\"].lower())\n",
    "    print(df_candidate.iloc[idx][\"predictions\"])\n",
    "    print()"
   ]
  },
  {
   "cell_type": "code",
   "execution_count": 39,
   "id": "1ac1f584-01c8-4273-977d-0bc22c3e2d95",
   "metadata": {},
   "outputs": [
    {
     "data": {
      "text/plain": [
       "\" I don't know, put all the PhD students together, all the professors together, and that sort of thing.\""
      ]
     },
     "execution_count": 39,
     "metadata": {},
     "output_type": "execute_result"
    }
   ],
   "source": [
    "df_vanilla.loc[1590][\"predictions\"]"
   ]
  },
  {
   "cell_type": "code",
   "execution_count": null,
   "id": "7cf400d5-243a-4813-a86c-5555516d2b08",
   "metadata": {},
   "outputs": [],
   "source": []
  },
  {
   "cell_type": "code",
   "execution_count": null,
   "id": "64bdab21-423a-484f-8da2-3bac401cd8b0",
   "metadata": {},
   "outputs": [],
   "source": []
  }
 ],
 "metadata": {
  "kernelspec": {
   "display_name": "Python 3 (ipykernel)",
   "language": "python",
   "name": "python3"
  },
  "language_info": {
   "codemirror_mode": {
    "name": "ipython",
    "version": 3
   },
   "file_extension": ".py",
   "mimetype": "text/x-python",
   "name": "python",
   "nbconvert_exporter": "python",
   "pygments_lexer": "ipython3",
   "version": "3.10.11"
  }
 },
 "nbformat": 4,
 "nbformat_minor": 5
}
