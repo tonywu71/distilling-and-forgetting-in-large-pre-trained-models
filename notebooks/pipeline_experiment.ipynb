{
 "cells": [
  {
   "cell_type": "markdown",
   "id": "37324580-06a0-4be8-8194-70b8f85523c3",
   "metadata": {},
   "source": [
    "## Imports"
   ]
  },
  {
   "cell_type": "code",
   "execution_count": 1,
   "id": "fdb50902-acec-4fe8-9681-d944478c0e35",
   "metadata": {},
   "outputs": [],
   "source": [
    "%load_ext autoreload\n",
    "%autoreload 2"
   ]
  },
  {
   "cell_type": "code",
   "execution_count": 2,
   "id": "cba60d42-4585-4578-b142-c703099bd091",
   "metadata": {},
   "outputs": [
    {
     "name": "stdout",
     "output_type": "stream",
     "text": [
      "/Users/Tony/Other Docs/distilling-and-forgetting-in-large-pre-trained-models\n"
     ]
    }
   ],
   "source": [
    "%cd ..\n",
    "import os, sys\n",
    "sys.path.insert(0, os.path.dirname(os.path.dirname(os.path.abspath(os.getcwd()))))"
   ]
  },
  {
   "cell_type": "code",
   "execution_count": 3,
   "id": "b422c568-7362-4361-8052-1b78696a1b6a",
   "metadata": {},
   "outputs": [],
   "source": [
    "import torch\n",
    "from transformers import WhisperProcessor, WhisperForConditionalGeneration, pipeline\n",
    "from datasets import load_dataset\n",
    "import evaluate\n",
    "from evaluation.string_edit_metrics import get_string_edit_metrics\n",
    "\n",
    "metric = evaluate.load(\"wer\")"
   ]
  },
  {
   "cell_type": "code",
   "execution_count": 4,
   "id": "495a93ce-3a26-442b-a5d0-b6fb5ecff8c7",
   "metadata": {},
   "outputs": [],
   "source": [
    "from dataloader.dataloader import gen_from_dataset"
   ]
  },
  {
   "cell_type": "markdown",
   "id": "14fcde89-6579-4200-bb8c-f0d0f618971a",
   "metadata": {},
   "source": [
    "## User input"
   ]
  },
  {
   "cell_type": "markdown",
   "id": "4fb40d39-119f-4c6a-b960-99dc206d6350",
   "metadata": {},
   "source": [
    "## Load model"
   ]
  },
  {
   "cell_type": "code",
   "execution_count": 20,
   "id": "a44a8a39-776d-4177-ae70-33d876edefa8",
   "metadata": {},
   "outputs": [],
   "source": [
    "model = WhisperForConditionalGeneration.from_pretrained(\"openai/whisper-tiny\")\n",
    "processor = WhisperProcessor.from_pretrained(\"openai/whisper-tiny\", language=\"english\", task=\"transcribe\")\n",
    "\n",
    "model.config.forced_decoder_ids = processor.get_decoder_prompt_ids(language=\"english\", task=\"transcribe\")  # type: ignore\n",
    "model.config.suppress_tokens = []\n",
    "\n",
    "whisper_norm = processor.tokenizer._normalize"
   ]
  },
  {
   "cell_type": "markdown",
   "id": "f482c627-cd0a-41ba-8e61-96bb22b02956",
   "metadata": {},
   "source": [
    "## Load dataset"
   ]
  },
  {
   "cell_type": "code",
   "execution_count": 21,
   "id": "db4c817f-ac88-4fc7-a735-871fe100ee39",
   "metadata": {},
   "outputs": [
    {
     "name": "stderr",
     "output_type": "stream",
     "text": [
      "Found cached dataset librispeech_asr_dummy (/Users/Tony/.cache/huggingface/datasets/hf-internal-testing___librispeech_asr_dummy/clean/2.1.0/d3bc4c2bc2078fcde3ad0f0f635862e4c0fef78ba94c4a34c4c250a097af240b)\n"
     ]
    }
   ],
   "source": [
    "# load dummy dataset and read audio files\n",
    "ds = load_dataset(\"hf-internal-testing/librispeech_asr_dummy\", \"clean\", split=\"validation\")"
   ]
  },
  {
   "cell_type": "code",
   "execution_count": 22,
   "id": "81ed08a2-7488-4eda-858e-b72410c214ed",
   "metadata": {},
   "outputs": [],
   "source": [
    "whisper_asr = pipeline(task=\"automatic-speech-recognition\",\n",
    "                       model=model,\n",
    "                       tokenizer=processor.tokenizer,  # type: ignore\n",
    "                       feature_extractor=processor.feature_extractor,  # type: ignore\n",
    ")"
   ]
  },
  {
   "cell_type": "markdown",
   "id": "f157d5ba-883a-4ed9-9384-695eaeda6ecb",
   "metadata": {},
   "source": [
    "## Run pipeline"
   ]
  },
  {
   "cell_type": "code",
   "execution_count": 23,
   "id": "e13c4788-c27f-47ee-9acc-3d65d519fd12",
   "metadata": {},
   "outputs": [],
   "source": [
    "# Create placeholders for the predictions and references:\n",
    "predictions = []\n",
    "references = []\n",
    "\n",
    "for out in whisper_asr(gen_from_dataset(ds),\n",
    "                       batch_size=4,\n",
    "                       generate_kwargs={\"num_beams\": 1}):  # type: ignore\n",
    "    if not out[\"reference\"][0].strip():  # type: ignore\n",
    "        continue  # skip empty references to avoid error in WER computation\n",
    "    predictions.append(whisper_norm(out[\"text\"]))  # type: ignore\n",
    "    references.append(whisper_norm(out[\"reference\"][0]))  # type: ignore"
   ]
  },
  {
   "cell_type": "code",
   "execution_count": 24,
   "id": "6d69d6c0-a73b-4a28-904b-eeb68c4ec080",
   "metadata": {},
   "outputs": [
    {
     "data": {
      "text/plain": [
       "['mister quilter is the apostle of the middle classes and we are glad to welcome his gospel',\n",
       " 'nor is mister quilters manner less interesting than his matter',\n",
       " 'he tells us that at this festive season of the year with christmas and roast beef looming before us similarly drawn from eating and its results occur most readily to the mind',\n",
       " 'he has grave doubts whether sir frederick layton is work is really greek after all and can discover in it but little of rocky ithaca',\n",
       " 'lennils pictures are a sort of upguards and atom paintings and mason is exquisite idols are as national as a jingo poem mister birkut foster is landscapes smile at one much in the same way that mister karker used to flash his teeth and mister john colier gives his sitter a cheerful slap on the back before he says like a shampoo or a turkish bath next man']"
      ]
     },
     "execution_count": 24,
     "metadata": {},
     "output_type": "execute_result"
    }
   ],
   "source": [
    "predictions[:5]"
   ]
  },
  {
   "cell_type": "code",
   "execution_count": 25,
   "id": "397ce8e6-0f7d-4fd6-9ba5-8243e218e96c",
   "metadata": {},
   "outputs": [
    {
     "data": {
      "text/plain": [
       "['mister quilter is the apostle of the middle classes and we are glad to welcome his gospel',\n",
       " 'nor is mister quilter is manner less interesting than his matter',\n",
       " 'he tells us that at this festive season of the year with christmas and roast beef looming before us similes drawn from eating and its results occur most readily to the mind',\n",
       " 'he has grave doubts whether sir frederick leighton is work is really greek after all and can discover in it but little of rocky ithaca',\n",
       " 'linnell is pictures are a sort of up guards and at em paintings and mason is exquisite idylls are as national as a jingo poem mister birket foster is landscapes smile at one much in the same way that mister carker used to flash his teeth and mister john collier gives his sitter a cheerful slap on the back before he says like a shampooer in a turkish bath next man']"
      ]
     },
     "execution_count": 25,
     "metadata": {},
     "output_type": "execute_result"
    }
   ],
   "source": [
    "references[:5]"
   ]
  },
  {
   "cell_type": "markdown",
   "id": "eeb3ab6f-d53d-4409-8065-2258b7d56ca9",
   "metadata": {},
   "source": [
    "## Compute string edit metrics"
   ]
  },
  {
   "cell_type": "code",
   "execution_count": 27,
   "id": "d3329428-deee-480f-9dee-e8174f42d02d",
   "metadata": {},
   "outputs": [
    {
     "data": {
      "text/plain": [
       "0.11804961505560307"
      ]
     },
     "execution_count": 27,
     "metadata": {},
     "output_type": "execute_result"
    }
   ],
   "source": [
    "metric.compute(predictions=predictions, references=references)"
   ]
  },
  {
   "cell_type": "code",
   "execution_count": 28,
   "id": "53cbab69-30ed-4788-be0d-037130fef0a2",
   "metadata": {},
   "outputs": [
    {
     "data": {
      "text/plain": [
       "{'wer': 0.11804961505560307,\n",
       " 'sub': 0.08297690333618478,\n",
       " 'del': 0.013686911890504704,\n",
       " 'ins': 0.0213857998289136}"
      ]
     },
     "execution_count": 28,
     "metadata": {},
     "output_type": "execute_result"
    }
   ],
   "source": [
    "get_string_edit_metrics(predictions=predictions, references=references)"
   ]
  },
  {
   "cell_type": "code",
   "execution_count": null,
   "id": "2d8f2700-71ca-46a0-816b-2441885afd1e",
   "metadata": {},
   "outputs": [],
   "source": []
  }
 ],
 "metadata": {
  "kernelspec": {
   "display_name": "Python 3 (ipykernel)",
   "language": "python",
   "name": "python3"
  },
  "language_info": {
   "codemirror_mode": {
    "name": "ipython",
    "version": 3
   },
   "file_extension": ".py",
   "mimetype": "text/x-python",
   "name": "python",
   "nbconvert_exporter": "python",
   "pygments_lexer": "ipython3",
   "version": "3.10.11"
  }
 },
 "nbformat": 4,
 "nbformat_minor": 5
}
