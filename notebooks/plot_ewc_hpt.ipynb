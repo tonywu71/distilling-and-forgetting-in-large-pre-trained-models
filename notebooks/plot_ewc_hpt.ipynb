{
 "cells": [
  {
   "cell_type": "markdown",
   "id": "37324580-06a0-4be8-8194-70b8f85523c3",
   "metadata": {},
   "source": [
    "## Imports"
   ]
  },
  {
   "cell_type": "code",
   "execution_count": 1,
   "id": "fdb50902-acec-4fe8-9681-d944478c0e35",
   "metadata": {},
   "outputs": [],
   "source": [
    "%load_ext autoreload\n",
    "%autoreload 2"
   ]
  },
  {
   "cell_type": "code",
   "execution_count": 2,
   "id": "cba60d42-4585-4578-b142-c703099bd091",
   "metadata": {},
   "outputs": [
    {
     "name": "stdout",
     "output_type": "stream",
     "text": [
      "/Users/Tony/Other Docs/distilling-and-forgetting-in-large-pre-trained-models\n"
     ]
    }
   ],
   "source": [
    "%cd ..\n",
    "import os, sys\n",
    "sys.path.insert(0, os.path.dirname(os.path.dirname(os.path.abspath(os.getcwd()))))"
   ]
  },
  {
   "cell_type": "code",
   "execution_count": 3,
   "id": "9fadf017-1323-4fea-af8b-fea53f0eca45",
   "metadata": {},
   "outputs": [],
   "source": [
    "from pathlib import Path\n",
    "import pandas as pd"
   ]
  },
  {
   "cell_type": "code",
   "execution_count": 4,
   "id": "bad5359c-8246-4014-ba78-d357b37c5930",
   "metadata": {},
   "outputs": [],
   "source": [
    "import matplotlib.pyplot as plt\n",
    "import seaborn as sns\n",
    "\n",
    "sns.set_theme(context=\"paper\", style=\"ticks\")"
   ]
  },
  {
   "cell_type": "code",
   "execution_count": 5,
   "id": "a9d521e8-2223-4bff-81fe-12d1890a1afe",
   "metadata": {},
   "outputs": [],
   "source": [
    "dirpath = Path(\"outputs/finetune_ewc/hpt/\")\n",
    "assert dirpath.is_dir()"
   ]
  },
  {
   "cell_type": "code",
   "execution_count": 6,
   "id": "281ad267-7548-48f6-a4f1-e5599a584df5",
   "metadata": {},
   "outputs": [
    {
     "data": {
      "text/plain": [
       "[PosixPath('outputs/finetune_ewc/hpt/lambda_0.csv'),\n",
       " PosixPath('outputs/finetune_ewc/hpt/lambda_1e+0.csv'),\n",
       " PosixPath('outputs/finetune_ewc/hpt/lambda_1e+1.csv'),\n",
       " PosixPath('outputs/finetune_ewc/hpt/lambda_1e+2.csv'),\n",
       " PosixPath('outputs/finetune_ewc/hpt/lambda_1e-1.csv'),\n",
       " PosixPath('outputs/finetune_ewc/hpt/lambda_1e-2.csv'),\n",
       " PosixPath('outputs/finetune_ewc/hpt/lambda_inf.csv')]"
      ]
     },
     "execution_count": 6,
     "metadata": {},
     "output_type": "execute_result"
    }
   ],
   "source": [
    "sorted(list(dirpath.glob(\"*\")))"
   ]
  },
  {
   "cell_type": "code",
   "execution_count": 7,
   "id": "80cba221-6b92-49ee-a974-04247a3c5834",
   "metadata": {},
   "outputs": [],
   "source": [
    "list_df = [pd.read_csv(filepath).assign(lambda_ewc=filepath.stem) for filepath in dirpath.glob(\"*\")]\n",
    "df = pd.concat(list_df).reset_index(drop=True)\n",
    "df[\"lambda_ewc\"] = df[\"lambda_ewc\"].str.extract(r'lambda_(.+)').astype(float)\n",
    "df = df[df[\"lambda_ewc\"]!= 0]  # drop rows where lambda = 0"
   ]
  },
  {
   "cell_type": "code",
   "execution_count": 8,
   "id": "50b1ac03-4bf5-4da9-b36d-6f48a6fb36f1",
   "metadata": {},
   "outputs": [
    {
     "data": {
      "text/html": [
       "<div>\n",
       "<style scoped>\n",
       "    .dataframe tbody tr th:only-of-type {\n",
       "        vertical-align: middle;\n",
       "    }\n",
       "\n",
       "    .dataframe tbody tr th {\n",
       "        vertical-align: top;\n",
       "    }\n",
       "\n",
       "    .dataframe thead th {\n",
       "        text-align: right;\n",
       "    }\n",
       "</style>\n",
       "<table border=\"1\" class=\"dataframe\">\n",
       "  <thead>\n",
       "    <tr style=\"text-align: right;\">\n",
       "      <th></th>\n",
       "      <th></th>\n",
       "      <th>WER (%)</th>\n",
       "      <th>Sub (%)</th>\n",
       "      <th>Del (%)</th>\n",
       "      <th>Ins (%)</th>\n",
       "    </tr>\n",
       "    <tr>\n",
       "      <th>Dataset</th>\n",
       "      <th>lambda_ewc</th>\n",
       "      <th></th>\n",
       "      <th></th>\n",
       "      <th></th>\n",
       "      <th></th>\n",
       "    </tr>\n",
       "  </thead>\n",
       "  <tbody>\n",
       "    <tr>\n",
       "      <th rowspan=\"6\" valign=\"top\">ami</th>\n",
       "      <th>0.01</th>\n",
       "      <td>40.19</td>\n",
       "      <td>17.67</td>\n",
       "      <td>9.07</td>\n",
       "      <td>13.44</td>\n",
       "    </tr>\n",
       "    <tr>\n",
       "      <th>0.10</th>\n",
       "      <td>35.63</td>\n",
       "      <td>17.34</td>\n",
       "      <td>9.89</td>\n",
       "      <td>8.41</td>\n",
       "    </tr>\n",
       "    <tr>\n",
       "      <th>1.00</th>\n",
       "      <td>33.88</td>\n",
       "      <td>16.93</td>\n",
       "      <td>9.79</td>\n",
       "      <td>7.16</td>\n",
       "    </tr>\n",
       "    <tr>\n",
       "      <th>10.00</th>\n",
       "      <td>34.69</td>\n",
       "      <td>17.17</td>\n",
       "      <td>9.96</td>\n",
       "      <td>7.56</td>\n",
       "    </tr>\n",
       "    <tr>\n",
       "      <th>100.00</th>\n",
       "      <td>34.60</td>\n",
       "      <td>17.02</td>\n",
       "      <td>10.09</td>\n",
       "      <td>7.49</td>\n",
       "    </tr>\n",
       "    <tr>\n",
       "      <th>inf</th>\n",
       "      <td>34.67</td>\n",
       "      <td>17.12</td>\n",
       "      <td>10.04</td>\n",
       "      <td>7.51</td>\n",
       "    </tr>\n",
       "    <tr>\n",
       "      <th rowspan=\"6\" valign=\"top\">librispeech_fr</th>\n",
       "      <th>0.01</th>\n",
       "      <td>33.32</td>\n",
       "      <td>24.10</td>\n",
       "      <td>2.46</td>\n",
       "      <td>6.76</td>\n",
       "    </tr>\n",
       "    <tr>\n",
       "      <th>0.10</th>\n",
       "      <td>32.62</td>\n",
       "      <td>23.95</td>\n",
       "      <td>2.25</td>\n",
       "      <td>6.41</td>\n",
       "    </tr>\n",
       "    <tr>\n",
       "      <th>1.00</th>\n",
       "      <td>31.79</td>\n",
       "      <td>23.94</td>\n",
       "      <td>2.41</td>\n",
       "      <td>5.44</td>\n",
       "    </tr>\n",
       "    <tr>\n",
       "      <th>10.00</th>\n",
       "      <td>32.20</td>\n",
       "      <td>24.01</td>\n",
       "      <td>2.57</td>\n",
       "      <td>5.62</td>\n",
       "    </tr>\n",
       "    <tr>\n",
       "      <th>100.00</th>\n",
       "      <td>32.19</td>\n",
       "      <td>24.03</td>\n",
       "      <td>2.56</td>\n",
       "      <td>5.61</td>\n",
       "    </tr>\n",
       "    <tr>\n",
       "      <th>inf</th>\n",
       "      <td>32.75</td>\n",
       "      <td>23.99</td>\n",
       "      <td>2.56</td>\n",
       "      <td>6.20</td>\n",
       "    </tr>\n",
       "    <tr>\n",
       "      <th rowspan=\"6\" valign=\"top\">librispeech_pt</th>\n",
       "      <th>0.01</th>\n",
       "      <td>29.60</td>\n",
       "      <td>21.39</td>\n",
       "      <td>2.82</td>\n",
       "      <td>5.40</td>\n",
       "    </tr>\n",
       "    <tr>\n",
       "      <th>0.10</th>\n",
       "      <td>29.09</td>\n",
       "      <td>21.25</td>\n",
       "      <td>3.26</td>\n",
       "      <td>4.58</td>\n",
       "    </tr>\n",
       "    <tr>\n",
       "      <th>1.00</th>\n",
       "      <td>28.47</td>\n",
       "      <td>20.62</td>\n",
       "      <td>3.38</td>\n",
       "      <td>4.47</td>\n",
       "    </tr>\n",
       "    <tr>\n",
       "      <th>10.00</th>\n",
       "      <td>28.51</td>\n",
       "      <td>20.65</td>\n",
       "      <td>3.37</td>\n",
       "      <td>4.50</td>\n",
       "    </tr>\n",
       "    <tr>\n",
       "      <th>100.00</th>\n",
       "      <td>28.48</td>\n",
       "      <td>20.62</td>\n",
       "      <td>3.35</td>\n",
       "      <td>4.52</td>\n",
       "    </tr>\n",
       "    <tr>\n",
       "      <th>inf</th>\n",
       "      <td>28.51</td>\n",
       "      <td>20.66</td>\n",
       "      <td>3.37</td>\n",
       "      <td>4.49</td>\n",
       "    </tr>\n",
       "  </tbody>\n",
       "</table>\n",
       "</div>"
      ],
      "text/plain": [
       "                           WER (%)  Sub (%)  Del (%)  Ins (%)\n",
       "Dataset        lambda_ewc                                    \n",
       "ami            0.01          40.19    17.67     9.07    13.44\n",
       "               0.10          35.63    17.34     9.89     8.41\n",
       "               1.00          33.88    16.93     9.79     7.16\n",
       "               10.00         34.69    17.17     9.96     7.56\n",
       "               100.00        34.60    17.02    10.09     7.49\n",
       "               inf           34.67    17.12    10.04     7.51\n",
       "librispeech_fr 0.01          33.32    24.10     2.46     6.76\n",
       "               0.10          32.62    23.95     2.25     6.41\n",
       "               1.00          31.79    23.94     2.41     5.44\n",
       "               10.00         32.20    24.01     2.57     5.62\n",
       "               100.00        32.19    24.03     2.56     5.61\n",
       "               inf           32.75    23.99     2.56     6.20\n",
       "librispeech_pt 0.01          29.60    21.39     2.82     5.40\n",
       "               0.10          29.09    21.25     3.26     4.58\n",
       "               1.00          28.47    20.62     3.38     4.47\n",
       "               10.00         28.51    20.65     3.37     4.50\n",
       "               100.00        28.48    20.62     3.35     4.52\n",
       "               inf           28.51    20.66     3.37     4.49"
      ]
     },
     "execution_count": 8,
     "metadata": {},
     "output_type": "execute_result"
    }
   ],
   "source": [
    "df.set_index([\"Dataset\", \"lambda_ewc\"]).sort_index(level=0)"
   ]
  },
  {
   "cell_type": "code",
   "execution_count": 9,
   "id": "b3020178-c35e-4231-a931-894d4bd820fa",
   "metadata": {},
   "outputs": [
    {
     "data": {
      "image/png": "[encoded data removed]",
      "text/plain": [
       "<Figure size 1200x400 with 3 Axes>"
      ]
     },
     "metadata": {},
     "output_type": "display_data"
    }
   ],
   "source": [
    "n_cols = df[\"Dataset\"].nunique()\n",
    "fig, axis = plt.subplots(1, n_cols, figsize=(4*n_cols, 4))\n",
    "\n",
    "for dataset_name, ax in zip(df[\"Dataset\"].unique(), axis.ravel()):\n",
    "    df_curr = df.loc[df[\"Dataset\"]==dataset_name]\n",
    "    sns.barplot(data=df_curr, x=\"lambda_ewc\", y=\"WER (%)\", ax=ax)\n",
    "    if float(\"inf\") in df_curr[\"lambda_ewc\"].unique():\n",
    "        y_vanilla = df_curr.loc[df_curr[\"lambda_ewc\"] == float(\"inf\"), \"WER (%)\"].item()\n",
    "        ax.axhline(y=y_vanilla, label=f\"Vanilla fine-tuning (WER = {y_vanilla}%)\", c=\"black\", ls=\"--\")\n",
    "        ax.legend(loc=\"lower right\")\n",
    "    ax.set_title(dataset_name)\n",
    "\n",
    "fig.tight_layout()"
   ]
  },
  {
   "cell_type": "code",
   "execution_count": 10,
   "id": "b5cf2e30-2680-4b9b-aaac-2327c728417d",
   "metadata": {},
   "outputs": [
    {
     "name": "stdout",
     "output_type": "stream",
     "text": [
      "```latex\n",
      "\\begin{tabular}{llr}\n",
      "\\toprule\n",
      "               &        &  WER (\\%) \\\\\n",
      "Dataset & lambda\\_ewc &          \\\\\n",
      "\\midrule\n",
      "ami & 0.01   &    40.19 \\\\\n",
      "               & 0.10   &    35.63 \\\\\n",
      "               & 1.00   &    33.88 \\\\\n",
      "               & 10.00  &    34.69 \\\\\n",
      "               & 100.00 &    34.60 \\\\\n",
      "               & inf    &    34.67 \\\\\n",
      "librispeech\\_fr & 0.01   &    33.32 \\\\\n",
      "               & 0.10   &    32.62 \\\\\n",
      "               & 1.00   &    31.79 \\\\\n",
      "               & 10.00  &    32.20 \\\\\n",
      "               & 100.00 &    32.19 \\\\\n",
      "               & inf    &    32.75 \\\\\n",
      "librispeech\\_pt & 0.01   &    29.60 \\\\\n",
      "               & 0.10   &    29.09 \\\\\n",
      "               & 1.00   &    28.47 \\\\\n",
      "               & 10.00  &    28.51 \\\\\n",
      "               & 100.00 &    28.48 \\\\\n",
      "               & inf    &    28.51 \\\\\n",
      "\\bottomrule\n",
      "\\end{tabular}\n",
      "```\n"
     ]
    },
    {
     "name": "stderr",
     "output_type": "stream",
     "text": [
      "/var/folders/n1/btw1cwhd13s0p6vyp4j839040000gn/T/ipykernel_33917/2593639905.py:2: FutureWarning: In future versions `DataFrame.to_latex` is expected to utilise the base implementation of `Styler.to_latex` for formatting and rendering. The arguments signature may therefore change. It is recommended instead to use `DataFrame.style.to_latex` which also contains additional functionality.\n",
      "  output = ser.to_latex(float_format=\"%.2f\", escape=True)\n"
     ]
    }
   ],
   "source": [
    "ser = df.set_index([\"Dataset\", \"lambda_ewc\"]).sort_index(level=0)[\"WER (%)\"]\n",
    "output = ser.to_latex(float_format=\"%.2f\", escape=True)\n",
    "    \n",
    "print(\"```latex\")\n",
    "print(output + \"```\")"
   ]
  },
  {
   "cell_type": "code",
   "execution_count": null,
   "id": "290d74b0-47c0-4873-b90a-32ff5e4cc430",
   "metadata": {},
   "outputs": [],
   "source": []
  }
 ],
 "metadata": {
  "kernelspec": {
   "display_name": "Python 3 (ipykernel)",
   "language": "python",
   "name": "python3"
  },
  "language_info": {
   "codemirror_mode": {
    "name": "ipython",
    "version": 3
   },
   "file_extension": ".py",
   "mimetype": "text/x-python",
   "name": "python",
   "nbconvert_exporter": "python",
   "pygments_lexer": "ipython3",
   "version": "3.10.11"
  }
 },
 "nbformat": 4,
 "nbformat_minor": 5
}
