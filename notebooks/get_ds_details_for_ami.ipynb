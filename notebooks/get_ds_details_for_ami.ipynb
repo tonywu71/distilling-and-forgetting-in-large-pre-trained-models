{
 "cells": [
  {
   "cell_type": "markdown",
   "id": "ba748ac2-2c19-4466-b058-8a438756a76f",
   "metadata": {},
   "source": [
    "## Imports"
   ]
  },
  {
   "cell_type": "code",
   "execution_count": 6,
   "id": "96313661-d877-407c-b6a6-2515a5ff5a24",
   "metadata": {},
   "outputs": [],
   "source": [
    "%load_ext autoreload\n",
    "%autoreload 2"
   ]
  },
  {
   "cell_type": "code",
   "execution_count": 7,
   "id": "257921a7-1104-4ddf-9ecf-aabb5a5a3407",
   "metadata": {},
   "outputs": [
    {
     "name": "stdout",
     "output_type": "stream",
     "text": [
      "/Users/Tony/Other Docs/distilling-and-forgetting-in-large-pre-trained-models\n"
     ]
    }
   ],
   "source": [
    "%cd ..\n",
    "import os, sys\n",
    "sys.path.insert(0, os.path.dirname(os.path.dirname(os.path.abspath(os.getcwd()))))"
   ]
  },
  {
   "cell_type": "code",
   "execution_count": 38,
   "id": "8e13ec3a-57d1-411e-9426-28d1254b16e9",
   "metadata": {},
   "outputs": [],
   "source": [
    "from functools import partial\n",
    "\n",
    "from transformers.models.whisper import (WhisperTokenizer,\n",
    "                                         WhisperTokenizerFast,\n",
    "                                         WhisperFeatureExtractor,\n",
    "                                         WhisperForConditionalGeneration)\n",
    "\n",
    "from dataloader.dataset_for_training.dataset_loader_ami import load_ami_100h\n",
    "from dataloader.preprocessing_train.preprocessing import prepare_dataset_fct\n",
    "from evaluation.eval_dataset_name_to_dataset_group import EVAL_DATASET_NAME_TO_DATASET_GROUP\n",
    "from utils.whisper_hallucinations.get_features import get_audio_length_in_seconds\n",
    "\n",
    "if torch.cuda.is_available():\n",
    "    device = \"cuda:0\"\n",
    "elif torch.backends.mps.is_available():  # for Apple Silicon\n",
    "    device = torch.device(\"mps\")\n",
    "else:\n",
    "    device = \"cpu\""
   ]
  },
  {
   "cell_type": "markdown",
   "id": "c348f4fd-88fb-42e9-807e-c751dc0feb39",
   "metadata": {},
   "source": [
    "## Load the model"
   ]
  },
  {
   "cell_type": "code",
   "execution_count": 22,
   "id": "8a0d9dc2-b486-4c44-94b3-f8ab383fd82d",
   "metadata": {},
   "outputs": [],
   "source": [
    "pretrained_model_name_or_path = \"openai/whisper-tiny\"\n",
    "\n",
    "model = WhisperForConditionalGeneration.from_pretrained(pretrained_model_name_or_path)\n",
    "feature_extractor = WhisperFeatureExtractor.from_pretrained(pretrained_model_name_or_path)\n",
    "tokenizer = WhisperTokenizerFast.from_pretrained(pretrained_model_name_or_path, language=\"english\", task=\"transcribe\")\n",
    "\n",
    "model.generate = partial(model.generate, task=\"transcribe\", max_length=255, use_cache=True)"
   ]
  },
  {
   "cell_type": "markdown",
   "id": "da203d8c-dd9f-4ca2-afc1-f16c93ca0f75",
   "metadata": {},
   "source": [
    "## Load test dataset"
   ]
  },
  {
   "cell_type": "code",
   "execution_count": 32,
   "id": "1bd7fb80-cd14-4e9e-b533-dd02a7ea9c83",
   "metadata": {},
   "outputs": [
    {
     "name": "stdout",
     "output_type": "stream",
     "text": [
      "WARNING: `CACHE_DIR_AMI` environment variable not set. Using default cache directory.\n"
     ]
    },
    {
     "name": "stderr",
     "output_type": "stream",
     "text": [
      "Found cached dataset ami (/Users/Tony/.cache/huggingface/datasets/edinburghcstr___ami/ihm/0.0.0/0d128d0aa8145d0f16f3d5b4da86c5d5759dbe9e8f947fda04b25edb56442bd5)\n"
     ]
    }
   ],
   "source": [
    "dataset_name = \"ami\"\n",
    "\n",
    "ds_test = EVAL_DATASET_NAME_TO_DATASET_GROUP[dataset_name]()[dataset_name]\n",
    "\n",
    "# if dataset_name == \"ami\":\n",
    "#     ds = ds.select(list(range(32)))"
   ]
  },
  {
   "cell_type": "code",
   "execution_count": 33,
   "id": "40a16d72-acfd-407a-a836-d26cfd3da296",
   "metadata": {},
   "outputs": [
    {
     "data": {
      "application/vnd.jupyter.widget-view+json": {
       "model_id": "",
       "version_major": 2,
       "version_minor": 0
      },
      "text/plain": [
       "Map:   0%|          | 0/12643 [00:00<?, ? examples/s]"
      ]
     },
     "metadata": {},
     "output_type": "display_data"
    }
   ],
   "source": [
    "prepare_dataset = partial(prepare_dataset_fct, tokenizer=tokenizer, feature_extractor=feature_extractor)\n",
    "ds_test = ds_test.map(prepare_dataset, num_proc=1).with_format(\"pt\")"
   ]
  },
  {
   "cell_type": "code",
   "execution_count": 34,
   "id": "9a894af7-776e-47c9-a16c-388789675afd",
   "metadata": {},
   "outputs": [
    {
     "data": {
      "application/vnd.jupyter.widget-view+json": {
       "model_id": "",
       "version_major": 2,
       "version_minor": 0
      },
      "text/plain": [
       "Map:   0%|          | 0/12643 [00:00<?, ? examples/s]"
      ]
     },
     "metadata": {},
     "output_type": "display_data"
    }
   ],
   "source": [
    "ds_test = ds_test.map(get_audio_length_in_seconds, num_proc=1)"
   ]
  },
  {
   "cell_type": "code",
   "execution_count": 37,
   "id": "e50be68f-ffb3-419f-8818-e3d9e3f25d7e",
   "metadata": {},
   "outputs": [
    {
     "data": {
      "text/plain": [
       "tensor(8.6815)"
      ]
     },
     "execution_count": 37,
     "metadata": {},
     "output_type": "execute_result"
    }
   ],
   "source": [
    "ds_test[\"audio_length\"].sum() / 3600"
   ]
  },
  {
   "cell_type": "code",
   "execution_count": 36,
   "id": "0b0dd825-2694-40a2-ad2d-3bdfab0ae33a",
   "metadata": {},
   "outputs": [
    {
     "data": {
      "text/plain": [
       "12643"
      ]
     },
     "execution_count": 36,
     "metadata": {},
     "output_type": "execute_result"
    }
   ],
   "source": [
    "ds_test.num_rows"
   ]
  },
  {
   "cell_type": "markdown",
   "id": "3d52dad4-ef80-4bbf-b3a7-d7cdf9dafb41",
   "metadata": {},
   "source": [
    "## Load validation dataset"
   ]
  },
  {
   "cell_type": "code",
   "execution_count": 41,
   "id": "0772516d-c6e2-4db0-8b02-6b44f5a9072a",
   "metadata": {},
   "outputs": [
    {
     "name": "stdout",
     "output_type": "stream",
     "text": [
      "WARNING: `CACHE_DIR_AMI` environment variable not set. Using default cache directory.\n"
     ]
    },
    {
     "name": "stderr",
     "output_type": "stream",
     "text": [
      "Found cached dataset ami (/Users/Tony/.cache/huggingface/datasets/edinburghcstr___ami/ihm/0.0.0/0d128d0aa8145d0f16f3d5b4da86c5d5759dbe9e8f947fda04b25edb56442bd5)\n",
      "Found cached dataset ami (/Users/Tony/.cache/huggingface/datasets/edinburghcstr___ami/ihm/0.0.0/0d128d0aa8145d0f16f3d5b4da86c5d5759dbe9e8f947fda04b25edb56442bd5)\n"
     ]
    }
   ],
   "source": [
    "ds_val = load_ami_100h()[\"validation\"]"
   ]
  },
  {
   "cell_type": "code",
   "execution_count": 42,
   "id": "12de3a4e-f2f1-418a-8812-0da786065028",
   "metadata": {},
   "outputs": [
    {
     "data": {
      "application/vnd.jupyter.widget-view+json": {
       "model_id": "",
       "version_major": 2,
       "version_minor": 0
      },
      "text/plain": [
       "Map:   0%|          | 0/12643 [00:00<?, ? examples/s]"
      ]
     },
     "metadata": {},
     "output_type": "display_data"
    }
   ],
   "source": [
    "prepare_dataset = partial(prepare_dataset_fct, tokenizer=tokenizer, feature_extractor=feature_extractor)\n",
    "ds_val = ds.map(prepare_dataset, num_proc=1).with_format(\"pt\")"
   ]
  },
  {
   "cell_type": "code",
   "execution_count": 43,
   "id": "a0cbe1fa-f5aa-455b-8f5d-e4da6a1cc101",
   "metadata": {},
   "outputs": [
    {
     "data": {
      "application/vnd.jupyter.widget-view+json": {
       "model_id": "",
       "version_major": 2,
       "version_minor": 0
      },
      "text/plain": [
       "Map:   0%|          | 0/12643 [00:00<?, ? examples/s]"
      ]
     },
     "metadata": {},
     "output_type": "display_data"
    }
   ],
   "source": [
    "ds_val = ds_val.map(get_audio_length_in_seconds, num_proc=1)"
   ]
  },
  {
   "cell_type": "code",
   "execution_count": 44,
   "id": "0e39434f-4b68-473f-b70b-69b0e8fc156f",
   "metadata": {},
   "outputs": [
    {
     "data": {
      "text/plain": [
       "tensor(8.6815)"
      ]
     },
     "execution_count": 44,
     "metadata": {},
     "output_type": "execute_result"
    }
   ],
   "source": [
    "ds_val[\"audio_length\"].sum() / 3600"
   ]
  },
  {
   "cell_type": "code",
   "execution_count": 45,
   "id": "7ea80e12-48da-4070-a7b7-43d67b447246",
   "metadata": {},
   "outputs": [
    {
     "data": {
      "text/plain": [
       "12643"
      ]
     },
     "execution_count": 45,
     "metadata": {},
     "output_type": "execute_result"
    }
   ],
   "source": [
    "ds_val.num_rows"
   ]
  },
  {
   "cell_type": "code",
   "execution_count": null,
   "id": "8f974e8c-f478-4f03-9c49-1136c23ce5c8",
   "metadata": {},
   "outputs": [],
   "source": []
  }
 ],
 "metadata": {
  "kernelspec": {
   "display_name": "Python 3 (ipykernel)",
   "language": "python",
   "name": "python3"
  },
  "language_info": {
   "codemirror_mode": {
    "name": "ipython",
    "version": 3
   },
   "file_extension": ".py",
   "mimetype": "text/x-python",
   "name": "python",
   "nbconvert_exporter": "python",
   "pygments_lexer": "ipython3",
   "version": "3.10.11"
  }
 },
 "nbformat": 4,
 "nbformat_minor": 5
}
