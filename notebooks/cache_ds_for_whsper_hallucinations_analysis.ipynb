{
 "cells": [
  {
   "cell_type": "markdown",
   "id": "37324580-06a0-4be8-8194-70b8f85523c3",
   "metadata": {},
   "source": [
    "## Imports"
   ]
  },
  {
   "cell_type": "code",
   "execution_count": 1,
   "id": "fdb50902-acec-4fe8-9681-d944478c0e35",
   "metadata": {},
   "outputs": [],
   "source": [
    "%load_ext autoreload\n",
    "%autoreload 2"
   ]
  },
  {
   "cell_type": "code",
   "execution_count": 2,
   "id": "cba60d42-4585-4578-b142-c703099bd091",
   "metadata": {},
   "outputs": [
    {
     "name": "stdout",
     "output_type": "stream",
     "text": [
      "/Users/Tony/Other Docs/distilling-and-forgetting-in-large-pre-trained-models\n"
     ]
    }
   ],
   "source": [
    "%cd ..\n",
    "import os, sys\n",
    "sys.path.insert(0, os.path.dirname(os.path.dirname(os.path.abspath(os.getcwd()))))"
   ]
  },
  {
   "cell_type": "code",
   "execution_count": 3,
   "id": "b422c568-7362-4361-8052-1b78696a1b6a",
   "metadata": {},
   "outputs": [],
   "source": [
    "from pathlib import Path\n",
    "\n",
    "import numpy as np\n",
    "import pandas as pd\n",
    "from transformers.models.whisper import WhisperTokenizerFast\n",
    "\n",
    "import matplotlib.pyplot as plt\n",
    "import seaborn as sns\n",
    "\n",
    "from evaluation.eval_dataset_name_to_dataset_group import EVAL_DATASET_NAME_TO_DATASET_GROUP\n",
    "from evaluation.string_edit_metrics import get_string_edit_metrics_ortho_and_norm\n",
    "from normalization.whisper_normalization import get_whisper_normalizer\n",
    "from utils.file_io import load_json\n",
    "from utils.whisper_hallucinations.dataloader import load_dataset\n",
    "from utils.whisper_hallucinations.get_features import add_features_to_ds\n",
    "\n",
    "sns.set_theme(context=\"paper\", style=\"ticks\")"
   ]
  },
  {
   "cell_type": "markdown",
   "id": "c9f2d97d-819a-4d1b-acab-3a1f834b2813",
   "metadata": {},
   "source": [
    "## Load tokenizer"
   ]
  },
  {
   "cell_type": "code",
   "execution_count": 4,
   "id": "0221c5c8-c0e7-4ef2-928a-b03882eb6e6d",
   "metadata": {},
   "outputs": [],
   "source": [
    "pretrained_model_name_or_path = \"openai/whisper-tiny\"\n",
    "tokenizer = WhisperTokenizerFast.from_pretrained(pretrained_model_name_or_path, language=\"english\", task=\"transcribe\")"
   ]
  },
  {
   "cell_type": "markdown",
   "id": "f482c627-cd0a-41ba-8e61-96bb22b02956",
   "metadata": {},
   "source": [
    "## Load dataset"
   ]
  },
  {
   "cell_type": "code",
   "execution_count": 5,
   "id": "d2bcf1c7-5715-4c7e-8537-4dd0c06233e5",
   "metadata": {},
   "outputs": [
    {
     "name": "stdout",
     "output_type": "stream",
     "text": [
      "WARNING: `CACHE_DIR_AMI` environment variable not set. Using default cache directory.\n"
     ]
    },
    {
     "name": "stderr",
     "output_type": "stream",
     "text": [
      "Found cached dataset ami (/Users/Tony/.cache/huggingface/datasets/edinburghcstr___ami/ihm/0.0.0/0d128d0aa8145d0f16f3d5b4da86c5d5759dbe9e8f947fda04b25edb56442bd5)\n",
      "Loading cached processed dataset at /Users/Tony/.cache/huggingface/datasets/edinburghcstr___ami/ihm/0.0.0/0d128d0aa8145d0f16f3d5b4da86c5d5759dbe9e8f947fda04b25edb56442bd5/cache-76a34bc037fa70e6.arrow\n",
      "Loading cached processed dataset at /Users/Tony/.cache/huggingface/datasets/edinburghcstr___ami/ihm/0.0.0/0d128d0aa8145d0f16f3d5b4da86c5d5759dbe9e8f947fda04b25edb56442bd5/cache-8c6e325cf1e5403b.arrow\n"
     ]
    }
   ],
   "source": [
    "dataset_name = \"ami_validation\"\n",
    "\n",
    "ds = load_dataset(dataset_name)"
   ]
  },
  {
   "cell_type": "markdown",
   "id": "4bced2b5-d108-4a47-b18e-a7f67b9eaa4a",
   "metadata": {},
   "source": [
    "## Load predictions"
   ]
  },
  {
   "cell_type": "code",
   "execution_count": 6,
   "id": "3a66c634-7cb1-4503-9fcb-b034fded8fd2",
   "metadata": {},
   "outputs": [
    {
     "name": "stdout",
     "output_type": "stream",
     "text": [
      "Loaded cached predictions from `notebooks/data/whisper_preds/with_ts/ami_validation.json`.\n"
     ]
    }
   ],
   "source": [
    "cache_preds_filepath = \"notebooks/data/whisper_preds/with_ts/ami_validation.json\"\n",
    "assert Path(cache_preds_filepath).is_file(), \"`cache_preds_filepath` is incorrect.\"\n",
    "\n",
    "data = load_json(cache_preds_filepath)\n",
    "results = data[\"predictions\"]\n",
    "references = data[\"references\"]\n",
    "print(f\"Loaded cached predictions from `{cache_preds_filepath}`.\")\n",
    "\n",
    "predictions = [x[\"text\"] for x in results]\n",
    "# NOTE: When alpha_ce = 0, we shouldn't lowercase the teacher predictions because the goal of 1-best KD is for\n",
    "#       the student to learn to predict the raw teacher's predictions (without any normalization)."
   ]
  },
  {
   "cell_type": "markdown",
   "id": "4daeb3b8-3030-44f0-9011-8012dbecccb5",
   "metadata": {},
   "source": [
    "## Get string edit metrics"
   ]
  },
  {
   "cell_type": "code",
   "execution_count": 7,
   "id": "b3f2eca4-9412-48a2-82c0-bc607b72b0ee",
   "metadata": {},
   "outputs": [
    {
     "data": {
      "text/plain": [
       "{'WER ortho (%)': 46.33450233273304,\n",
       " 'Sub ortho (%)': 31.775720619674996,\n",
       " 'Del ortho (%)': 11.933272250481817,\n",
       " 'Ins ortho (%)': 2.625509462576222,\n",
       " 'WER (%)': 18.36682750941195,\n",
       " 'Sub (%)': 6.105307810594411,\n",
       " 'Del (%)': 8.533856514131184,\n",
       " 'Ins (%)': 3.727663184686357}"
      ]
     },
     "execution_count": 7,
     "metadata": {},
     "output_type": "execute_result"
    }
   ],
   "source": [
    "get_string_edit_metrics_ortho_and_norm(references, predictions, norm_fn=get_whisper_normalizer(\"english\"))"
   ]
  },
  {
   "cell_type": "markdown",
   "id": "909ca88d-ca7e-47e7-ac60-58d6bde9e95f",
   "metadata": {},
   "source": [
    "## Add predictions to dataset"
   ]
  },
  {
   "cell_type": "code",
   "execution_count": 8,
   "id": "449ae781-cdb0-419b-a2ef-cba250f7bfda",
   "metadata": {},
   "outputs": [
    {
     "name": "stderr",
     "output_type": "stream",
     "text": [
      "Loading cached processed dataset at /Users/Tony/.cache/huggingface/datasets/edinburghcstr___ami/ihm/0.0.0/0d128d0aa8145d0f16f3d5b4da86c5d5759dbe9e8f947fda04b25edb56442bd5/cache-8a9aeff0daa6368c.arrow\n"
     ]
    }
   ],
   "source": [
    "# Tokenize labels:\n",
    "ds = ds.map(lambda batch: {\"labels\": tokenizer(batch[\"text\"]).input_ids}, batched=True)"
   ]
  },
  {
   "cell_type": "code",
   "execution_count": 9,
   "id": "59b6ad65-fc29-45c6-b8ad-d4be2e2ad7b0",
   "metadata": {},
   "outputs": [
    {
     "data": {
      "application/vnd.jupyter.widget-view+json": {
       "model_id": "",
       "version_major": 2,
       "version_minor": 0
      },
      "text/plain": [
       "Map:   0%|          | 0/13098 [00:00<?, ? examples/s]"
      ]
     },
     "metadata": {},
     "output_type": "display_data"
    },
    {
     "data": {
      "application/vnd.jupyter.widget-view+json": {
       "model_id": "",
       "version_major": 2,
       "version_minor": 0
      },
      "text/plain": [
       "Map:   0%|          | 0/13098 [00:00<?, ? examples/s]"
      ]
     },
     "metadata": {},
     "output_type": "display_data"
    },
    {
     "data": {
      "application/vnd.jupyter.widget-view+json": {
       "model_id": "",
       "version_major": 2,
       "version_minor": 0
      },
      "text/plain": [
       "Map:   0%|          | 0/13098 [00:00<?, ? examples/s]"
      ]
     },
     "metadata": {},
     "output_type": "display_data"
    },
    {
     "data": {
      "application/vnd.jupyter.widget-view+json": {
       "model_id": "",
       "version_major": 2,
       "version_minor": 0
      },
      "text/plain": [
       "Map:   0%|          | 0/13098 [00:00<?, ? examples/s]"
      ]
     },
     "metadata": {},
     "output_type": "display_data"
    },
    {
     "data": {
      "application/vnd.jupyter.widget-view+json": {
       "model_id": "",
       "version_major": 2,
       "version_minor": 0
      },
      "text/plain": [
       "Map:   0%|          | 0/13098 [00:00<?, ? examples/s]"
      ]
     },
     "metadata": {},
     "output_type": "display_data"
    },
    {
     "data": {
      "application/vnd.jupyter.widget-view+json": {
       "model_id": "",
       "version_major": 2,
       "version_minor": 0
      },
      "text/plain": [
       "Map:   0%|          | 0/13098 [00:00<?, ? examples/s]"
      ]
     },
     "metadata": {},
     "output_type": "display_data"
    },
    {
     "data": {
      "text/plain": [
       "{'text': Value(dtype='string', id=None),\n",
       " 'audio': Audio(sampling_rate=16000, mono=True, decode=True, id=None),\n",
       " 'labels': Sequence(feature=Value(dtype='int64', id=None), length=-1, id=None),\n",
       " 'teacher_text': Value(dtype='string', id=None),\n",
       " 'teacher_labels': Sequence(feature=Value(dtype='int64', id=None), length=-1, id=None),\n",
       " 'audio_length': Value(dtype='float64', id=None),\n",
       " 'n_tokens_labels': Value(dtype='int64', id=None),\n",
       " 'n_tokens_teacher': Value(dtype='int64', id=None),\n",
       " 'diff_n_tokens': Value(dtype='int64', id=None),\n",
       " 'gzip_ratio': Value(dtype='float64', id=None),\n",
       " 'teacher_gzip_ratio': Value(dtype='float64', id=None),\n",
       " 'diff_gzip_ratio': Value(dtype='float64', id=None),\n",
       " 'n_overlaps': Value(dtype='int64', id=None)}"
      ]
     },
     "execution_count": 9,
     "metadata": {},
     "output_type": "execute_result"
    }
   ],
   "source": [
    "ds = add_features_to_ds(ds, results, tokenizer=tokenizer, lowercase_teacher=False)\n",
    "\n",
    "ds.features"
   ]
  },
  {
   "cell_type": "code",
   "execution_count": 10,
   "id": "a09473d6-c17b-4416-80b5-9fb8f54fd1bd",
   "metadata": {},
   "outputs": [
    {
     "data": {
      "text/plain": [
       "{'text': \"but like mobile phones have screens and they're cheap\",\n",
       " 'audio': {'path': None,\n",
       "  'array': array([-1.22070312e-04, -9.15527344e-05, -9.15527344e-05, ...,\n",
       "          1.52587891e-04,  3.05175781e-05,  1.83105469e-04]),\n",
       "  'sampling_rate': 16000},\n",
       " 'labels': [50258,\n",
       "  50363,\n",
       "  5955,\n",
       "  411,\n",
       "  6013,\n",
       "  10216,\n",
       "  362,\n",
       "  11171,\n",
       "  293,\n",
       "  220,\n",
       "  13162,\n",
       "  434,\n",
       "  7084,\n",
       "  50257],\n",
       " 'teacher_text': \" But like mobile phones have screens and they're cheap.\",\n",
       " 'teacher_labels': [50258,\n",
       "  50363,\n",
       "  583,\n",
       "  411,\n",
       "  6013,\n",
       "  10216,\n",
       "  362,\n",
       "  11171,\n",
       "  293,\n",
       "  220,\n",
       "  13162,\n",
       "  434,\n",
       "  7084,\n",
       "  13,\n",
       "  50257],\n",
       " 'audio_length': 2.68,\n",
       " 'n_tokens_labels': 14,\n",
       " 'n_tokens_teacher': 15,\n",
       " 'diff_n_tokens': 1,\n",
       " 'gzip_ratio': 0.7571428571428571,\n",
       " 'teacher_gzip_ratio': 0.7432432432432432,\n",
       " 'diff_gzip_ratio': -0.013899613899613916,\n",
       " 'n_overlaps': 0}"
      ]
     },
     "execution_count": 10,
     "metadata": {},
     "output_type": "execute_result"
    }
   ],
   "source": [
    "ds[0]"
   ]
  },
  {
   "cell_type": "code",
   "execution_count": 11,
   "id": "bb9443e1-ebdb-4eb7-ac5c-9133f21ce540",
   "metadata": {},
   "outputs": [
    {
     "data": {
      "application/vnd.jupyter.widget-view+json": {
       "model_id": "",
       "version_major": 2,
       "version_minor": 0
      },
      "text/plain": [
       "Saving the dataset (0/3 shards):   0%|          | 0/13098 [00:00<?, ? examples/s]"
      ]
     },
     "metadata": {},
     "output_type": "display_data"
    },
    {
     "name": "stdout",
     "output_type": "stream",
     "text": [
      "Cached dataset at `notebooks/data/whisper_hallucinations_cached_ds/ami_validation`\n"
     ]
    }
   ],
   "source": [
    "savepath = f\"notebooks/data/whisper_hallucinations_cached_ds/{dataset_name}\"\n",
    "Path(savepath).parent.mkdir(parents=True, exist_ok=True)\n",
    "ds.save_to_disk(savepath)\n",
    "\n",
    "print(f\"Cached dataset at `{savepath}`\")"
   ]
  },
  {
   "cell_type": "code",
   "execution_count": null,
   "id": "75b06d45-ab72-4a5a-8be6-bf31692ff567",
   "metadata": {},
   "outputs": [],
   "source": []
  }
 ],
 "metadata": {
  "kernelspec": {
   "display_name": "Python 3 (ipykernel)",
   "language": "python",
   "name": "python3"
  },
  "language_info": {
   "codemirror_mode": {
    "name": "ipython",
    "version": 3
   },
   "file_extension": ".py",
   "mimetype": "text/x-python",
   "name": "python",
   "nbconvert_exporter": "python",
   "pygments_lexer": "ipython3",
   "version": "3.10.11"
  }
 },
 "nbformat": 4,
 "nbformat_minor": 5
}
