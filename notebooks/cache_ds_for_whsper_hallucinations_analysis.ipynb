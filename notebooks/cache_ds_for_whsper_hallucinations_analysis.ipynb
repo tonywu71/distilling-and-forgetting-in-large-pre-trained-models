{
 "cells": [
  {
   "cell_type": "markdown",
   "id": "37324580-06a0-4be8-8194-70b8f85523c3",
   "metadata": {},
   "source": [
    "## Imports"
   ]
  },
  {
   "cell_type": "code",
   "execution_count": 1,
   "id": "fdb50902-acec-4fe8-9681-d944478c0e35",
   "metadata": {},
   "outputs": [],
   "source": [
    "%load_ext autoreload\n",
    "%autoreload 2"
   ]
  },
  {
   "cell_type": "code",
   "execution_count": 2,
   "id": "cba60d42-4585-4578-b142-c703099bd091",
   "metadata": {},
   "outputs": [
    {
     "name": "stdout",
     "output_type": "stream",
     "text": [
      "/Users/Tony/Other Docs/distilling-and-forgetting-in-large-pre-trained-models\n"
     ]
    }
   ],
   "source": [
    "%cd ..\n",
    "import os, sys\n",
    "sys.path.insert(0, os.path.dirname(os.path.dirname(os.path.abspath(os.getcwd()))))"
   ]
  },
  {
   "cell_type": "code",
   "execution_count": 4,
   "id": "b422c568-7362-4361-8052-1b78696a1b6a",
   "metadata": {},
   "outputs": [],
   "source": [
    "from pathlib import Path\n",
    "\n",
    "import numpy as np\n",
    "import pandas as pd\n",
    "from transformers.models.whisper import WhisperTokenizerFast\n",
    "\n",
    "import matplotlib.pyplot as plt\n",
    "import seaborn as sns\n",
    "\n",
    "from evaluation.eval_dataset_name_to_dataset_group import EVAL_DATASET_NAME_TO_DATASET_GROUP\n",
    "from evaluation.string_edit_metrics import get_string_edit_metrics\n",
    "from utils.file_io import load_json\n",
    "\n",
    "sns.set_theme(context=\"paper\", style=\"ticks\")"
   ]
  },
  {
   "cell_type": "markdown",
   "id": "c9f2d97d-819a-4d1b-acab-3a1f834b2813",
   "metadata": {},
   "source": [
    "## Load tokenizer"
   ]
  },
  {
   "cell_type": "code",
   "execution_count": 5,
   "id": "0221c5c8-c0e7-4ef2-928a-b03882eb6e6d",
   "metadata": {},
   "outputs": [],
   "source": [
    "pretrained_model_name_or_path = \"openai/whisper-tiny\"\n",
    "tokenizer = WhisperTokenizerFast.from_pretrained(pretrained_model_name_or_path, language=\"english\", task=\"transcribe\")"
   ]
  },
  {
   "cell_type": "markdown",
   "id": "f482c627-cd0a-41ba-8e61-96bb22b02956",
   "metadata": {},
   "source": [
    "## Load dataset"
   ]
  },
  {
   "cell_type": "code",
   "execution_count": 6,
   "id": "d2bcf1c7-5715-4c7e-8537-4dd0c06233e5",
   "metadata": {},
   "outputs": [
    {
     "name": "stdout",
     "output_type": "stream",
     "text": [
      "WARNING: `CACHE_DIR_AMI` environment variable not set. Using default cache directory.\n"
     ]
    },
    {
     "name": "stderr",
     "output_type": "stream",
     "text": [
      "Found cached dataset ami (/Users/Tony/.cache/huggingface/datasets/edinburghcstr___ami/ihm/0.0.0/0d128d0aa8145d0f16f3d5b4da86c5d5759dbe9e8f947fda04b25edb56442bd5)\n",
      "Loading cached processed dataset at /Users/Tony/.cache/huggingface/datasets/edinburghcstr___ami/ihm/0.0.0/0d128d0aa8145d0f16f3d5b4da86c5d5759dbe9e8f947fda04b25edb56442bd5/cache-818d7a4553237f1c.arrow\n"
     ]
    }
   ],
   "source": [
    "dataset_name = \"ami\"\n",
    "\n",
    "ds_group = EVAL_DATASET_NAME_TO_DATASET_GROUP[dataset_name]()\n",
    "\n",
    "if dataset_name == \"librispeech_dummy\":\n",
    "    ds = ds_group.str2dataset[\"librispeech_dummy\"]\n",
    "    ds = ds.map(lambda x: {\"text\": x.lower()}, input_columns=[\"text\"])\n",
    "elif dataset_name in [\"ami\", \"ami_10h\"]:\n",
    "    ds = ds_group.str2dataset[\"ami\"]\n",
    "    ds = ds.map(lambda x: {\"text\": x.lower()}, input_columns=[\"text\"])\n",
    "else:\n",
    "    raise ValueError()"
   ]
  },
  {
   "cell_type": "markdown",
   "id": "4bced2b5-d108-4a47-b18e-a7f67b9eaa4a",
   "metadata": {},
   "source": [
    "## Load predictions"
   ]
  },
  {
   "cell_type": "code",
   "execution_count": 8,
   "id": "f7da9cbc-d0c5-4c8c-85f4-3040247937fe",
   "metadata": {},
   "outputs": [
    {
     "name": "stdout",
     "output_type": "stream",
     "text": [
      "Loaded cached predictions from `notebooks/data/whisper_preds/with_ts/ami_test-medium.json`.\n"
     ]
    }
   ],
   "source": [
    "cache_preds_filepath = \"notebooks/data/whisper_preds/with_ts/ami_test-medium.json\"\n",
    "assert Path(cache_preds_filepath).is_file()\n",
    "\n",
    "data = load_json(cache_preds_filepath)\n",
    "results = data[\"predictions\"]\n",
    "references = data[\"references\"]\n",
    "print(f\"Loaded cached predictions from `{cache_preds_filepath}`.\")\n",
    "\n",
    "predictions = [x[\"text\"].lower() for x in results]"
   ]
  },
  {
   "cell_type": "code",
   "execution_count": 9,
   "id": "b3f2eca4-9412-48a2-82c0-bc607b72b0ee",
   "metadata": {},
   "outputs": [
    {
     "data": {
      "text/plain": [
       "wer    39.098432\n",
       "sub    24.473044\n",
       "del    11.270716\n",
       "ins     3.354672\n",
       "dtype: float64"
      ]
     },
     "execution_count": 9,
     "metadata": {},
     "output_type": "execute_result"
    }
   ],
   "source": [
    "string_edit_metrics = 100 * pd.Series(get_string_edit_metrics(references=references, predictions=predictions))\n",
    "\n",
    "string_edit_metrics"
   ]
  },
  {
   "cell_type": "markdown",
   "id": "909ca88d-ca7e-47e7-ac60-58d6bde9e95f",
   "metadata": {},
   "source": [
    "## Add predictions to dataset"
   ]
  },
  {
   "cell_type": "code",
   "execution_count": 10,
   "id": "449ae781-cdb0-419b-a2ef-cba250f7bfda",
   "metadata": {},
   "outputs": [
    {
     "name": "stderr",
     "output_type": "stream",
     "text": [
      "Loading cached processed dataset at /Users/Tony/.cache/huggingface/datasets/edinburghcstr___ami/ihm/0.0.0/0d128d0aa8145d0f16f3d5b4da86c5d5759dbe9e8f947fda04b25edb56442bd5/cache-f3a2015a802ea41f.arrow\n"
     ]
    }
   ],
   "source": [
    "# Tokenize labels:\n",
    "ds = ds.map(lambda batch: {\"labels\": tokenizer(batch[\"text\"]).input_ids}, batched=True)"
   ]
  },
  {
   "cell_type": "code",
   "execution_count": 11,
   "id": "59b6ad65-fc29-45c6-b8ad-d4be2e2ad7b0",
   "metadata": {},
   "outputs": [
    {
     "data": {
      "application/vnd.jupyter.widget-view+json": {
       "model_id": "",
       "version_major": 2,
       "version_minor": 0
      },
      "text/plain": [
       "Map:   0%|          | 0/12643 [00:00<?, ? examples/s]"
      ]
     },
     "metadata": {},
     "output_type": "display_data"
    },
    {
     "data": {
      "application/vnd.jupyter.widget-view+json": {
       "model_id": "",
       "version_major": 2,
       "version_minor": 0
      },
      "text/plain": [
       "Map:   0%|          | 0/12643 [00:00<?, ? examples/s]"
      ]
     },
     "metadata": {},
     "output_type": "display_data"
    },
    {
     "data": {
      "application/vnd.jupyter.widget-view+json": {
       "model_id": "",
       "version_major": 2,
       "version_minor": 0
      },
      "text/plain": [
       "Map:   0%|          | 0/12643 [00:00<?, ? examples/s]"
      ]
     },
     "metadata": {},
     "output_type": "display_data"
    },
    {
     "data": {
      "application/vnd.jupyter.widget-view+json": {
       "model_id": "",
       "version_major": 2,
       "version_minor": 0
      },
      "text/plain": [
       "Map:   0%|          | 0/12643 [00:00<?, ? examples/s]"
      ]
     },
     "metadata": {},
     "output_type": "display_data"
    },
    {
     "data": {
      "application/vnd.jupyter.widget-view+json": {
       "model_id": "",
       "version_major": 2,
       "version_minor": 0
      },
      "text/plain": [
       "Map:   0%|          | 0/12643 [00:00<?, ? examples/s]"
      ]
     },
     "metadata": {},
     "output_type": "display_data"
    },
    {
     "data": {
      "application/vnd.jupyter.widget-view+json": {
       "model_id": "",
       "version_major": 2,
       "version_minor": 0
      },
      "text/plain": [
       "Map:   0%|          | 0/12643 [00:00<?, ? examples/s]"
      ]
     },
     "metadata": {},
     "output_type": "display_data"
    },
    {
     "data": {
      "text/plain": [
       "{'text': Value(dtype='string', id=None),\n",
       " 'audio': Audio(sampling_rate=16000, mono=True, decode=True, id=None),\n",
       " 'labels': Sequence(feature=Value(dtype='int64', id=None), length=-1, id=None),\n",
       " 'teacher_text': Value(dtype='string', id=None),\n",
       " 'teacher_labels': Sequence(feature=Value(dtype='int64', id=None), length=-1, id=None),\n",
       " 'audio_length': Value(dtype='float64', id=None),\n",
       " 'n_tokens_labels': Value(dtype='int64', id=None),\n",
       " 'n_tokens_teacher': Value(dtype='int64', id=None),\n",
       " 'n_overlaps': Value(dtype='int64', id=None),\n",
       " 'is_fast_utterance': Value(dtype='bool', id=None),\n",
       " 'diff_n_tokens': Value(dtype='int64', id=None),\n",
       " 'max_token_repetitions_labels': Value(dtype='int64', id=None),\n",
       " 'max_token_repetitions_teacher': Value(dtype='int64', id=None)}"
      ]
     },
     "execution_count": 11,
     "metadata": {},
     "output_type": "execute_result"
    }
   ],
   "source": [
    "ds = add_features_to_ds(ds, results, tokenizer=tokenizer)\n",
    "\n",
    "ds.features"
   ]
  },
  {
   "cell_type": "code",
   "execution_count": 12,
   "id": "bb9443e1-ebdb-4eb7-ac5c-9133f21ce540",
   "metadata": {},
   "outputs": [
    {
     "data": {
      "application/vnd.jupyter.widget-view+json": {
       "model_id": "",
       "version_major": 2,
       "version_minor": 0
      },
      "text/plain": [
       "Saving the dataset (0/3 shards):   0%|          | 0/12643 [00:00<?, ? examples/s]"
      ]
     },
     "metadata": {},
     "output_type": "display_data"
    },
    {
     "name": "stdout",
     "output_type": "stream",
     "text": [
      "Cached dataset at `notebooks/data/whisper_hallucinations_cached_ds/ami`\n"
     ]
    }
   ],
   "source": [
    "savepath = f\"notebooks/data/whisper_hallucinations_cached_ds/{dataset_name}\"\n",
    "Path(savepath).parent.mkdir(parents=True, exist_ok=True)\n",
    "ds.save_to_disk(savepath)\n",
    "\n",
    "print(f\"Cached dataset at `{savepath}`\")"
   ]
  },
  {
   "cell_type": "code",
   "execution_count": null,
   "id": "75b06d45-ab72-4a5a-8be6-bf31692ff567",
   "metadata": {},
   "outputs": [],
   "source": []
  }
 ],
 "metadata": {
  "kernelspec": {
   "display_name": "Python 3 (ipykernel)",
   "language": "python",
   "name": "python3"
  },
  "language_info": {
   "codemirror_mode": {
    "name": "ipython",
    "version": 3
   },
   "file_extension": ".py",
   "mimetype": "text/x-python",
   "name": "python",
   "nbconvert_exporter": "python",
   "pygments_lexer": "ipython3",
   "version": "3.10.11"
  }
 },
 "nbformat": 4,
 "nbformat_minor": 5
}
