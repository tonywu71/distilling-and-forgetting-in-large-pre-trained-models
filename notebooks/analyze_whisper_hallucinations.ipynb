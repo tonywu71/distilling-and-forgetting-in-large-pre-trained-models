{
 "cells": [
  {
   "cell_type": "markdown",
   "id": "37324580-06a0-4be8-8194-70b8f85523c3",
   "metadata": {},
   "source": [
    "## Imports"
   ]
  },
  {
   "cell_type": "code",
   "execution_count": 1,
   "id": "fdb50902-acec-4fe8-9681-d944478c0e35",
   "metadata": {},
   "outputs": [],
   "source": [
    "%load_ext autoreload\n",
    "%autoreload 2"
   ]
  },
  {
   "cell_type": "code",
   "execution_count": 2,
   "id": "cba60d42-4585-4578-b142-c703099bd091",
   "metadata": {},
   "outputs": [
    {
     "name": "stdout",
     "output_type": "stream",
     "text": [
      "/Users/Tony/Other Docs/distilling-and-forgetting-in-large-pre-trained-models\n"
     ]
    }
   ],
   "source": [
    "%cd ..\n",
    "import os, sys\n",
    "sys.path.insert(0, os.path.dirname(os.path.dirname(os.path.abspath(os.getcwd()))))"
   ]
  },
  {
   "cell_type": "code",
   "execution_count": 3,
   "id": "b422c568-7362-4361-8052-1b78696a1b6a",
   "metadata": {},
   "outputs": [],
   "source": [
    "from typing import Dict, Any\n",
    "from tqdm.auto import tqdm\n",
    "\n",
    "import pandas as pd\n",
    "\n",
    "import matplotlib.pyplot as plt\n",
    "import seaborn as sns\n",
    "\n",
    "import torch\n",
    "from transformers import pipeline\n",
    "from transformers.models.whisper import (WhisperTokenizer,\n",
    "                                         WhisperTokenizerFast,\n",
    "                                         WhisperFeatureExtractor,\n",
    "                                         WhisperForConditionalGeneration)\n",
    "from datasets import load_dataset\n",
    "\n",
    "from dataloader.dataset_loader import gen_from_dataset\n",
    "from evaluation.eval_dataset_name_to_dataset_group import EVAL_DATASET_NAME_TO_DATASET_GROUP\n",
    "from evaluation.string_edit_metrics import get_string_edit_metrics\n",
    "\n",
    "from utils.constants import GEN_MAX_LENGTH, DEFAULT_EVAL_NUM_BEAMS\n",
    "\n",
    "device = torch.device('mps')\n",
    "sns.set_theme(context=\"paper\", style=\"ticks\")"
   ]
  },
  {
   "cell_type": "markdown",
   "id": "14fcde89-6579-4200-bb8c-f0d0f618971a",
   "metadata": {},
   "source": [
    "## User input"
   ]
  },
  {
   "cell_type": "markdown",
   "id": "4fb40d39-119f-4c6a-b960-99dc206d6350",
   "metadata": {},
   "source": [
    "## Load model"
   ]
  },
  {
   "cell_type": "code",
   "execution_count": 4,
   "id": "a44a8a39-776d-4177-ae70-33d876edefa8",
   "metadata": {},
   "outputs": [],
   "source": [
    "pretrained_model_name_or_path = \"openai/whisper-tiny\"\n",
    "\n",
    "model = WhisperForConditionalGeneration.from_pretrained(pretrained_model_name_or_path)\n",
    "feature_extractor = WhisperFeatureExtractor.from_pretrained(pretrained_model_name_or_path)\n",
    "tokenizer = WhisperTokenizerFast.from_pretrained(pretrained_model_name_or_path, language=\"english\", task=\"transcribe\")\n",
    "\n",
    "\n",
    "model.config.forced_decoder_ids = tokenizer.get_decoder_prompt_ids(language=\"english\", task=\"transcribe\")\n",
    "model.config.suppress_tokens = []\n",
    "\n",
    "whisper_norm = tokenizer._normalize"
   ]
  },
  {
   "cell_type": "markdown",
   "id": "f482c627-cd0a-41ba-8e61-96bb22b02956",
   "metadata": {},
   "source": [
    "## Load dataset"
   ]
  },
  {
   "cell_type": "code",
   "execution_count": 8,
   "id": "d2bcf1c7-5715-4c7e-8537-4dd0c06233e5",
   "metadata": {},
   "outputs": [
    {
     "name": "stdout",
     "output_type": "stream",
     "text": [
      "WARNING: `CACHE_DIR_AMI` environment variable not set. Using default cache directory.\n"
     ]
    },
    {
     "name": "stderr",
     "output_type": "stream",
     "text": [
      "Found cached dataset ami (/Users/Tony/.cache/huggingface/datasets/edinburghcstr___ami/ihm/0.0.0/0d128d0aa8145d0f16f3d5b4da86c5d5759dbe9e8f947fda04b25edb56442bd5)\n"
     ]
    },
    {
     "data": {
      "application/vnd.jupyter.widget-view+json": {
       "model_id": "",
       "version_major": 2,
       "version_minor": 0
      },
      "text/plain": [
       "Map:   0%|          | 0/1264 [00:00<?, ? examples/s]"
      ]
     },
     "metadata": {},
     "output_type": "display_data"
    }
   ],
   "source": [
    "dataset_name = \"ami_10h\"\n",
    "\n",
    "ds_group = EVAL_DATASET_NAME_TO_DATASET_GROUP[dataset_name]()\n",
    "\n",
    "if dataset_name == \"librispeech_dummy\":\n",
    "    ds = ds_group.str2dataset[\"librispeech_dummy\"]\n",
    "    ds = ds.map(lambda x: {\"text\": x.lower()}, input_columns=[\"text\"])\n",
    "elif dataset_name in [\"ami\", \"ami_10h\"]:\n",
    "    ds = ds_group.str2dataset[\"ami\"]\n",
    "    ds = ds.map(lambda x: {\"text\": x.lower()}, input_columns=[\"text\"])\n",
    "else:\n",
    "    raise ValueError()"
   ]
  },
  {
   "cell_type": "markdown",
   "id": "8514824b-98c9-407e-a4ff-e800c3aaba75",
   "metadata": {},
   "source": [
    "## Create pipeline"
   ]
  },
  {
   "cell_type": "code",
   "execution_count": 9,
   "id": "81ed08a2-7488-4eda-858e-b72410c214ed",
   "metadata": {},
   "outputs": [],
   "source": [
    "whisper_asr = pipeline(task=\"automatic-speech-recognition\",\n",
    "                       model=model,\n",
    "                       tokenizer=tokenizer,\n",
    "                       feature_extractor=feature_extractor,  # type: ignore\n",
    "                       device=device\n",
    ")"
   ]
  },
  {
   "cell_type": "markdown",
   "id": "f157d5ba-883a-4ed9-9384-695eaeda6ecb",
   "metadata": {},
   "source": [
    "## Run pipeline"
   ]
  },
  {
   "cell_type": "code",
   "execution_count": 10,
   "id": "e13c4788-c27f-47ee-9acc-3d65d519fd12",
   "metadata": {},
   "outputs": [
    {
     "data": {
      "application/vnd.jupyter.widget-view+json": {
       "model_id": "0e15741fed9d45acb2b4689e5f8b0d2b",
       "version_major": 2,
       "version_minor": 0
      },
      "text/plain": [
       "  0%|          | 0/1264 [00:00<?, ?it/s]"
      ]
     },
     "metadata": {},
     "output_type": "display_data"
    }
   ],
   "source": [
    "generate_kwargs = {\"max_length\": GEN_MAX_LENGTH, \"num_beams\": DEFAULT_EVAL_NUM_BEAMS}\n",
    "\n",
    "# Create placeholders for the predictions and references:\n",
    "predictions = []\n",
    "references = []\n",
    "\n",
    "for out in tqdm(whisper_asr(gen_from_dataset(ds),\n",
    "                            batch_size=32,\n",
    "                            generate_kwargs=generate_kwargs),\n",
    "                total=ds.num_rows):\n",
    "    ref = out[\"reference\"][0].lower()\n",
    "    pred = out[\"text\"].lower()\n",
    "    references.append(ref)\n",
    "    predictions.append(pred)"
   ]
  },
  {
   "cell_type": "markdown",
   "id": "eeb3ab6f-d53d-4409-8065-2258b7d56ca9",
   "metadata": {},
   "source": [
    "## Compute string edit metrics"
   ]
  },
  {
   "cell_type": "code",
   "execution_count": 11,
   "id": "53cbab69-30ed-4788-be0d-037130fef0a2",
   "metadata": {},
   "outputs": [
    {
     "data": {
      "text/plain": [
       "wer    53.522505\n",
       "sub    36.231479\n",
       "del    11.126642\n",
       "ins     6.164384\n",
       "dtype: float64"
      ]
     },
     "execution_count": 11,
     "metadata": {},
     "output_type": "execute_result"
    }
   ],
   "source": [
    "string_edit_metrics = 100 * pd.Series(get_string_edit_metrics(references=references, predictions=predictions))\n",
    "\n",
    "string_edit_metrics"
   ]
  },
  {
   "cell_type": "markdown",
   "id": "64965fde-356f-4436-a11f-df3b0b99421f",
   "metadata": {},
   "source": [
    "## Analysis"
   ]
  },
  {
   "cell_type": "markdown",
   "id": "d7da78d3-6e8c-4e79-b098-4e57cf7bc447",
   "metadata": {},
   "source": [
    "### Add audio length to the dataset features"
   ]
  },
  {
   "cell_type": "code",
   "execution_count": 12,
   "id": "147c3e23-e9f3-471c-a4db-12c52f99cc8e",
   "metadata": {},
   "outputs": [],
   "source": [
    "def get_audio_length_in_seconds(x: Dict[str, Any]) -> Dict[str, float]:\n",
    "    assert \"audio\" in x  # TODO\n",
    "    audio = x[\"audio\"]\n",
    "    audio_length = len(audio[\"array\"]) / audio[\"sampling_rate\"]\n",
    "    return {\"audio_length\": audio_length}"
   ]
  },
  {
   "cell_type": "code",
   "execution_count": 13,
   "id": "0ba418ae-3b5f-45aa-961d-d90b198e6546",
   "metadata": {},
   "outputs": [
    {
     "data": {
      "application/vnd.jupyter.widget-view+json": {
       "model_id": "",
       "version_major": 2,
       "version_minor": 0
      },
      "text/plain": [
       "Map:   0%|          | 0/1264 [00:00<?, ? examples/s]"
      ]
     },
     "metadata": {},
     "output_type": "display_data"
    },
    {
     "data": {
      "text/plain": [
       "{'text': Value(dtype='string', id=None),\n",
       " 'audio': Audio(sampling_rate=16000, mono=True, decode=True, id=None),\n",
       " 'audio_length': Value(dtype='float64', id=None)}"
      ]
     },
     "execution_count": 13,
     "metadata": {},
     "output_type": "execute_result"
    }
   ],
   "source": [
    "ds = ds.map(get_audio_length_in_seconds)\n",
    "\n",
    "ds.features"
   ]
  },
  {
   "cell_type": "markdown",
   "id": "cac800b9-7a77-4d87-9b66-f1e0a3030b65",
   "metadata": {},
   "source": [
    "### Add predictions to the dataset features"
   ]
  },
  {
   "cell_type": "code",
   "execution_count": 14,
   "id": "650bd205-a804-43ee-84a1-1d2761584775",
   "metadata": {},
   "outputs": [
    {
     "data": {
      "text/plain": [
       "{'text': Value(dtype='string', id=None),\n",
       " 'audio': Audio(sampling_rate=16000, mono=True, decode=True, id=None),\n",
       " 'audio_length': Value(dtype='float64', id=None),\n",
       " 'pred': Value(dtype='string', id=None)}"
      ]
     },
     "execution_count": 14,
     "metadata": {},
     "output_type": "execute_result"
    }
   ],
   "source": [
    "assert ds.num_rows == len(references) == len(predictions)\n",
    "ds = ds.add_column(name=\"pred\", column=predictions)\n",
    "\n",
    "ds.features"
   ]
  },
  {
   "cell_type": "markdown",
   "id": "f6498b05-a62a-434c-b3e8-6973dcbab66d",
   "metadata": {},
   "source": [
    "### Tokenize both labels and predictions"
   ]
  },
  {
   "cell_type": "code",
   "execution_count": 15,
   "id": "c0cf507e-3fd0-45cd-bb04-35ae115a78b7",
   "metadata": {},
   "outputs": [
    {
     "data": {
      "application/vnd.jupyter.widget-view+json": {
       "model_id": "",
       "version_major": 2,
       "version_minor": 0
      },
      "text/plain": [
       "Map:   0%|          | 0/1264 [00:00<?, ? examples/s]"
      ]
     },
     "metadata": {},
     "output_type": "display_data"
    },
    {
     "data": {
      "text/plain": [
       "{'text': Value(dtype='string', id=None),\n",
       " 'audio': Audio(sampling_rate=16000, mono=True, decode=True, id=None),\n",
       " 'audio_length': Value(dtype='float64', id=None),\n",
       " 'pred': Value(dtype='string', id=None),\n",
       " 'labels': Sequence(feature=Value(dtype='int64', id=None), length=-1, id=None),\n",
       " 'pred_tokenized': Sequence(feature=Value(dtype='int64', id=None), length=-1, id=None)}"
      ]
     },
     "execution_count": 15,
     "metadata": {},
     "output_type": "execute_result"
    }
   ],
   "source": [
    "ds = ds.map(lambda batch: {\"labels\": tokenizer(batch[\"text\"]).input_ids,\n",
    "                           \"pred_tokenized\": tokenizer(batch[\"pred\"]).input_ids},\n",
    "            batched=True)\n",
    "\n",
    "ds.features"
   ]
  },
  {
   "cell_type": "markdown",
   "id": "cc8664a0-58ea-4d5d-9e71-7f411e1ce3c1",
   "metadata": {},
   "source": [
    "### Add n_tokens to the dataset features"
   ]
  },
  {
   "cell_type": "code",
   "execution_count": 16,
   "id": "85f8998c-b6f1-4a88-a474-3d93b3321c9d",
   "metadata": {},
   "outputs": [
    {
     "data": {
      "application/vnd.jupyter.widget-view+json": {
       "model_id": "",
       "version_major": 2,
       "version_minor": 0
      },
      "text/plain": [
       "Map:   0%|          | 0/1264 [00:00<?, ? examples/s]"
      ]
     },
     "metadata": {},
     "output_type": "display_data"
    },
    {
     "data": {
      "text/plain": [
       "{'text': Value(dtype='string', id=None),\n",
       " 'audio': Audio(sampling_rate=16000, mono=True, decode=True, id=None),\n",
       " 'audio_length': Value(dtype='float64', id=None),\n",
       " 'pred': Value(dtype='string', id=None),\n",
       " 'labels': Sequence(feature=Value(dtype='int64', id=None), length=-1, id=None),\n",
       " 'pred_tokenized': Sequence(feature=Value(dtype='int64', id=None), length=-1, id=None),\n",
       " 'n_tokens_labels': Value(dtype='int64', id=None),\n",
       " 'n_tokens_pred': Value(dtype='int64', id=None)}"
      ]
     },
     "execution_count": 16,
     "metadata": {},
     "output_type": "execute_result"
    }
   ],
   "source": [
    "ds = ds.map(lambda x: {\"n_tokens_labels\": len(x[\"labels\"]), \"n_tokens_pred\": len(x[\"pred_tokenized\"])})\n",
    "\n",
    "ds.features"
   ]
  },
  {
   "cell_type": "markdown",
   "id": "e8a85766-d358-4cab-b054-7862ae39cf25",
   "metadata": {},
   "source": [
    "### Get DataFrame"
   ]
  },
  {
   "cell_type": "code",
   "execution_count": 17,
   "id": "bb133cb8-5ac9-4180-802d-d3957deb2463",
   "metadata": {},
   "outputs": [
    {
     "data": {
      "text/html": [
       "<div>\n",
       "<style scoped>\n",
       "    .dataframe tbody tr th:only-of-type {\n",
       "        vertical-align: middle;\n",
       "    }\n",
       "\n",
       "    .dataframe tbody tr th {\n",
       "        vertical-align: top;\n",
       "    }\n",
       "\n",
       "    .dataframe thead th {\n",
       "        text-align: right;\n",
       "    }\n",
       "</style>\n",
       "<table border=\"1\" class=\"dataframe\">\n",
       "  <thead>\n",
       "    <tr style=\"text-align: right;\">\n",
       "      <th></th>\n",
       "      <th>audio_length</th>\n",
       "      <th>text</th>\n",
       "      <th>labels</th>\n",
       "      <th>n_tokens_labels</th>\n",
       "      <th>pred</th>\n",
       "      <th>pred_tokenized</th>\n",
       "      <th>n_tokens_pred</th>\n",
       "      <th>diff_n_tokens</th>\n",
       "    </tr>\n",
       "  </thead>\n",
       "  <tbody>\n",
       "    <tr>\n",
       "      <th>0</th>\n",
       "      <td>1.37</td>\n",
       "      <td>yeah</td>\n",
       "      <td>[50258, 50259, 50359, 50363, 19650, 50257]</td>\n",
       "      <td>6</td>\n",
       "      <td>thank you.</td>\n",
       "      <td>[50258, 50259, 50359, 50363, 220, 40683, 291, ...</td>\n",
       "      <td>9</td>\n",
       "      <td>3</td>\n",
       "    </tr>\n",
       "    <tr>\n",
       "      <th>1</th>\n",
       "      <td>0.37</td>\n",
       "      <td>mm-hmm</td>\n",
       "      <td>[50258, 50259, 50359, 50363, 2174, 12, 10250, ...</td>\n",
       "      <td>8</td>\n",
       "      <td>mm-hmm.</td>\n",
       "      <td>[50258, 50259, 50359, 50363, 11169, 12, 10250,...</td>\n",
       "      <td>9</td>\n",
       "      <td>1</td>\n",
       "    </tr>\n",
       "    <tr>\n",
       "      <th>2</th>\n",
       "      <td>1.18</td>\n",
       "      <td>yeah we're gonna meet up</td>\n",
       "      <td>[50258, 50259, 50359, 50363, 19650, 321, 434, ...</td>\n",
       "      <td>11</td>\n",
       "      <td>yeah, we're going to meet up.</td>\n",
       "      <td>[50258, 50259, 50359, 50363, 1338, 11, 321, 43...</td>\n",
       "      <td>15</td>\n",
       "      <td>4</td>\n",
       "    </tr>\n",
       "    <tr>\n",
       "      <th>3</th>\n",
       "      <td>1.36</td>\n",
       "      <td>i mean we're not even there yet</td>\n",
       "      <td>[50258, 50259, 50359, 50363, 72, 914, 321, 434...</td>\n",
       "      <td>14</td>\n",
       "      <td>we're not even there yet.</td>\n",
       "      <td>[50258, 50259, 50359, 50363, 321, 434, 406, 75...</td>\n",
       "      <td>13</td>\n",
       "      <td>-1</td>\n",
       "    </tr>\n",
       "    <tr>\n",
       "      <th>4</th>\n",
       "      <td>0.29</td>\n",
       "      <td>yeah</td>\n",
       "      <td>[50258, 50259, 50359, 50363, 19650, 50257]</td>\n",
       "      <td>6</td>\n",
       "      <td>yeah.</td>\n",
       "      <td>[50258, 50259, 50359, 50363, 1338, 13, 50257]</td>\n",
       "      <td>7</td>\n",
       "      <td>1</td>\n",
       "    </tr>\n",
       "  </tbody>\n",
       "</table>\n",
       "</div>"
      ],
      "text/plain": [
       "   audio_length                             text  \\\n",
       "0          1.37                             yeah   \n",
       "1          0.37                           mm-hmm   \n",
       "2          1.18         yeah we're gonna meet up   \n",
       "3          1.36  i mean we're not even there yet   \n",
       "4          0.29                             yeah   \n",
       "\n",
       "                                              labels  n_tokens_labels  \\\n",
       "0         [50258, 50259, 50359, 50363, 19650, 50257]                6   \n",
       "1  [50258, 50259, 50359, 50363, 2174, 12, 10250, ...                8   \n",
       "2  [50258, 50259, 50359, 50363, 19650, 321, 434, ...               11   \n",
       "3  [50258, 50259, 50359, 50363, 72, 914, 321, 434...               14   \n",
       "4         [50258, 50259, 50359, 50363, 19650, 50257]                6   \n",
       "\n",
       "                             pred  \\\n",
       "0                      thank you.   \n",
       "1                         mm-hmm.   \n",
       "2   yeah, we're going to meet up.   \n",
       "3       we're not even there yet.   \n",
       "4                           yeah.   \n",
       "\n",
       "                                      pred_tokenized  n_tokens_pred  \\\n",
       "0  [50258, 50259, 50359, 50363, 220, 40683, 291, ...              9   \n",
       "1  [50258, 50259, 50359, 50363, 11169, 12, 10250,...              9   \n",
       "2  [50258, 50259, 50359, 50363, 1338, 11, 321, 43...             15   \n",
       "3  [50258, 50259, 50359, 50363, 321, 434, 406, 75...             13   \n",
       "4      [50258, 50259, 50359, 50363, 1338, 13, 50257]              7   \n",
       "\n",
       "   diff_n_tokens  \n",
       "0              3  \n",
       "1              1  \n",
       "2              4  \n",
       "3             -1  \n",
       "4              1  "
      ]
     },
     "execution_count": 17,
     "metadata": {},
     "output_type": "execute_result"
    }
   ],
   "source": [
    "cols_of_interest = [\"audio_length\", \"text\", \"labels\", \"n_tokens_labels\", \"pred\", \"pred_tokenized\", \"n_tokens_pred\"]\n",
    "df = pd.DataFrame({col: ds[col] for col in cols_of_interest})\n",
    "\n",
    "df[\"diff_n_tokens\"] = df[\"n_tokens_pred\"] - df[\"n_tokens_labels\"]\n",
    "\n",
    "df.head()"
   ]
  },
  {
   "cell_type": "code",
   "execution_count": 18,
   "id": "5695e84d-226d-4773-9049-2f85dd244351",
   "metadata": {},
   "outputs": [
    {
     "data": {
      "image/png": "[encoded data removed]",
      "text/plain": [
       "<Figure size 500x300 with 1 Axes>"
      ]
     },
     "metadata": {},
     "output_type": "display_data"
    }
   ],
   "source": [
    "plt.figure(figsize=(5, 3))\n",
    "df[\"audio_length\"].plot.hist();"
   ]
  },
  {
   "cell_type": "code",
   "execution_count": 19,
   "id": "a7298699-60f7-4067-b202-75832ffd3f08",
   "metadata": {},
   "outputs": [
    {
     "data": {
      "image/png": "[encoded data removed]",
      "text/plain": [
       "<Figure size 500x300 with 1 Axes>"
      ]
     },
     "metadata": {},
     "output_type": "display_data"
    },
    {
     "data": {
      "image/png": "[encoded data removed]",
      "text/plain": [
       "<Figure size 500x300 with 1 Axes>"
      ]
     },
     "metadata": {},
     "output_type": "display_data"
    }
   ],
   "source": [
    "plt.figure(figsize=(5, 3))\n",
    "sns.histplot(data=df[[\"n_tokens_labels\", \"n_tokens_pred\"]])\n",
    "\n",
    "plt.figure(figsize=(5, 3))\n",
    "sns.histplot(data=df[\"diff_n_tokens\"]);"
   ]
  },
  {
   "cell_type": "code",
   "execution_count": 27,
   "id": "276c822d-e062-4dc6-a436-1ef8c3f731d1",
   "metadata": {},
   "outputs": [
    {
     "data": {
      "text/plain": [
       "(5.955, 10.4]    753\n",
       "(10.4, 14.8]     192\n",
       "(14.8, 19.2]     111\n",
       "(19.2, 23.6]      69\n",
       "(23.6, 28.0]      66\n",
       "(28.0, 32.4]      33\n",
       "(32.4, 36.8]      20\n",
       "(36.8, 41.2]      13\n",
       "(41.2, 45.6]       5\n",
       "(45.6, 50.0]       2\n",
       "Name: n_tokens_labels, dtype: int64"
      ]
     },
     "execution_count": 27,
     "metadata": {},
     "output_type": "execute_result"
    }
   ],
   "source": [
    "df[\"n_tokens_labels\"].value_counts(bins=10, sort=False)"
   ]
  },
  {
   "cell_type": "code",
   "execution_count": 24,
   "id": "0fef7379-db82-4e56-aa91-d70b500c7ada",
   "metadata": {},
   "outputs": [
    {
     "data": {
      "text/plain": [
       "count    1264.000000\n",
       "mean       12.037975\n",
       "std         7.961118\n",
       "min         6.000000\n",
       "25%         6.000000\n",
       "50%         9.000000\n",
       "75%        15.000000\n",
       "max        50.000000\n",
       "Name: n_tokens_labels, dtype: float64"
      ]
     },
     "execution_count": 24,
     "metadata": {},
     "output_type": "execute_result"
    }
   ],
   "source": [
    "df[\"n_tokens_labels\"].describe()"
   ]
  },
  {
   "cell_type": "code",
   "execution_count": 28,
   "id": "e7d43d2e-1bd5-4ef6-bd50-aaf49212e165",
   "metadata": {},
   "outputs": [
    {
     "data": {
      "text/plain": [
       "(5.779, 28.0]     1180\n",
       "(28.0, 50.0]        82\n",
       "(50.0, 72.0]         1\n",
       "(72.0, 94.0]         0\n",
       "(94.0, 116.0]        0\n",
       "(116.0, 138.0]       0\n",
       "(138.0, 160.0]       0\n",
       "(160.0, 182.0]       0\n",
       "(182.0, 204.0]       0\n",
       "(204.0, 226.0]       1\n",
       "Name: n_tokens_pred, dtype: int64"
      ]
     },
     "execution_count": 28,
     "metadata": {},
     "output_type": "execute_result"
    }
   ],
   "source": [
    "df[\"n_tokens_pred\"].value_counts(bins=10, sort=False)"
   ]
  },
  {
   "cell_type": "code",
   "execution_count": 29,
   "id": "b29fc86a-f888-4be8-8fdc-495c3117473c",
   "metadata": {},
   "outputs": [
    {
     "data": {
      "text/plain": [
       "count    1264.000000\n",
       "mean       13.174842\n",
       "std         9.885583\n",
       "min         6.000000\n",
       "25%         7.000000\n",
       "50%        10.000000\n",
       "75%        16.000000\n",
       "max       226.000000\n",
       "Name: n_tokens_pred, dtype: float64"
      ]
     },
     "execution_count": 29,
     "metadata": {},
     "output_type": "execute_result"
    }
   ],
   "source": [
    "df[\"n_tokens_pred\"].describe()"
   ]
  },
  {
   "cell_type": "code",
   "execution_count": 33,
   "id": "8a7416f0-55ac-49ca-acac-8d50f1482ad8",
   "metadata": {},
   "outputs": [
    {
     "data": {
      "text/plain": [
       "(-13.228, 9.7]    1262\n",
       "(9.7, 32.4]          1\n",
       "(32.4, 55.1]         0\n",
       "(55.1, 77.8]         0\n",
       "(77.8, 100.5]        0\n",
       "(100.5, 123.2]       0\n",
       "(123.2, 145.9]       0\n",
       "(145.9, 168.6]       0\n",
       "(168.6, 191.3]       0\n",
       "(191.3, 214.0]       1\n",
       "Name: diff_n_tokens, dtype: int64"
      ]
     },
     "execution_count": 33,
     "metadata": {},
     "output_type": "execute_result"
    }
   ],
   "source": [
    "df[\"diff_n_tokens\"].value_counts(bins=10, sort=False)"
   ]
  },
  {
   "cell_type": "code",
   "execution_count": 31,
   "id": "19f4d0e3-1575-43f2-a207-6880a553e87f",
   "metadata": {},
   "outputs": [
    {
     "data": {
      "text/plain": [
       "count    1264.000000\n",
       "mean        1.136867\n",
       "std         6.387421\n",
       "min       -13.000000\n",
       "25%         0.000000\n",
       "50%         1.000000\n",
       "75%         2.000000\n",
       "max       214.000000\n",
       "Name: diff_n_tokens, dtype: float64"
      ]
     },
     "execution_count": 31,
     "metadata": {},
     "output_type": "execute_result"
    }
   ],
   "source": [
    "df[\"diff_n_tokens\"].describe()"
   ]
  },
  {
   "cell_type": "code",
   "execution_count": 36,
   "id": "28a6fe87-0e59-42bc-aa16-f2eae9744b1b",
   "metadata": {},
   "outputs": [
    {
     "data": {
      "text/plain": [
       "(-15.0, 30.0)"
      ]
     },
     "execution_count": 36,
     "metadata": {},
     "output_type": "execute_result"
    },
    {
     "data": {
      "image/png": "[encoded data removed]",
      "text/plain": [
       "<Figure size 500x300 with 1 Axes>"
      ]
     },
     "metadata": {},
     "output_type": "display_data"
    }
   ],
   "source": [
    "plt.figure(figsize=(5, 3))\n",
    "sns.histplot(data=df[\"diff_n_tokens\"])\n",
    "plt.xlim(-15, 30)"
   ]
  },
  {
   "cell_type": "code",
   "execution_count": 43,
   "id": "99b43d46-3360-475c-8dc9-485720f1eea3",
   "metadata": {},
   "outputs": [],
   "source": [
    "df_candidates = df[df[\"diff_n_tokens\"]>=10]"
   ]
  },
  {
   "cell_type": "code",
   "execution_count": 44,
   "id": "257a818d-31a2-418a-b293-5f900d9c47be",
   "metadata": {},
   "outputs": [
    {
     "name": "stdout",
     "output_type": "stream",
     "text": [
      "Idx = 38\n",
      "Reference:  but well whatever it was last week then\n",
      "Prediction:   but... i mean, this week's only two days all. well, whatever it was last week then.\n",
      "\n",
      "Idx = 223\n",
      "Reference:  what's you what would you prefer\n",
      "Prediction:   what's your, what's your, what's your, what's your, what's your, what's your, what's your, what's your, what's your, what's your, what's your, what's your, what's your, what's your, what's your, what's your, what's your, what's your, what's your, what's your, what's your, what's your, what's your, what's your, what's your, what's your, what's your, what's your, what's your, what's your, what's your, what's your, what's your, what's your, what's your, what's your, what's your, what's your, what's your, what's your, what's your, what's your, what's your, what's your, what's your, what's your, what's your, what's your, what's your, what's your, what's your, what's your, what's your, what's your, what's your, what\n",
      "\n"
     ]
    }
   ],
   "source": [
    "for idx in range(len(df_candidates)):\n",
    "    print(f\"Idx = {df_candidates.iloc[idx].name}\")\n",
    "    print(\"Reference: \", df_candidates.iloc[idx][\"text\"])\n",
    "    print(\"Prediction: \", df_candidates.iloc[idx][\"pred\"])\n",
    "    print()"
   ]
  },
  {
   "cell_type": "code",
   "execution_count": null,
   "id": "819bd092-a031-4615-a33a-4f6d2523a08b",
   "metadata": {},
   "outputs": [],
   "source": []
  }
 ],
 "metadata": {
  "kernelspec": {
   "display_name": "Python 3 (ipykernel)",
   "language": "python",
   "name": "python3"
  },
  "language_info": {
   "codemirror_mode": {
    "name": "ipython",
    "version": 3
   },
   "file_extension": ".py",
   "mimetype": "text/x-python",
   "name": "python",
   "nbconvert_exporter": "python",
   "pygments_lexer": "ipython3",
   "version": "3.10.11"
  }
 },
 "nbformat": 4,
 "nbformat_minor": 5
}
