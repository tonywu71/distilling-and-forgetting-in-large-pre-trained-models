{
 "cells": [
  {
   "cell_type": "markdown",
   "id": "37324580-06a0-4be8-8194-70b8f85523c3",
   "metadata": {},
   "source": [
    "## Imports"
   ]
  },
  {
   "cell_type": "code",
   "execution_count": 1,
   "id": "fdb50902-acec-4fe8-9681-d944478c0e35",
   "metadata": {},
   "outputs": [],
   "source": [
    "%load_ext autoreload\n",
    "%autoreload 2"
   ]
  },
  {
   "cell_type": "code",
   "execution_count": 2,
   "id": "cba60d42-4585-4578-b142-c703099bd091",
   "metadata": {},
   "outputs": [
    {
     "name": "stdout",
     "output_type": "stream",
     "text": [
      "/Users/Tony/Other Docs/distilling-and-forgetting-in-large-pre-trained-models\n"
     ]
    }
   ],
   "source": [
    "%cd ..\n",
    "import os, sys\n",
    "sys.path.insert(0, os.path.dirname(os.path.dirname(os.path.abspath(os.getcwd()))))"
   ]
  },
  {
   "cell_type": "code",
   "execution_count": 3,
   "id": "b422c568-7362-4361-8052-1b78696a1b6a",
   "metadata": {},
   "outputs": [],
   "source": [
    "from pathlib import Path\n",
    "from collections import defaultdict\n",
    "\n",
    "import numpy as np\n",
    "import pandas as pd\n",
    "from datasets import load_from_disk\n",
    "\n",
    "import matplotlib.pyplot as plt\n",
    "import seaborn as sns\n",
    "\n",
    "from evaluation.string_edit_metrics import get_string_edit_metrics, get_string_edit_metrics_ortho_and_norm\n",
    "from normalization.whisper_normalization import get_whisper_normalizer\n",
    "from utils.whisper_hallucinations.eval_filter_criterion import eval_filter_criterion\n",
    "from utils.whisper_hallucinations.get_features import compute_gzip_compression_ratio\n",
    "from utils.notebook_utils import listen_to_audio\n",
    "\n",
    "whisper_norm = get_whisper_normalizer(\"english\")\n",
    "sns.set_theme(context=\"paper\", style=\"ticks\")"
   ]
  },
  {
   "cell_type": "markdown",
   "id": "8f2c3ce9-2cba-4e0f-9290-69c8b040ad9c",
   "metadata": {
    "tags": []
   },
   "source": [
    "## Load cached dataset"
   ]
  },
  {
   "cell_type": "code",
   "execution_count": 4,
   "id": "e3221b30-139b-4dde-b339-28fe94c5d293",
   "metadata": {},
   "outputs": [
    {
     "data": {
      "text/plain": [
       "{'text': Value(dtype='string', id=None),\n",
       " 'audio': Audio(sampling_rate=16000, mono=True, decode=True, id=None),\n",
       " 'labels': Sequence(feature=Value(dtype='int64', id=None), length=-1, id=None),\n",
       " 'teacher_text': Value(dtype='string', id=None),\n",
       " 'teacher_labels': Sequence(feature=Value(dtype='int64', id=None), length=-1, id=None),\n",
       " 'audio_length': Value(dtype='float64', id=None),\n",
       " 'n_tokens_labels': Value(dtype='int64', id=None),\n",
       " 'n_tokens_teacher': Value(dtype='int64', id=None),\n",
       " 'diff_n_tokens': Value(dtype='int64', id=None),\n",
       " 'gzip_ratio': Value(dtype='float64', id=None),\n",
       " 'teacher_gzip_ratio': Value(dtype='float64', id=None),\n",
       " 'diff_gzip_ratio': Value(dtype='float64', id=None),\n",
       " 'n_overlaps': Value(dtype='int64', id=None)}"
      ]
     },
     "execution_count": 4,
     "metadata": {},
     "output_type": "execute_result"
    }
   ],
   "source": [
    "dataset_name = \"ami_validation\"\n",
    "\n",
    "savepath = f\"notebooks/data/whisper_hallucinations_cached_ds/{dataset_name}\"\n",
    "ds = load_from_disk(savepath)\n",
    "\n",
    "ds.features"
   ]
  },
  {
   "cell_type": "markdown",
   "id": "c6a0d599-18d9-4492-be9c-04eb337576ad",
   "metadata": {
    "tags": []
   },
   "source": [
    "## Convert to DataFrame"
   ]
  },
  {
   "cell_type": "code",
   "execution_count": 5,
   "id": "6ba44dea-733c-485e-802f-9eef4617daef",
   "metadata": {},
   "outputs": [
    {
     "data": {
      "text/html": [
       "<div>\n",
       "<style scoped>\n",
       "    .dataframe tbody tr th:only-of-type {\n",
       "        vertical-align: middle;\n",
       "    }\n",
       "\n",
       "    .dataframe tbody tr th {\n",
       "        vertical-align: top;\n",
       "    }\n",
       "\n",
       "    .dataframe thead th {\n",
       "        text-align: right;\n",
       "    }\n",
       "</style>\n",
       "<table border=\"1\" class=\"dataframe\">\n",
       "  <thead>\n",
       "    <tr style=\"text-align: right;\">\n",
       "      <th></th>\n",
       "      <th>text</th>\n",
       "      <th>labels</th>\n",
       "      <th>teacher_text</th>\n",
       "      <th>teacher_labels</th>\n",
       "      <th>audio_length</th>\n",
       "      <th>n_tokens_labels</th>\n",
       "      <th>n_tokens_teacher</th>\n",
       "      <th>diff_n_tokens</th>\n",
       "      <th>gzip_ratio</th>\n",
       "      <th>teacher_gzip_ratio</th>\n",
       "      <th>diff_gzip_ratio</th>\n",
       "      <th>n_overlaps</th>\n",
       "    </tr>\n",
       "  </thead>\n",
       "  <tbody>\n",
       "    <tr>\n",
       "      <th>0</th>\n",
       "      <td>but like mobile phones have screens and they'r...</td>\n",
       "      <td>[50258, 50363, 5955, 411, 6013, 10216, 362, 11...</td>\n",
       "      <td>but like mobile phones have screens and they'...</td>\n",
       "      <td>[50258, 50363, 457, 411, 6013, 10216, 362, 111...</td>\n",
       "      <td>2.68</td>\n",
       "      <td>14</td>\n",
       "      <td>15</td>\n",
       "      <td>1</td>\n",
       "      <td>0.757143</td>\n",
       "      <td>0.774648</td>\n",
       "      <td>0.017505</td>\n",
       "      <td>0</td>\n",
       "    </tr>\n",
       "    <tr>\n",
       "      <th>1</th>\n",
       "      <td>mm</td>\n",
       "      <td>[50258, 50363, 2174, 50257]</td>\n",
       "      <td>you</td>\n",
       "      <td>[50258, 50363, 291, 50257]</td>\n",
       "      <td>0.15</td>\n",
       "      <td>4</td>\n",
       "      <td>4</td>\n",
       "      <td>0</td>\n",
       "      <td>0.090909</td>\n",
       "      <td>0.166667</td>\n",
       "      <td>0.075758</td>\n",
       "      <td>0</td>\n",
       "    </tr>\n",
       "    <tr>\n",
       "      <th>2</th>\n",
       "      <td>furry</td>\n",
       "      <td>[50258, 50363, 69, 30614, 50257]</td>\n",
       "      <td>furry.</td>\n",
       "      <td>[50258, 50363, 47073, 13, 50257]</td>\n",
       "      <td>0.52</td>\n",
       "      <td>5</td>\n",
       "      <td>5</td>\n",
       "      <td>0</td>\n",
       "      <td>0.200000</td>\n",
       "      <td>0.259259</td>\n",
       "      <td>0.059259</td>\n",
       "      <td>0</td>\n",
       "    </tr>\n",
       "    <tr>\n",
       "      <th>3</th>\n",
       "      <td>yeah</td>\n",
       "      <td>[50258, 50363, 19650, 50257]</td>\n",
       "      <td>yeah.</td>\n",
       "      <td>[50258, 50363, 1338, 13, 50257]</td>\n",
       "      <td>1.86</td>\n",
       "      <td>4</td>\n",
       "      <td>5</td>\n",
       "      <td>1</td>\n",
       "      <td>0.166667</td>\n",
       "      <td>0.230769</td>\n",
       "      <td>0.064103</td>\n",
       "      <td>0</td>\n",
       "    </tr>\n",
       "    <tr>\n",
       "      <th>4</th>\n",
       "      <td>i mean it just seems like yeah</td>\n",
       "      <td>[50258, 50363, 72, 914, 309, 445, 2544, 411, 1...</td>\n",
       "      <td>i mean it just seems like... yeah.</td>\n",
       "      <td>[50258, 50363, 741, 914, 309, 445, 2544, 411, ...</td>\n",
       "      <td>2.27</td>\n",
       "      <td>10</td>\n",
       "      <td>12</td>\n",
       "      <td>2</td>\n",
       "      <td>0.600000</td>\n",
       "      <td>0.636364</td>\n",
       "      <td>0.036364</td>\n",
       "      <td>0</td>\n",
       "    </tr>\n",
       "  </tbody>\n",
       "</table>\n",
       "</div>"
      ],
      "text/plain": [
       "                                                text  \\\n",
       "0  but like mobile phones have screens and they'r...   \n",
       "1                                                 mm   \n",
       "2                                              furry   \n",
       "3                                               yeah   \n",
       "4                     i mean it just seems like yeah   \n",
       "\n",
       "                                              labels  \\\n",
       "0  [50258, 50363, 5955, 411, 6013, 10216, 362, 11...   \n",
       "1                        [50258, 50363, 2174, 50257]   \n",
       "2                   [50258, 50363, 69, 30614, 50257]   \n",
       "3                       [50258, 50363, 19650, 50257]   \n",
       "4  [50258, 50363, 72, 914, 309, 445, 2544, 411, 1...   \n",
       "\n",
       "                                        teacher_text  \\\n",
       "0   but like mobile phones have screens and they'...   \n",
       "1                                                you   \n",
       "2                                             furry.   \n",
       "3                                              yeah.   \n",
       "4                 i mean it just seems like... yeah.   \n",
       "\n",
       "                                      teacher_labels  audio_length  \\\n",
       "0  [50258, 50363, 457, 411, 6013, 10216, 362, 111...          2.68   \n",
       "1                         [50258, 50363, 291, 50257]          0.15   \n",
       "2                   [50258, 50363, 47073, 13, 50257]          0.52   \n",
       "3                    [50258, 50363, 1338, 13, 50257]          1.86   \n",
       "4  [50258, 50363, 741, 914, 309, 445, 2544, 411, ...          2.27   \n",
       "\n",
       "   n_tokens_labels  n_tokens_teacher  diff_n_tokens  gzip_ratio  \\\n",
       "0               14                15              1    0.757143   \n",
       "1                4                 4              0    0.090909   \n",
       "2                5                 5              0    0.200000   \n",
       "3                4                 5              1    0.166667   \n",
       "4               10                12              2    0.600000   \n",
       "\n",
       "   teacher_gzip_ratio  diff_gzip_ratio  n_overlaps  \n",
       "0            0.774648         0.017505           0  \n",
       "1            0.166667         0.075758           0  \n",
       "2            0.259259         0.059259           0  \n",
       "3            0.230769         0.064103           0  \n",
       "4            0.636364         0.036364           0  "
      ]
     },
     "execution_count": 5,
     "metadata": {},
     "output_type": "execute_result"
    }
   ],
   "source": [
    "df = pd.DataFrame({col: ds[col] for col in ds.features.keys() if col != \"audio\"})\n",
    "\n",
    "df.head()"
   ]
  },
  {
   "cell_type": "markdown",
   "id": "68cc9dfb-0fc2-4065-9d8c-1e1f81931a91",
   "metadata": {
    "tags": []
   },
   "source": [
    "## First analysis"
   ]
  },
  {
   "cell_type": "code",
   "execution_count": null,
   "id": "fe7261b5-504f-4dd6-ab20-24a19e6c26a6",
   "metadata": {},
   "outputs": [],
   "source": [
    "dict_string_edit_metrics = get_string_edit_metrics_ortho_and_norm(references=df[\"text\"], predictions=df[\"teacher_text\"], norm_fn=get_whisper_normalizer(\"english\"))\n",
    "\n",
    "dict_string_edit_metrics"
   ]
  },
  {
   "cell_type": "markdown",
   "id": "26ecd33e-9339-4fe0-8b35-8c154fbae495",
   "metadata": {},
   "source": [
    "**Observation:** Using the Whisper normalizer drastically decreased the different string edit metric errors. Since 1-best operated without any normalization, we will focus on the orthographic WER in this study."
   ]
  },
  {
   "cell_type": "code",
   "execution_count": null,
   "id": "ddc1a300-60e8-4c0a-bf09-fee9a12fcd45",
   "metadata": {},
   "outputs": [],
   "source": [
    "plt.figure(figsize=(5, 3))\n",
    "df[\"audio_length\"].plot.hist();"
   ]
  },
  {
   "cell_type": "code",
   "execution_count": null,
   "id": "6ed8dd5d-7ccf-4acd-b8f7-36d4de738333",
   "metadata": {},
   "outputs": [],
   "source": [
    "plt.figure(figsize=(12, 3))\n",
    "sns.boxplot(data=df[[\"n_tokens_labels\", \"n_tokens_teacher\"]], orient=\"h\");"
   ]
  },
  {
   "cell_type": "code",
   "execution_count": null,
   "id": "c7f63d47-75e5-4712-a965-3f3b1dde35f8",
   "metadata": {},
   "outputs": [],
   "source": [
    "x_col = \"n_tokens_labels\"\n",
    "y_col = \"n_tokens_teacher\"\n",
    "\n",
    "sns.jointplot(data=df, x=x_col, y=y_col, alpha=0.5)\n",
    "line_max_coord = min(df[x_col].max(), df[y_col].max())\n",
    "plt.plot([0, line_max_coord], [0, line_max_coord], 'b--', label=r\"$y=x$\")\n",
    "plt.legend()\n",
    "plt.tight_layout()"
   ]
  },
  {
   "cell_type": "code",
   "execution_count": null,
   "id": "43a24f87-7e45-4cfe-ae19-a2ffcfa27b58",
   "metadata": {},
   "outputs": [],
   "source": [
    "plt.figure(figsize=(12, 1.5))\n",
    "sns.boxplot(data=df[[\"diff_n_tokens\"]], orient=\"h\");"
   ]
  },
  {
   "cell_type": "code",
   "execution_count": null,
   "id": "504d2578-773c-42b9-9994-70ba6045ddbd",
   "metadata": {},
   "outputs": [],
   "source": [
    "plt.figure(figsize=(12, 1.5))\n",
    "sns.boxplot(data=df[[\"diff_n_tokens\"]], orient=\"h\")\n",
    "plt.xlim(-50, 50);"
   ]
  },
  {
   "cell_type": "code",
   "execution_count": null,
   "id": "0e8c8f24-3dae-4682-a25a-75187fe6f04f",
   "metadata": {},
   "outputs": [],
   "source": [
    "sns.scatterplot(data=df, x=\"audio_length\", y=\"diff_n_tokens\");"
   ]
  },
  {
   "cell_type": "code",
   "execution_count": null,
   "id": "d8ae2b97-b1e8-4e65-9808-3bdfb246f4b0",
   "metadata": {},
   "outputs": [],
   "source": [
    "fig, axis = plt.subplots(1, 2, figsize=(8, 3), sharey=True)\n",
    "sns.scatterplot(data=df, x=\"audio_length\", y=\"n_tokens_labels\", label=\"Labels\", alpha=0.2, ax=axis[0])\n",
    "sns.scatterplot(data=df, x=\"audio_length\", y=\"n_tokens_teacher\", label=\"Predictions\", c=\"coral\", alpha=0.2, ax=axis[1])\n",
    "axis[0].set_ylabel(\"n_tokens\")\n",
    "fig.tight_layout()"
   ]
  },
  {
   "cell_type": "markdown",
   "id": "ee745990-6031-46fc-93b2-b7feb5bf598c",
   "metadata": {},
   "source": [
    "## Criteria for filtering"
   ]
  },
  {
   "cell_type": "markdown",
   "id": "875449e1-94be-44e7-a5f9-1b039029a66d",
   "metadata": {
    "jp-MarkdownHeadingCollapsed": true,
    "tags": []
   },
   "source": [
    "### Difference in number of tokens"
   ]
  },
  {
   "cell_type": "code",
   "execution_count": null,
   "id": "fc87c4c7-9d5c-432f-b5ba-dc7359a0cf50",
   "metadata": {},
   "outputs": [],
   "source": [
    "THRESH_DELTA_N_TOKENS = int(df[\"diff_n_tokens\"].mean() + 1.5 * df[\"diff_n_tokens\"].std())\n",
    "THRESH_DELTA_N_TOKENS"
   ]
  },
  {
   "cell_type": "code",
   "execution_count": null,
   "id": "c7f0679b-a359-4a2c-a2b7-899989a0fccb",
   "metadata": {},
   "outputs": [],
   "source": [
    "# Define the columns to use for the plot\n",
    "x_col = \"n_tokens_labels\"\n",
    "y_col = \"n_tokens_teacher\"\n",
    "\n",
    "# Define the value of delta\n",
    "delta = THRESH_DELTA_N_TOKENS\n",
    "\n",
    "# Create the joint plot\n",
    "sns.jointplot(data=df, x=x_col, y=y_col, alpha=0.5)\n",
    "\n",
    "# Plot the line y = x + delta\n",
    "plt.plot([df[x_col].min(), df[x_col].max()], [df[x_col].min() + delta, df[x_col].max() + delta], 'r--', label=r\"$y = x + \\delta$\")\n",
    "\n",
    "# Fill the area above the line y = x + delta\n",
    "plt.fill_between([0, df[x_col].max()],\n",
    "                 [0 + delta, df[x_col].max() + delta], df[y_col].max(),\n",
    "                 alpha=0.2,\n",
    "                 color=\"red\")\n",
    "\n",
    "# Plot the line y = x\n",
    "plt.plot([df[x_col].min(), df[x_col].max()], [df[x_col].min(), df[x_col].max()], 'k--', label=r\"$y = x$\")\n",
    "\n",
    "# Add legend and set axis limits\n",
    "plt.legend()\n",
    "plt.xlim(0, df[x_col].max())\n",
    "plt.ylim(0, df[y_col].max())\n",
    "\n",
    "# Adjust the layout and show the plot\n",
    "plt.tight_layout()\n",
    "plt.show()"
   ]
  },
  {
   "cell_type": "code",
   "execution_count": null,
   "id": "b9559627-a069-4a43-bdc6-7446c180534a",
   "metadata": {},
   "outputs": [],
   "source": [
    "# Define the columns to use for the plot\n",
    "x_col = \"n_tokens_labels\"\n",
    "y_col = \"n_tokens_teacher\"\n",
    "\n",
    "# Define the value of delta\n",
    "delta = THRESH_DELTA_N_TOKENS\n",
    "\n",
    "# Create the joint plot\n",
    "sns.jointplot(data=df, x=x_col, y=y_col, alpha=0.5)\n",
    "\n",
    "# Plot the line y = x + delta\n",
    "plt.plot([df[x_col].min(), df[x_col].max()], [df[x_col].min() + delta, df[x_col].max() + delta], 'r--', label=r\"$y = x + \\delta$\")\n",
    "\n",
    "# Fill the area above the line y = x + delta\n",
    "plt.fill_between([0, df[x_col].max()],\n",
    "                 [0 + delta, df[x_col].max() + delta], df[y_col].max(),\n",
    "                 alpha=0.2,\n",
    "                 color=\"red\")\n",
    "\n",
    "# Plot the line y = x\n",
    "plt.plot([df[x_col].min(), df[x_col].max()], [df[x_col].min(), df[x_col].max()], 'k--', label=r\"$y = x$\")\n",
    "\n",
    "# Add legend and set axis limits\n",
    "plt.legend()\n",
    "line_max_coord = min(df[x_col].max(), df[y_col].max())\n",
    "plt.xlim(0, line_max_coord)\n",
    "plt.ylim(0, line_max_coord)\n",
    "\n",
    "# Adjust the layout and show the plot\n",
    "plt.tight_layout()\n",
    "plt.show()"
   ]
  },
  {
   "cell_type": "code",
   "execution_count": null,
   "id": "f6a389ff-aa89-4b87-ac0c-ddcfc1a7b1bf",
   "metadata": {
    "tags": []
   },
   "outputs": [],
   "source": [
    "plt.figure(figsize=(6, 6))\n",
    "\n",
    "# create a histogram of the \"diff_n_tokens\" column\n",
    "sns.histplot(data=df, x=\"diff_n_tokens\", bins=100)\n",
    "\n",
    "# shade the area that will be filtered out in red\n",
    "plt.axvspan(THRESH_DELTA_N_TOKENS, df[\"diff_n_tokens\"].max(), color='red', alpha=0.2, label=\"Filtered out\")\n",
    "\n",
    "plt.legend()\n",
    "plt.xlim(-20, 50)\n",
    "\n",
    "# show the plot\n",
    "plt.tight_layout()\n",
    "plt.show()"
   ]
  },
  {
   "cell_type": "code",
   "execution_count": null,
   "id": "9e28e4c4-5b4a-4c51-9272-8c8361cf8ff5",
   "metadata": {
    "tags": []
   },
   "outputs": [],
   "source": [
    "df[\"high_diff_n_tokens\"] = (df[\"diff_n_tokens\"] > THRESH_DELTA_N_TOKENS)\n",
    "\n",
    "df[\"high_diff_n_tokens\"].value_counts()"
   ]
  },
  {
   "cell_type": "code",
   "execution_count": null,
   "id": "bd531e67-f225-4e22-8aee-4878f2f11308",
   "metadata": {
    "scrolled": true,
    "tags": []
   },
   "outputs": [],
   "source": [
    "df_candidates = df[df[\"high_diff_n_tokens\"]]\n",
    "\n",
    "for idx in range(len(df_candidates)):\n",
    "    print(f\"Idx = {df_candidates.iloc[idx].name}\")\n",
    "    print(\"Reference: \", df_candidates.iloc[idx][\"text\"])\n",
    "    print(\"Prediction: \", df_candidates.iloc[idx][\"teacher_text\"])\n",
    "    print()"
   ]
  },
  {
   "cell_type": "code",
   "execution_count": null,
   "id": "71271a66-cb41-47d3-ab0d-b42b2c14063e",
   "metadata": {},
   "outputs": [],
   "source": [
    "list_idx_to_listen = df_candidates.index[:5]\n",
    "\n",
    "listen_to_audio(ds, list_idx_to_listen, pred_col=\"teacher_text\")"
   ]
  },
  {
   "cell_type": "code",
   "execution_count": null,
   "id": "ce8724e9-015d-4b7c-b238-8c2dbef00d88",
   "metadata": {},
   "outputs": [],
   "source": [
    "eval_filter_criterion(ds, filter_fn=lambda x: x[\"diff_n_tokens\"] <= THRESH_DELTA_N_TOKENS)"
   ]
  },
  {
   "cell_type": "markdown",
   "id": "85d30383-4b08-4c06-975c-0c673d146eeb",
   "metadata": {},
   "source": [
    "**Observation:** Good criterion. Note that this also tackles the fact that the vanilla Whisper models tend to transcribe even the speeches in the background. By removing them from the training set, we hope to teach Whisper to only focus on the main speaker."
   ]
  },
  {
   "cell_type": "markdown",
   "id": "ff6ede1f-cff9-4234-aa4e-0b1bbdccf486",
   "metadata": {
    "tags": []
   },
   "source": [
    "### gzip compression ratio"
   ]
  },
  {
   "cell_type": "code",
   "execution_count": null,
   "id": "c41f7979-fcf7-41fa-adb0-71eba10ee614",
   "metadata": {},
   "outputs": [],
   "source": [
    "# Quick example to confirm the intuition:\n",
    "ref = \"yeah so uh what we'll do is uh\"\n",
    "pred = \"so, what we will do is, we will do is, we will do is, we will do is, we will do is,\"\n",
    "\n",
    "print(\"gzip ratios:\")\n",
    "print(\"- reference: \", compute_gzip_compression_ratio(ref))\n",
    "print(\"- prediction: \", compute_gzip_compression_ratio(pred))"
   ]
  },
  {
   "cell_type": "code",
   "execution_count": null,
   "id": "5168f051-c3ff-47a5-bc3f-425fc443c8a8",
   "metadata": {},
   "outputs": [],
   "source": [
    "df.columns"
   ]
  },
  {
   "cell_type": "code",
   "execution_count": null,
   "id": "202b8879-7b01-42e4-90b2-3b7d739bd927",
   "metadata": {},
   "outputs": [],
   "source": [
    "x_col = \"gzip_ratio\"\n",
    "y_col = \"teacher_gzip_ratio\"\n",
    "\n",
    "sns.jointplot(data=df, x=x_col, y=y_col, alpha=0.5)\n",
    "line_max_coord = min(df[x_col].max(), df[y_col].max())\n",
    "plt.plot([0, line_max_coord], [0, line_max_coord], 'b--', label=r\"$y=x$\")\n",
    "plt.legend()\n",
    "# plt.xlim(-1, line_max_coord)\n",
    "# plt.ylim(-1, line_max_coord)\n",
    "plt.tight_layout()"
   ]
  },
  {
   "cell_type": "code",
   "execution_count": null,
   "id": "5ab9eb97-955d-4cf3-b1e1-3a89f5c8ba11",
   "metadata": {},
   "outputs": [],
   "source": [
    "x_col = \"gzip_ratio\"\n",
    "y_col = \"teacher_gzip_ratio\"\n",
    "\n",
    "sns.jointplot(data=df, x=x_col, y=y_col, alpha=0.5)\n",
    "line_max_coord = min(df[x_col].max(), df[y_col].max())\n",
    "plt.plot([0, line_max_coord], [0, line_max_coord], 'b--', label=r\"$y=x$\")\n",
    "plt.legend()\n",
    "plt.xlim(0, line_max_coord)\n",
    "plt.ylim(0, 2.5)\n",
    "plt.tight_layout()"
   ]
  },
  {
   "cell_type": "code",
   "execution_count": null,
   "id": "92f2f39d-e3f4-4be5-96ea-3e7e2fe7e03f",
   "metadata": {},
   "outputs": [],
   "source": [
    "plt.figure(figsize=(12, 1.5))\n",
    "sns.boxplot(data=df[[\"diff_gzip_ratio\"]], orient=\"h\");"
   ]
  },
  {
   "cell_type": "code",
   "execution_count": null,
   "id": "20c33b57-ee4d-4a53-b6ba-c4a34757194b",
   "metadata": {},
   "outputs": [],
   "source": [
    "THRESH_DIFF_GZIP = df[\"diff_gzip_ratio\"].mean() + 1.5 * df[\"diff_gzip_ratio\"].std()\n",
    "\n",
    "THRESH_DIFF_GZIP"
   ]
  },
  {
   "cell_type": "code",
   "execution_count": null,
   "id": "d0bc64cd-3120-4465-9931-ed8fb915ed3f",
   "metadata": {},
   "outputs": [],
   "source": [
    "# Define the columns to use for the plot\n",
    "x_col = \"gzip_ratio\"\n",
    "y_col = \"teacher_gzip_ratio\"\n",
    "\n",
    "\n",
    "# Define the value of delta\n",
    "delta = THRESH_DIFF_GZIP\n",
    "\n",
    "# Create the joint plot\n",
    "sns.jointplot(data=df, x=x_col, y=y_col, alpha=0.5)\n",
    "\n",
    "# Plot the line y = x + delta\n",
    "plt.plot([df[x_col].min(), df[x_col].max()], [df[x_col].min() + delta, df[x_col].max() + delta], 'r--', label=r\"$y = x + \\delta$\")\n",
    "\n",
    "# Fill the area above the line y = x + delta\n",
    "plt.fill_between([0, df[x_col].max()],\n",
    "                 [0 + delta, df[x_col].max() + delta], df[y_col].max(),\n",
    "                 alpha=0.2,\n",
    "                 color=\"red\")\n",
    "\n",
    "# Plot the line y = x\n",
    "plt.plot([df[x_col].min(), df[x_col].max()], [df[x_col].min(), df[x_col].max()], 'k--', label=r\"$y = x$\")\n",
    "\n",
    "# Plot the line y = x - delta\n",
    "plt.plot([df[x_col].min(), df[x_col].max()], [df[x_col].min() - delta, df[x_col].max() - delta], 'r--', label=r\"$y = x - \\delta$\")\n",
    "\n",
    "# Fill the area below the line y = x - delta\n",
    "plt.fill_between([0, df[x_col].max()],\n",
    "                 [0 - delta, df[x_col].max() - delta], df[y_col].min(),\n",
    "                 alpha=0.2,\n",
    "                 color=\"red\")\n",
    "\n",
    "# Add legend and set axis limits\n",
    "plt.legend()\n",
    "plt.xlim(0, df[x_col].max())\n",
    "plt.ylim(0, df[y_col].max())\n",
    "\n",
    "# Adjust the layout and show the plot\n",
    "plt.tight_layout()\n",
    "plt.show()"
   ]
  },
  {
   "cell_type": "code",
   "execution_count": null,
   "id": "8db713e5-41bc-4332-9bba-a71dc8551e57",
   "metadata": {},
   "outputs": [],
   "source": [
    "# Define the columns to use for the plot\n",
    "x_col = \"gzip_ratio\"\n",
    "y_col = \"teacher_gzip_ratio\"\n",
    "\n",
    "\n",
    "# Define the value of delta\n",
    "delta = THRESH_DIFF_GZIP\n",
    "\n",
    "# Create the joint plot\n",
    "sns.jointplot(data=df, x=x_col, y=y_col, alpha=0.5)\n",
    "\n",
    "# Plot the line y = x + delta\n",
    "plt.plot([df[x_col].min(), df[x_col].max()], [df[x_col].min() + delta, df[x_col].max() + delta], 'r--', label=r\"$y = x + \\delta$\")\n",
    "\n",
    "# Fill the area above the line y = x + delta\n",
    "plt.fill_between([0, df[x_col].max()],\n",
    "                 [0 + delta, df[x_col].max() + delta], df[y_col].max(),\n",
    "                 alpha=0.2,\n",
    "                 color=\"red\")\n",
    "\n",
    "# Plot the line y = x\n",
    "plt.plot([df[x_col].min(), df[x_col].max()], [df[x_col].min(), df[x_col].max()], 'k--', label=r\"$y = x$\")\n",
    "\n",
    "# Plot the line y = x - delta\n",
    "plt.plot([df[x_col].min(), df[x_col].max()], [df[x_col].min() - delta, df[x_col].max() - delta], 'r--', label=r\"$y = x - \\delta$\")\n",
    "\n",
    "# Fill the area below the line y = x - delta\n",
    "plt.fill_between([0, df[x_col].max()],\n",
    "                 [0 - delta, df[x_col].max() - delta], df[y_col].min(),\n",
    "                 alpha=0.2,\n",
    "                 color=\"red\")\n",
    "\n",
    "# Add legend and set axis limits\n",
    "plt.legend()\n",
    "line_max_coord = min(df[x_col].max(), df[y_col].max())\n",
    "plt.xlim(0, line_max_coord)\n",
    "plt.ylim(0, line_max_coord)\n",
    "\n",
    "# Adjust the layout and show the plot\n",
    "plt.tight_layout()\n",
    "plt.show()"
   ]
  },
  {
   "cell_type": "code",
   "execution_count": null,
   "id": "e527fc33-8c81-4564-933b-cf21ce39de27",
   "metadata": {},
   "outputs": [],
   "source": [
    "plt.figure(figsize=(6, 6))\n",
    "\n",
    "# create a histogram of the \"diff_n_tokens\" column\n",
    "sns.histplot(data=df, x=\"diff_gzip_ratio\", bins=200)\n",
    "\n",
    "# shade the area that will be filtered out in red\n",
    "plt.axvspan(THRESH_DIFF_GZIP, df[\"diff_gzip_ratio\"].max(), color='red', alpha=0.2, label=\"Filtered out\")\n",
    "plt.axvspan(-THRESH_DIFF_GZIP, df[\"diff_gzip_ratio\"].min(), color='red', alpha=0.2)\n",
    "\n",
    "plt.legend()\n",
    "plt.xlim(-1, 1)\n",
    "\n",
    "# show the plot\n",
    "plt.tight_layout()\n",
    "plt.show()"
   ]
  },
  {
   "cell_type": "code",
   "execution_count": null,
   "id": "d476c978-ad61-4de8-95f6-2275a5763c7a",
   "metadata": {
    "scrolled": true,
    "tags": []
   },
   "outputs": [],
   "source": [
    "df_candidates = df[df[\"diff_gzip_ratio\"] > THRESH_DIFF_GZIP]\n",
    "\n",
    "for idx in range(len(df_candidates)):\n",
    "    print(f\"Idx = {df_candidates.iloc[idx].name}\")\n",
    "    print(\"Reference: \", df_candidates.iloc[idx][\"text\"])\n",
    "    print(\"Prediction: \", df_candidates.iloc[idx][\"teacher_text\"])\n",
    "    print()"
   ]
  },
  {
   "cell_type": "code",
   "execution_count": null,
   "id": "fb359f49-30a4-4c0f-bcbb-60ae130be5c3",
   "metadata": {
    "scrolled": true,
    "tags": []
   },
   "outputs": [],
   "source": [
    "df_candidates = df[df[\"diff_gzip_ratio\"] < - THRESH_DIFF_GZIP]\n",
    "\n",
    "for idx in range(len(df_candidates)):\n",
    "    print(f\"Idx = {df_candidates.iloc[idx].name}\")\n",
    "    print(\"Reference: \", df_candidates.iloc[idx][\"text\"])\n",
    "    print(\"Prediction: \", df_candidates.iloc[idx][\"teacher_text\"])\n",
    "    print()"
   ]
  },
  {
   "cell_type": "code",
   "execution_count": null,
   "id": "9fbaa288-ae07-40c5-ade7-e66854617eed",
   "metadata": {},
   "outputs": [],
   "source": [
    "eval_filter_criterion(ds, filter_fn=lambda x: np.abs(x[\"diff_gzip_ratio\"]) <= THRESH_DIFF_GZIP)"
   ]
  },
  {
   "cell_type": "markdown",
   "id": "fab267ec-f63d-4246-a881-20ffa6c38f96",
   "metadata": {
    "tags": []
   },
   "source": [
    "### Timestamp overlaps"
   ]
  },
  {
   "cell_type": "code",
   "execution_count": null,
   "id": "1d94ffdc-fff4-474b-aff8-2b5df5eb351e",
   "metadata": {},
   "outputs": [],
   "source": [
    "df[\"n_overlaps\"].value_counts()"
   ]
  },
  {
   "cell_type": "code",
   "execution_count": null,
   "id": "0f30ae6a-f95f-4c5f-9804-9ffc068762dd",
   "metadata": {
    "scrolled": true,
    "tags": []
   },
   "outputs": [],
   "source": [
    "ds_candidate = ds.filter(lambda x: x[\"n_overlaps\"] > 0)\n",
    "\n",
    "for idx, row in enumerate(ds_candidate):\n",
    "    print(\"Index: \", idx)\n",
    "    print(\"Reference: \", row[\"text\"])\n",
    "    print(\"Pred: \", row[\"teacher_text\"])\n",
    "    print()"
   ]
  },
  {
   "cell_type": "code",
   "execution_count": null,
   "id": "74b69602-766a-4dfd-b959-4a9d86d292fc",
   "metadata": {},
   "outputs": [],
   "source": [
    "eval_filter_criterion(ds, filter_fn=lambda x: x[\"n_overlaps\"] == 0)"
   ]
  },
  {
   "cell_type": "code",
   "execution_count": null,
   "id": "14547bd2-34a3-4e2f-b6a3-3d1ea20933e3",
   "metadata": {},
   "outputs": [],
   "source": []
  }
 ],
 "metadata": {
  "kernelspec": {
   "display_name": "Python 3 (ipykernel)",
   "language": "python",
   "name": "python3"
  },
  "language_info": {
   "codemirror_mode": {
    "name": "ipython",
    "version": 3
   },
   "file_extension": ".py",
   "mimetype": "text/x-python",
   "name": "python",
   "nbconvert_exporter": "python",
   "pygments_lexer": "ipython3",
   "version": "3.10.11"
  }
 },
 "nbformat": 4,
 "nbformat_minor": 5
}
