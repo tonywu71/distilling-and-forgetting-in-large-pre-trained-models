{
 "cells": [
  {
   "cell_type": "markdown",
   "id": "c7a9a03b-f2b5-450c-a9b7-95b16d5f9321",
   "metadata": {},
   "source": [
    "## Imports"
   ]
  },
  {
   "cell_type": "code",
   "execution_count": 1,
   "id": "64279818-51a5-4fe5-a8b4-3bb94dd517fd",
   "metadata": {},
   "outputs": [],
   "source": [
    "%load_ext autoreload\n",
    "%autoreload 2"
   ]
  },
  {
   "cell_type": "code",
   "execution_count": 2,
   "id": "c66ce253-cf2e-4ffe-947a-125764b01e0f",
   "metadata": {},
   "outputs": [
    {
     "name": "stdout",
     "output_type": "stream",
     "text": [
      "/Users/Tony/Other Docs/distilling-and-forgetting-in-large-pre-trained-models\n"
     ]
    }
   ],
   "source": [
    "%cd ..\n",
    "import os, sys\n",
    "sys.path.insert(0, os.path.dirname(os.path.dirname(os.path.abspath(os.getcwd()))))"
   ]
  },
  {
   "cell_type": "code",
   "execution_count": 3,
   "id": "5e41b745-6962-4973-bc69-5066f3bf61fb",
   "metadata": {},
   "outputs": [],
   "source": [
    "import pandas as pd"
   ]
  },
  {
   "cell_type": "code",
   "execution_count": 4,
   "id": "e3044f74-d962-4b52-80d1-8a33264a1e0b",
   "metadata": {},
   "outputs": [
    {
     "data": {
      "text/html": [
       "<div>\n",
       "<style scoped>\n",
       "    .dataframe tbody tr th:only-of-type {\n",
       "        vertical-align: middle;\n",
       "    }\n",
       "\n",
       "    .dataframe tbody tr th {\n",
       "        vertical-align: top;\n",
       "    }\n",
       "\n",
       "    .dataframe thead th {\n",
       "        text-align: right;\n",
       "    }\n",
       "</style>\n",
       "<table border=\"1\" class=\"dataframe\">\n",
       "  <thead>\n",
       "    <tr style=\"text-align: right;\">\n",
       "      <th></th>\n",
       "      <th>param_name</th>\n",
       "      <th>mean_fisher_importance</th>\n",
       "    </tr>\n",
       "  </thead>\n",
       "  <tbody>\n",
       "    <tr>\n",
       "      <th>0</th>\n",
       "      <td>model.decoder.embed_positions.weight</td>\n",
       "      <td>332381.468750</td>\n",
       "    </tr>\n",
       "    <tr>\n",
       "      <th>1</th>\n",
       "      <td>model.decoder.embed_tokens.weight</td>\n",
       "      <td>7163.888184</td>\n",
       "    </tr>\n",
       "    <tr>\n",
       "      <th>2</th>\n",
       "      <td>model.decoder.layer_norm.bias</td>\n",
       "      <td>1065.960083</td>\n",
       "    </tr>\n",
       "    <tr>\n",
       "      <th>3</th>\n",
       "      <td>model.decoder.layer_norm.weight</td>\n",
       "      <td>22846.875000</td>\n",
       "    </tr>\n",
       "    <tr>\n",
       "      <th>4</th>\n",
       "      <td>model.decoder.layers.0.encoder_attn.k_proj.weight</td>\n",
       "      <td>36994.914062</td>\n",
       "    </tr>\n",
       "    <tr>\n",
       "      <th>...</th>\n",
       "      <td>...</td>\n",
       "      <td>...</td>\n",
       "    </tr>\n",
       "    <tr>\n",
       "      <th>162</th>\n",
       "      <td>model.encoder.layers.3.self_attn.q_proj.weight</td>\n",
       "      <td>529.144348</td>\n",
       "    </tr>\n",
       "    <tr>\n",
       "      <th>163</th>\n",
       "      <td>model.encoder.layers.3.self_attn.v_proj.bias</td>\n",
       "      <td>17841.486328</td>\n",
       "    </tr>\n",
       "    <tr>\n",
       "      <th>164</th>\n",
       "      <td>model.encoder.layers.3.self_attn.v_proj.weight</td>\n",
       "      <td>11260.207031</td>\n",
       "    </tr>\n",
       "    <tr>\n",
       "      <th>165</th>\n",
       "      <td>model.encoder.layers.3.self_attn_layer_norm.bias</td>\n",
       "      <td>4983.273926</td>\n",
       "    </tr>\n",
       "    <tr>\n",
       "      <th>166</th>\n",
       "      <td>model.encoder.layers.3.self_attn_layer_norm.we...</td>\n",
       "      <td>3999.410400</td>\n",
       "    </tr>\n",
       "  </tbody>\n",
       "</table>\n",
       "<p>167 rows × 2 columns</p>\n",
       "</div>"
      ],
      "text/plain": [
       "                                            param_name  mean_fisher_importance\n",
       "0                 model.decoder.embed_positions.weight           332381.468750\n",
       "1                    model.decoder.embed_tokens.weight             7163.888184\n",
       "2                        model.decoder.layer_norm.bias             1065.960083\n",
       "3                      model.decoder.layer_norm.weight            22846.875000\n",
       "4    model.decoder.layers.0.encoder_attn.k_proj.weight            36994.914062\n",
       "..                                                 ...                     ...\n",
       "162     model.encoder.layers.3.self_attn.q_proj.weight              529.144348\n",
       "163       model.encoder.layers.3.self_attn.v_proj.bias            17841.486328\n",
       "164     model.encoder.layers.3.self_attn.v_proj.weight            11260.207031\n",
       "165   model.encoder.layers.3.self_attn_layer_norm.bias             4983.273926\n",
       "166  model.encoder.layers.3.self_attn_layer_norm.we...             3999.410400\n",
       "\n",
       "[167 rows x 2 columns]"
      ]
     },
     "execution_count": 4,
     "metadata": {},
     "output_type": "execute_result"
    }
   ],
   "source": [
    "df = pd.read_csv(\"outputs/ewc_fisher_params.csv\")\n",
    "\n",
    "df"
   ]
  },
  {
   "cell_type": "code",
   "execution_count": 5,
   "id": "60a00379-9cca-4f2c-bbf4-b7b70f4cddfb",
   "metadata": {},
   "outputs": [
    {
     "data": {
      "text/html": [
       "<div>\n",
       "<style scoped>\n",
       "    .dataframe tbody tr th:only-of-type {\n",
       "        vertical-align: middle;\n",
       "    }\n",
       "\n",
       "    .dataframe tbody tr th {\n",
       "        vertical-align: top;\n",
       "    }\n",
       "\n",
       "    .dataframe thead th {\n",
       "        text-align: right;\n",
       "    }\n",
       "</style>\n",
       "<table border=\"1\" class=\"dataframe\">\n",
       "  <thead>\n",
       "    <tr style=\"text-align: right;\">\n",
       "      <th></th>\n",
       "      <th>param_name</th>\n",
       "      <th>mean_fisher_importance</th>\n",
       "      <th>0</th>\n",
       "      <th>1</th>\n",
       "      <th>2</th>\n",
       "      <th>3</th>\n",
       "      <th>4</th>\n",
       "      <th>5</th>\n",
       "      <th>6</th>\n",
       "    </tr>\n",
       "  </thead>\n",
       "  <tbody>\n",
       "    <tr>\n",
       "      <th>0</th>\n",
       "      <td>model.decoder.embed_positions.weight</td>\n",
       "      <td>332381.468750</td>\n",
       "      <td>model</td>\n",
       "      <td>decoder</td>\n",
       "      <td>embed_positions</td>\n",
       "      <td>weight</td>\n",
       "      <td>None</td>\n",
       "      <td>None</td>\n",
       "      <td>None</td>\n",
       "    </tr>\n",
       "    <tr>\n",
       "      <th>1</th>\n",
       "      <td>model.decoder.embed_tokens.weight</td>\n",
       "      <td>7163.888184</td>\n",
       "      <td>model</td>\n",
       "      <td>decoder</td>\n",
       "      <td>embed_tokens</td>\n",
       "      <td>weight</td>\n",
       "      <td>None</td>\n",
       "      <td>None</td>\n",
       "      <td>None</td>\n",
       "    </tr>\n",
       "    <tr>\n",
       "      <th>2</th>\n",
       "      <td>model.decoder.layer_norm.bias</td>\n",
       "      <td>1065.960083</td>\n",
       "      <td>model</td>\n",
       "      <td>decoder</td>\n",
       "      <td>layer_norm</td>\n",
       "      <td>bias</td>\n",
       "      <td>None</td>\n",
       "      <td>None</td>\n",
       "      <td>None</td>\n",
       "    </tr>\n",
       "    <tr>\n",
       "      <th>3</th>\n",
       "      <td>model.decoder.layer_norm.weight</td>\n",
       "      <td>22846.875000</td>\n",
       "      <td>model</td>\n",
       "      <td>decoder</td>\n",
       "      <td>layer_norm</td>\n",
       "      <td>weight</td>\n",
       "      <td>None</td>\n",
       "      <td>None</td>\n",
       "      <td>None</td>\n",
       "    </tr>\n",
       "    <tr>\n",
       "      <th>4</th>\n",
       "      <td>model.decoder.layers.0.encoder_attn.k_proj.weight</td>\n",
       "      <td>36994.914062</td>\n",
       "      <td>model</td>\n",
       "      <td>decoder</td>\n",
       "      <td>layers</td>\n",
       "      <td>0</td>\n",
       "      <td>encoder_attn</td>\n",
       "      <td>k_proj</td>\n",
       "      <td>weight</td>\n",
       "    </tr>\n",
       "  </tbody>\n",
       "</table>\n",
       "</div>"
      ],
      "text/plain": [
       "                                          param_name  mean_fisher_importance  \\\n",
       "0               model.decoder.embed_positions.weight           332381.468750   \n",
       "1                  model.decoder.embed_tokens.weight             7163.888184   \n",
       "2                      model.decoder.layer_norm.bias             1065.960083   \n",
       "3                    model.decoder.layer_norm.weight            22846.875000   \n",
       "4  model.decoder.layers.0.encoder_attn.k_proj.weight            36994.914062   \n",
       "\n",
       "       0        1                2       3             4       5       6  \n",
       "0  model  decoder  embed_positions  weight          None    None    None  \n",
       "1  model  decoder     embed_tokens  weight          None    None    None  \n",
       "2  model  decoder       layer_norm    bias          None    None    None  \n",
       "3  model  decoder       layer_norm  weight          None    None    None  \n",
       "4  model  decoder           layers       0  encoder_attn  k_proj  weight  "
      ]
     },
     "execution_count": 5,
     "metadata": {},
     "output_type": "execute_result"
    }
   ],
   "source": [
    "df_param_name = df[\"param_name\"].str.split(\".\", expand=True)\n",
    "df = pd.concat([df, df_param_name], axis=1)\n",
    "\n",
    "df.head()"
   ]
  },
  {
   "cell_type": "code",
   "execution_count": 6,
   "id": "d5af1dcc-e3a0-43b8-9fdb-3a1886ea160a",
   "metadata": {},
   "outputs": [
    {
     "data": {
      "text/plain": [
       "decoder    100\n",
       "encoder     67\n",
       "Name: 1, dtype: int64"
      ]
     },
     "execution_count": 6,
     "metadata": {},
     "output_type": "execute_result"
    }
   ],
   "source": [
    "df[1].value_counts()"
   ]
  },
  {
   "cell_type": "code",
   "execution_count": 7,
   "id": "d2d7f5e9-8250-433a-afad-41e8cde7d6f9",
   "metadata": {},
   "outputs": [
    {
     "data": {
      "text/plain": [
       "layers             156\n",
       "layer_norm           4\n",
       "embed_positions      2\n",
       "conv1                2\n",
       "conv2                2\n",
       "embed_tokens         1\n",
       "Name: 2, dtype: int64"
      ]
     },
     "execution_count": 7,
     "metadata": {},
     "output_type": "execute_result"
    }
   ],
   "source": [
    "df[2].value_counts()"
   ]
  },
  {
   "cell_type": "markdown",
   "id": "0bc0fef7-5197-418d-a14a-fd802246f9f8",
   "metadata": {},
   "source": [
    "## Analysis"
   ]
  },
  {
   "cell_type": "code",
   "execution_count": 8,
   "id": "214aa30e-4aa2-4a62-a980-d943d15c402e",
   "metadata": {},
   "outputs": [
    {
     "data": {
      "text/plain": [
       "1\n",
       "decoder    449120.222342\n",
       "encoder     22960.213586\n",
       "Name: mean_fisher_importance, dtype: float64"
      ]
     },
     "execution_count": 8,
     "metadata": {},
     "output_type": "execute_result"
    }
   ],
   "source": [
    "df.groupby(1)[\"mean_fisher_importance\"].mean()"
   ]
  },
  {
   "cell_type": "code",
   "execution_count": 9,
   "id": "fd1efaf8-d6e7-4a4d-b0c5-4e476ebef7ae",
   "metadata": {},
   "outputs": [
    {
     "data": {
      "image/png": "[encoded data removed]",
      "text/plain": [
       "<Figure size 640x480 with 1 Axes>"
      ]
     },
     "metadata": {},
     "output_type": "display_data"
    }
   ],
   "source": [
    "df.groupby(1)[\"mean_fisher_importance\"].mean().plot.bar();"
   ]
  },
  {
   "cell_type": "code",
   "execution_count": 10,
   "id": "ec0d144e-bddb-4b34-a9f0-febab00ffa03",
   "metadata": {},
   "outputs": [
    {
     "data": {
      "text/plain": [
       "3\n",
       "0         1.321685e+06\n",
       "1         3.698439e+05\n",
       "2         1.339706e+05\n",
       "3         3.069020e+04\n",
       "bias      1.065960e+03\n",
       "weight    1.207974e+05\n",
       "Name: mean_fisher_importance, dtype: float64"
      ]
     },
     "execution_count": 10,
     "metadata": {},
     "output_type": "execute_result"
    }
   ],
   "source": [
    "df[df[1]==\"decoder\"].groupby(3)[\"mean_fisher_importance\"].mean()"
   ]
  },
  {
   "cell_type": "code",
   "execution_count": 11,
   "id": "6544fd78-f86f-43ae-acc4-bdb437ee69e6",
   "metadata": {},
   "outputs": [
    {
     "data": {
      "image/png": "[encoded data removed]",
      "text/plain": [
       "<Figure size 640x480 with 1 Axes>"
      ]
     },
     "metadata": {},
     "output_type": "display_data"
    }
   ],
   "source": [
    "df[df[1]==\"decoder\"].groupby(3)[\"mean_fisher_importance\"].mean().plot.bar();"
   ]
  },
  {
   "cell_type": "code",
   "execution_count": null,
   "id": "f2bbcf9c-61bd-4d1e-b24c-14a4d2d9be81",
   "metadata": {},
   "outputs": [],
   "source": []
  }
 ],
 "metadata": {
  "kernelspec": {
   "display_name": "Python 3 (ipykernel)",
   "language": "python",
   "name": "python3"
  },
  "language_info": {
   "codemirror_mode": {
    "name": "ipython",
    "version": 3
   },
   "file_extension": ".py",
   "mimetype": "text/x-python",
   "name": "python",
   "nbconvert_exporter": "python",
   "pygments_lexer": "ipython3",
   "version": "3.10.11"
  }
 },
 "nbformat": 4,
 "nbformat_minor": 5
}
